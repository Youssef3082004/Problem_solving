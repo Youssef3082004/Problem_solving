{
 "cells": [
  {
   "cell_type": "markdown",
   "id": "901141dd",
   "metadata": {},
   "source": [
    "## 🧠 [Median of Two Sorted Arrays](https://leetcode.com/problems/median-of-two-sorted-arrays/description/)"
   ]
  },
  {
   "cell_type": "code",
   "execution_count": null,
   "id": "45ff48b5",
   "metadata": {},
   "outputs": [],
   "source": [
    "class Solution:\n",
    "    def findMedianSortedArrays(self, nums1: list[int], nums2: list[int]) -> float:\n",
    "        nums = sorted(nums1 + nums2)\n",
    "        n = len(nums)\n",
    "        if n % 2 == 1:\n",
    "            return float(nums[n // 2])\n",
    "        else:\n",
    "            return (nums[n // 2 - 1] + nums[n // 2]) / 2\n",
    "\n",
    "\n",
    "sol = Solution()\n",
    "sol.findMedianSortedArrays([1,2],[3,4])\n"
   ]
  },
  {
   "cell_type": "markdown",
   "id": "094c9572",
   "metadata": {},
   "source": [
    "## 🧠 [first-missing-positive](https://leetcode.com/problems/first-missing-positive/description/)"
   ]
  },
  {
   "cell_type": "code",
   "execution_count": null,
   "id": "1a10fa85",
   "metadata": {},
   "outputs": [],
   "source": [
    "class Solution:\n",
    "    def firstMissingPositive(self, nums: list[int]) -> int:\n",
    "        num_set = set(nums)\n",
    "        for number in range(1, len(nums) + 2):  \n",
    "            if number not in num_set:  \n",
    "                return number\n",
    "\n",
    "sol = Solution()\n",
    "nums = [1,2,0]\n",
    "sol.firstMissingPositive(nums=nums)"
   ]
  },
  {
   "cell_type": "markdown",
   "id": "36555812",
   "metadata": {},
   "source": [
    "## 🧠 [contains-duplicate-iii](https://leetcode.com/problems/contains-duplicate-iii/description/)"
   ]
  },
  {
   "cell_type": "code",
   "execution_count": 1,
   "id": "22a15c33",
   "metadata": {},
   "outputs": [],
   "source": [
    "class Solution:\n",
    "    def containsNearbyAlmostDuplicate(self, nums: list[int], indexDiff: int, valueDiff: int) -> bool:\n",
    "        pass\n",
    "        "
   ]
  }
 ],
 "metadata": {
  "kernelspec": {
   "display_name": "Python 3",
   "language": "python",
   "name": "python3"
  },
  "language_info": {
   "codemirror_mode": {
    "name": "ipython",
    "version": 3
   },
   "file_extension": ".py",
   "mimetype": "text/x-python",
   "name": "python",
   "nbconvert_exporter": "python",
   "pygments_lexer": "ipython3",
   "version": "3.13.1"
  }
 },
 "nbformat": 4,
 "nbformat_minor": 5
}
