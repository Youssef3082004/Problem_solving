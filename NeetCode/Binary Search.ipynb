{
 "cells": [
  {
   "cell_type": "markdown",
   "id": "50dd81e3",
   "metadata": {},
   "source": [
    "## 🧠 [Binary-Search](https://neetcode.io/problems/binary-search?list=neetcode150)"
   ]
  },
  {
   "cell_type": "code",
   "execution_count": null,
   "id": "fd9de8f8",
   "metadata": {},
   "outputs": [
    {
     "data": {
      "text/plain": [
       "3"
      ]
     },
     "execution_count": 8,
     "metadata": {},
     "output_type": "execute_result"
    }
   ],
   "source": [
    "class Solution:\n",
    "    def search(self, nums: list[int], target: int) -> int:\n",
    "        left , right = 0 , len(nums) - 1\n",
    "        while right >= left:\n",
    "            m = (left + right) // 2\n",
    "\n",
    "            if nums[m] == target:\n",
    "                return m \n",
    "            \n",
    "            elif nums[m] > target:\n",
    "                right = m - 1\n",
    "            \n",
    "            elif nums[m] < target:\n",
    "                left = m + 1\n",
    "        \n",
    "        return -1\n",
    "\n",
    "\n",
    "sol = Solution()\n",
    "nums = [-1,0,2,4,6,8]\n",
    "sol.search(nums,4)"
   ]
  }
 ],
 "metadata": {
  "kernelspec": {
   "display_name": "Python 3",
   "language": "python",
   "name": "python3"
  },
  "language_info": {
   "codemirror_mode": {
    "name": "ipython",
    "version": 3
   },
   "file_extension": ".py",
   "mimetype": "text/x-python",
   "name": "python",
   "nbconvert_exporter": "python",
   "pygments_lexer": "ipython3",
   "version": "3.13.1"
  }
 },
 "nbformat": 4,
 "nbformat_minor": 5
}
