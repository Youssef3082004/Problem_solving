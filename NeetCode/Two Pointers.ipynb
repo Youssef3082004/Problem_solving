{
 "cells": [
  {
   "cell_type": "markdown",
   "id": "a2b471ed",
   "metadata": {},
   "source": [
    "## 🧠 [is-palindrome](https://neetcode.io/problems/is-palindrome?list=neetcode150)"
   ]
  },
  {
   "cell_type": "code",
   "execution_count": null,
   "id": "c6de7197",
   "metadata": {},
   "outputs": [
    {
     "data": {
      "text/plain": [
       "True"
      ]
     },
     "execution_count": 8,
     "metadata": {},
     "output_type": "execute_result"
    }
   ],
   "source": [
    "class Solution:\n",
    "    def isPalindrome(self, s: str) -> bool:\n",
    "        word = []\n",
    "        for char in s:\n",
    "            if char.isalnum():\n",
    "                word.append(char.lower())\n",
    "        \n",
    "        return \"\".join(word) == \"\".join(word)[::-1]\n",
    "\n",
    "\n",
    "sol = Solution()\n",
    "s = \"Was it a car or a cat I saw?\"\n",
    "sol.isPalindrome(s)"
   ]
  },
  {
   "cell_type": "markdown",
   "id": "a3f4684a",
   "metadata": {},
   "source": [
    "## 🧠 [two-integer-sum-II](https://neetcode.io/problems/two-integer-sum-ii?list=neetcode150)"
   ]
  },
  {
   "cell_type": "code",
   "execution_count": null,
   "id": "9d359158",
   "metadata": {},
   "outputs": [
    {
     "data": {
      "text/plain": [
       "[1, 2]"
      ]
     },
     "execution_count": 10,
     "metadata": {},
     "output_type": "execute_result"
    }
   ],
   "source": [
    "class Solution:\n",
    "    def twoSum(self, numbers: list[int], target: int) -> list[int]:\n",
    "        left , right = 0 , len(numbers) -1\n",
    "        while right > left:\n",
    "            total = numbers[left] + numbers[right]\n",
    "            if total ==  target:\n",
    "                return[left+1 , right+1]\n",
    "            elif total < target:\n",
    "                left +=1  \n",
    "            else:\n",
    "                right -= 1\n",
    "            \n",
    "sol = Solution()\n",
    "sol.twoSum(numbers = [1,2,3,4], target = 3)\n",
    "        "
   ]
  }
 ],
 "metadata": {
  "kernelspec": {
   "display_name": "Python 3",
   "language": "python",
   "name": "python3"
  },
  "language_info": {
   "codemirror_mode": {
    "name": "ipython",
    "version": 3
   },
   "file_extension": ".py",
   "mimetype": "text/x-python",
   "name": "python",
   "nbconvert_exporter": "python",
   "pygments_lexer": "ipython3",
   "version": "3.13.1"
  }
 },
 "nbformat": 4,
 "nbformat_minor": 5
}
