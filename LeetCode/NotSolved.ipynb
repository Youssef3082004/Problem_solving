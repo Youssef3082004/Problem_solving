{
 "cells": [
  {
   "cell_type": "markdown",
   "id": "c3dee0f0",
   "metadata": {},
   "source": [
    "## 🧠 [minimum-size-subarray-sum](https://leetcode.com/problems/minimum-size-subarray-sum/description/)"
   ]
  },
  {
   "cell_type": "code",
   "execution_count": null,
   "id": "b97a6b2a",
   "metadata": {},
   "outputs": [],
   "source": [
    "class Solution:\n",
    "    def minSubArrayLen(self, target: int, nums: list[int]) -> int:\n",
    "        left ,right = 0 , len(nums) - 1\n",
    "        nums = sorted(nums)\n",
    "\n",
    "        while left <= right:\n",
    "            m = (left+ right) // 2\n",
    "\n",
    "            print(left ,right)\n",
    "            if sum(nums[left:m]) == target :\n",
    "                return abs(left - m)\n",
    "            \n",
    "            elif sum(nums[left:right]) > target:\n",
    "                right = right - 1\n",
    "            \n",
    "            else:\n",
    "                left = left + 1\n",
    "\n",
    "\n",
    "\n",
    "\n",
    "sol = Solution()\n",
    "target = 7\n",
    "nums = [2,3,1,2,4,3]\n",
    "sol.minSubArrayLen(7,nums)"
   ]
  }
 ],
 "metadata": {
  "kernelspec": {
   "display_name": "Python 3",
   "language": "python",
   "name": "python3"
  },
  "language_info": {
   "name": "python",
   "version": "3.13.1"
  }
 },
 "nbformat": 4,
 "nbformat_minor": 5
}
