{
 "cells": [
  {
   "cell_type": "code",
   "execution_count": 1,
   "id": "67ec0d46",
   "metadata": {},
   "outputs": [
    {
     "name": "stdout",
     "output_type": "stream",
     "text": [
      "3000\n",
      "700\n",
      "40\n",
      "9\n"
     ]
    }
   ],
   "source": [
    "\n",
    "def convert_to_places(num:int):\n",
    "    string_number = str(num)\n",
    "    len_of_numbers = len(string_number)\n",
    "    iter = 0\n",
    "\n",
    "    for num in range(len_of_numbers-1,0,-1):\n",
    "        current_number = int(string_number[iter])\n",
    "        position = 10 ** num\n",
    "        if current_number == 0:\n",
    "            print(position)\n",
    "        else:\n",
    "            numer = current_number * position\n",
    "            print(numer)\n",
    "        iter += 1\n",
    "    else:\n",
    "        print(string_number[-1])\n",
    "\n",
    "\n",
    "convert_to_places(3749)"
   ]
  },
  {
   "cell_type": "code",
   "execution_count": null,
   "id": "db49d32a",
   "metadata": {},
   "outputs": [],
   "source": [
    "from PIL import Image\n",
    "\n",
    "for x in range(1,9):\n",
    "    img = Image.open(fr\"D:\\My Download\\Mobile Application\\SafeHaven APP ({x}).png\")\n",
    "    resized_img = img.resize((1700, 1200))\n",
    "    resized_img = resized_img.convert(\"RGB\")\n",
    "    resized_img.save(fr\"D:\\My Download\\Mobile Application\\SafeHaven APP ({x}).png\")\n"
   ]
  }
 ],
 "metadata": {
  "kernelspec": {
   "display_name": "Python 3",
   "language": "python",
   "name": "python3"
  },
  "language_info": {
   "codemirror_mode": {
    "name": "ipython",
    "version": 3
   },
   "file_extension": ".py",
   "mimetype": "text/x-python",
   "name": "python",
   "nbconvert_exporter": "python",
   "pygments_lexer": "ipython3",
   "version": "3.13.1"
  }
 },
 "nbformat": 4,
 "nbformat_minor": 5
}
