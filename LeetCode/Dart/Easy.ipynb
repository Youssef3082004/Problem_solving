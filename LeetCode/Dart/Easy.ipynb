{
 "cells": [
  {
   "cell_type": "markdown",
   "id": "08b3b824",
   "metadata": {},
   "source": [
    "## 🧠 [count-the-digits-that-divide-a-number](https://leetcode.com/problems/count-the-digits-that-divide-a-number/)\n",
    "\n"
   ]
  },
  {
   "cell_type": "markdown",
   "id": "501d6b4d",
   "metadata": {},
   "source": [
    "```Dart\n",
    "  int countDigits(int num) {\n",
    "    int count = 0;\n",
    "    String numStr = num.abs().toString();\n",
    "    for(int i = 0; i< num.toString().length; i++ ){\n",
    "      int digit = int.parse(numStr[i]);\n",
    "      if (num % digit == 0 && digit != 0){count ++;}\n",
    "    }\n",
    "  return count ;\n",
    "  }\n",
    "\n",
    "```\n",
    "\n",
    "### The more than first \n",
    "\n",
    "```dart\n",
    "class NumberUtils {\n",
    "  static int countDigits(int num) {\n",
    "    int count = 0;\n",
    "    int temp = num.abs(); // handle negatives\n",
    "    int original = temp;\n",
    "\n",
    "    while (temp > 0) {\n",
    "      int digit = temp % 10;\n",
    "      if (digit != 0 && original % digit == 0) {count++;}\n",
    "      temp ~/= 10;\n",
    "    }\n",
    "\n",
    "    return count;\n",
    "  }\n",
    "}\n",
    "\n",
    "\n",
    "```"
   ]
  }
 ],
 "metadata": {
  "language_info": {
   "name": "python"
  }
 },
 "nbformat": 4,
 "nbformat_minor": 5
}
