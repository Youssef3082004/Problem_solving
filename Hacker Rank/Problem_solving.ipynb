{
 "cells": [
  {
   "cell_type": "markdown",
   "id": "5194b163",
   "metadata": {},
   "source": [
    "## 🧠 [mini-max-sum](https://www.hackerrank.com/challenges/mini-max-sum/problem?isFullScreen=true)"
   ]
  },
  {
   "cell_type": "code",
   "execution_count": 8,
   "id": "68693b24",
   "metadata": {},
   "outputs": [
    {
     "name": "stdout",
     "output_type": "stream",
     "text": [
      "10 14\n"
     ]
    }
   ],
   "source": [
    "def miniMaxSum(arr:list):\n",
    "    sorted_array =sorted(arr)\n",
    "    max_numbers = sorted_array[:4]\n",
    "    min_numbers = sorted_array[-4:]\n",
    "    print(sum(max_numbers),sum(min_numbers))\n",
    "\n",
    "\n",
    "miniMaxSum([1,2,3,4,5])\n"
   ]
  },
  {
   "cell_type": "markdown",
   "id": "b1c639bb",
   "metadata": {},
   "source": [
    "## 🧠 [diagonal-difference](https://www.hackerrank.com/challenges/diagonal-difference/problem?isFullScreen=true)"
   ]
  },
  {
   "cell_type": "code",
   "execution_count": null,
   "id": "269558f9",
   "metadata": {},
   "outputs": [
    {
     "name": "stdout",
     "output_type": "stream",
     "text": [
      "15\n"
     ]
    }
   ],
   "source": [
    "def diagonalDifference(arr:list):\n",
    "    max_index = len(arr)\n",
    "    dig,dig2 = 0 , 0\n",
    "    for ltr ,rtl in zip(range(0,max_index),range(max_index,0,-1)):\n",
    "        dig += arr[ltr][ltr]\n",
    "        dig2 += arr[ltr][rtl-1]\n",
    "\n",
    "    return abs(dig-dig2)\n",
    "\n",
    "\n",
    "\n",
    "arr = [[11, 2, 4], \n",
    "       [4, 5, 6], \n",
    "       [10, 8, -12]]\n",
    "result = diagonalDifference(arr)"
   ]
  },
  {
   "cell_type": "markdown",
   "id": "8a44e929",
   "metadata": {},
   "source": [
    "## 🧠 [plus-minus](https://www.hackerrank.com/challenges/plus-minus/problem?isFullScreen=true)"
   ]
  },
  {
   "cell_type": "code",
   "execution_count": 49,
   "id": "e9d17d82",
   "metadata": {},
   "outputs": [
    {
     "name": "stdout",
     "output_type": "stream",
     "text": [
      "0.500001\n",
      "0.333334\n",
      "0.166667\n"
     ]
    }
   ],
   "source": [
    "\n",
    "def plusMinus(arr:list):\n",
    "    N = len(arr)\n",
    "    negative_numbers = 0\n",
    "    postive_numbers = 0\n",
    "    Zeros = 0\n",
    "    for element in arr:\n",
    "        if  element  == 0:\n",
    "            Zeros += round(1/N,6)\n",
    "        elif  element  != abs(element):\n",
    "            negative_numbers += round(1/N,6)\n",
    "        elif element  == abs(element):\n",
    "            postive_numbers += round(1/N,6)\n",
    "    print(postive_numbers,negative_numbers,Zeros,sep=\"\\n\")\n",
    "\n",
    "\n",
    "arr = [-4, 3, -9, 0, 4, 1]\n",
    "plusMinus(arr)\n",
    "\n",
    "\n"
   ]
  }
 ],
 "metadata": {
  "kernelspec": {
   "display_name": "Python 3",
   "language": "python",
   "name": "python3"
  },
  "language_info": {
   "codemirror_mode": {
    "name": "ipython",
    "version": 3
   },
   "file_extension": ".py",
   "mimetype": "text/x-python",
   "name": "python",
   "nbconvert_exporter": "python",
   "pygments_lexer": "ipython3",
   "version": "3.13.1"
  }
 },
 "nbformat": 4,
 "nbformat_minor": 5
}
