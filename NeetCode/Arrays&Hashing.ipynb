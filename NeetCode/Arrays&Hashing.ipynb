{
 "cells": [
  {
   "cell_type": "markdown",
   "id": "19f0e549",
   "metadata": {},
   "source": [
    "### 🧠 [duplicate-integer](https://neetcode.io/problems/duplicate-integer?list=neetcode150)\n"
   ]
  },
  {
   "cell_type": "code",
   "execution_count": null,
   "id": "30deff0d",
   "metadata": {},
   "outputs": [
    {
     "data": {
      "text/plain": [
       "False"
      ]
     },
     "execution_count": 5,
     "metadata": {},
     "output_type": "execute_result"
    }
   ],
   "source": [
    "class Solution:\n",
    "    def hasDuplicate(self, nums: list[int]) -> bool:\n",
    "        Number_list = set(nums)\n",
    "        return True if len(Number_list) < len(nums) else False\n",
    "\n",
    "\n",
    "sol = Solution()\n",
    "nums = [1, 2, 3, 3]\n",
    "sol.hasDuplicate(nums)"
   ]
  },
  {
   "cell_type": "markdown",
   "id": "b5ec1d22",
   "metadata": {},
   "source": [
    "### 🧠 [is-anagram](https://neetcode.io/problems/is-anagram?list=neetcode150)\n"
   ]
  },
  {
   "cell_type": "code",
   "execution_count": 9,
   "id": "b20957bf",
   "metadata": {},
   "outputs": [
    {
     "data": {
      "text/plain": [
       "True"
      ]
     },
     "execution_count": 9,
     "metadata": {},
     "output_type": "execute_result"
    }
   ],
   "source": [
    "class Solution:\n",
    "    def isAnagram(self, s: str, t: str) -> bool:\n",
    "        if len(s) != len(t):\n",
    "            return False\n",
    "        return sorted(s) == sorted(t)\n",
    "\n",
    "\n",
    "sol = Solution()\n",
    "sol.isAnagram(\"cbbs\",\"sbbc\")\n"
   ]
  },
  {
   "cell_type": "markdown",
   "id": "441424a0",
   "metadata": {},
   "source": [
    "### 🧠 [two-integer-sum](https://neetcode.io/problems/two-integer-sum?list=neetcode150)\n"
   ]
  },
  {
   "cell_type": "code",
   "execution_count": 58,
   "id": "b7fb7ffd",
   "metadata": {},
   "outputs": [
    {
     "data": {
      "text/plain": [
       "[2, 3]"
      ]
     },
     "execution_count": 58,
     "metadata": {},
     "output_type": "execute_result"
    }
   ],
   "source": [
    "class Solution:\n",
    "    ##! O(n**2)\n",
    "    def twoSum(self, nums: list[int], target: int) -> list[int]:\n",
    "        Hash = {}\n",
    "        for i, num in enumerate(nums):\n",
    "            if num in Hash.keys():\n",
    "                if nums[i] + nums[Hash[num]] == target:\n",
    "                    return [Hash[num],i]  \n",
    "            else:\n",
    "                Hash[num] = i\n",
    "\n",
    "        for x in nums:\n",
    "            deference = target  - x\n",
    "            if deference in Hash.keys() and deference != x:\n",
    "                return [Hash[x],Hash[deference]]\n",
    "    \n",
    "    ##! O(n)\n",
    "    def twoSum_2(self, nums: list[int], target: int) -> list[int]:\n",
    "        Hash = {}\n",
    "        for i, num in enumerate(nums):\n",
    "            diff = target - num\n",
    "            if diff in Hash:\n",
    "                return [Hash[diff], i]\n",
    "            Hash[num] = i\n",
    "        \n",
    "\n",
    "\n",
    "\n",
    "sol = Solution()\n",
    "sol.twoSum(nums=[1,3,4,2],target=6)"
   ]
  },
  {
   "cell_type": "markdown",
   "id": "c1b81245",
   "metadata": {},
   "source": [
    "### 🧠 [anagram-groups](https://neetcode.io/problems/anagram-groups?list=neetcode150)\n"
   ]
  },
  {
   "cell_type": "code",
   "execution_count": null,
   "id": "729ed3b5",
   "metadata": {},
   "outputs": [
    {
     "data": {
      "text/plain": [
       "[['act', 'cat'], ['pots', 'tops', 'stop'], ['hat']]"
      ]
     },
     "execution_count": 25,
     "metadata": {},
     "output_type": "execute_result"
    }
   ],
   "source": [
    "class Solution:\n",
    "    def groupAnagrams(self, strs: list[str]) -> list[list[str]]:\n",
    "        Letters_list = {}\n",
    "        for x in strs:\n",
    "            letters_tupple = tuple(sorted(x))\n",
    "            if letters_tupple not in Letters_list.keys():\n",
    "                Letters_list[letters_tupple] = [x]\n",
    "            else:\n",
    "                Letters_list[letters_tupple].append(x)\n",
    "        return list(Letters_list.values())\n",
    "\n",
    "        \n",
    "\n",
    "\n",
    "strs = [\"act\",\"pots\",\"tops\",\"cat\",\"stop\",\"hat\"]\n",
    "sol = Solution()\n",
    "sol.groupAnagrams(strs)"
   ]
  },
  {
   "cell_type": "markdown",
   "id": "83d96764",
   "metadata": {},
   "source": [
    "### 🧠 [top-k-elements-in-list](https://neetcode.io/problems/top-k-elements-in-list?list=neetcode150)\n"
   ]
  },
  {
   "cell_type": "code",
   "execution_count": 26,
   "id": "d8307e5b",
   "metadata": {},
   "outputs": [],
   "source": [
    "class Solution:\n",
    "    def topKFrequent(self, nums: list[int], k: int) -> list[int]:\n",
    "        pass\n",
    "\n",
    "\n",
    "\n",
    "sol = Solution()\n",
    "\n",
    "nums = [1,2,2,3,3,3]\n",
    "k = 2\n",
    "sol.topKFrequent(nums,k)\n",
    "        "
   ]
  }
 ],
 "metadata": {
  "kernelspec": {
   "display_name": "Python 3",
   "language": "python",
   "name": "python3"
  },
  "language_info": {
   "codemirror_mode": {
    "name": "ipython",
    "version": 3
   },
   "file_extension": ".py",
   "mimetype": "text/x-python",
   "name": "python",
   "nbconvert_exporter": "python",
   "pygments_lexer": "ipython3",
   "version": "3.13.1"
  }
 },
 "nbformat": 4,
 "nbformat_minor": 5
}
