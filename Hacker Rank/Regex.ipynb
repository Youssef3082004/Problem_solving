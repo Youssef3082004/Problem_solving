{
 "cells": [
  {
   "cell_type": "markdown",
   "id": "5e952849",
   "metadata": {},
   "source": [
    "## 🧠 [matching-specific-string](https://www.hackerrank.com/challenges/matching-specific-string/problem?isFullScreen=true)"
   ]
  },
  {
   "cell_type": "code",
   "execution_count": null,
   "id": "190ef6d2",
   "metadata": {},
   "outputs": [],
   "source": [
    "import re\n",
    "Regex_Pattern = r'hackerrank'\t\n",
    "Test_String = input()\n",
    "match = re.findall(Regex_Pattern, Test_String)\n",
    "print(\"Number of matches :\", len(match))"
   ]
  },
  {
   "cell_type": "markdown",
   "id": "928b4c40",
   "metadata": {},
   "source": [
    "## 🧠 [matching-digits-non-digit-character](https://www.hackerrank.com/challenges/matching-digits-non-digit-character/problem?isFullScreen=true)"
   ]
  },
  {
   "cell_type": "code",
   "execution_count": null,
   "id": "d991bd82",
   "metadata": {},
   "outputs": [
    {
     "name": "stdout",
     "output_type": "stream",
     "text": [
      "true\n"
     ]
    }
   ],
   "source": [
    "import re\n",
    "Regex_Pattern = r\"\\d{2}\\D\\d{2}\\D\\d{4}\"\t\n",
    "print(str(bool(re.search(Regex_Pattern, input()))).lower())"
   ]
  },
  {
   "cell_type": "markdown",
   "id": "9a3c8d01",
   "metadata": {},
   "source": [
    "## 🧠 [matching-specific-characters](https://www.hackerrank.com/challenges/matching-specific-characters/problem?isFullScreen=true)"
   ]
  },
  {
   "cell_type": "code",
   "execution_count": null,
   "id": "0187bbc7",
   "metadata": {},
   "outputs": [],
   "source": [
    "import re\n",
    "Regex_Pattern = r'^[123][012][sx0][30Aa][xsu][\\.\\,]$'    \n",
    "print(str(bool(re.search(Regex_Pattern, input()))).lower())"
   ]
  },
  {
   "cell_type": "markdown",
   "id": "44ce9803",
   "metadata": {},
   "source": [
    "## 🧠 [matching-word-non-word](https://www.hackerrank.com/challenges/matching-word-non-word/problem?isFullScreen=true)"
   ]
  },
  {
   "cell_type": "code",
   "execution_count": null,
   "id": "0ec7a02e",
   "metadata": {},
   "outputs": [],
   "source": [
    "import re\n",
    "Regex_Pattern = r\"\\w{3}\\W\\w{10}\\W\\w{3}\"\n",
    "print(str(bool(re.search(Regex_Pattern, input()))).lower())"
   ]
  },
  {
   "cell_type": "markdown",
   "id": "bd8c5a1a",
   "metadata": {},
   "source": [
    "## 🧠 [matching-whitespace-non-whitespace-character](https://www.hackerrank.com/challenges/matching-whitespace-non-whitespace-character/problem?isFullScreen=true)"
   ]
  },
  {
   "cell_type": "code",
   "execution_count": null,
   "id": "61ea8f4b",
   "metadata": {},
   "outputs": [],
   "source": [
    "import re\n",
    "Regex_Pattern = r\"\\S{2}\\s\\S{2}\\s\\S{2}\"\t\n",
    "print(str(bool(re.search(Regex_Pattern, input()))).lower())"
   ]
  },
  {
   "cell_type": "markdown",
   "id": "0386bd66",
   "metadata": {},
   "source": [
    "## 🧠 [excluding-specific-characters](https://www.hackerrank.com/challenges/excluding-specific-characters/problem?isFullScreen=true)"
   ]
  },
  {
   "cell_type": "code",
   "execution_count": null,
   "id": "12489df2",
   "metadata": {},
   "outputs": [],
   "source": [
    "import re\n",
    "Regex_Pattern = r'^[^0-9][^aeiou][^bcDF][^\\r\\n\\t\\f\\s][^AEIOU][^.,]$'\t\n",
    "print(str(bool(re.search(Regex_Pattern, input()))).lower())"
   ]
  },
  {
   "cell_type": "markdown",
   "id": "405c2f7d",
   "metadata": {},
   "source": [
    "## 🧠 [matching-range-of-characters](https://www.hackerrank.com/challenges/matching-range-of-characters/problem?isFullScreen=true)"
   ]
  },
  {
   "cell_type": "code",
   "execution_count": null,
   "id": "5ff73468",
   "metadata": {},
   "outputs": [],
   "source": [
    "import re\n",
    "Regex_Pattern =  r'^[a-z][1-9][^a-z][^A-Z][A-Z].*$'\n",
    "print(str(bool(re.search(Regex_Pattern, input()))).lower())"
   ]
  },
  {
   "cell_type": "markdown",
   "id": "778394a3",
   "metadata": {},
   "source": []
  },
  {
   "cell_type": "code",
   "execution_count": null,
   "id": "1950f07e",
   "metadata": {},
   "outputs": [],
   "source": []
  }
 ],
 "metadata": {
  "kernelspec": {
   "display_name": "Python 3",
   "language": "python",
   "name": "python3"
  },
  "language_info": {
   "codemirror_mode": {
    "name": "ipython",
    "version": 3
   },
   "file_extension": ".py",
   "mimetype": "text/x-python",
   "name": "python",
   "nbconvert_exporter": "python",
   "pygments_lexer": "ipython3",
   "version": "3.13.1"
  }
 },
 "nbformat": 4,
 "nbformat_minor": 5
}
