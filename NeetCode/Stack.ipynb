{
 "cells": [
  {
   "cell_type": "markdown",
   "id": "984a00ff",
   "metadata": {},
   "source": [
    "## 🧠 [validate-parentheses](https://neetcode.io/problems/validate-parentheses?list=neetcode150)"
   ]
  },
  {
   "cell_type": "code",
   "execution_count": null,
   "id": "76e5fae4",
   "metadata": {},
   "outputs": [
    {
     "data": {
      "text/plain": [
       "False"
      ]
     },
     "execution_count": 16,
     "metadata": {},
     "output_type": "execute_result"
    }
   ],
   "source": [
    "class Solution:\n",
    "    def isValid(self, s: str) -> bool:\n",
    "        closeToOpen = { \")\" : \"(\", \"]\" : \"[\", \"}\" : \"{\" }\n",
    "        Stack = []\n",
    "\n",
    "        for x in s:\n",
    "            if x in closeToOpen:\n",
    "                if Stack and Stack[-1] == closeToOpen[x]:\n",
    "                    Stack.pop()\n",
    "                else:\n",
    "                    return False\n",
    "            else:\n",
    "                Stack.append(x)\n",
    "\n",
    "        return False if len(Stack) > 0 else True\n",
    "\n",
    "\n",
    "sol = Solution()\n",
    "sol.isValid(\"([{])\")"
   ]
  },
  {
   "cell_type": "markdown",
   "id": "267bc263",
   "metadata": {},
   "source": [
    "\n",
    "## 🧠 [minimum-stack](https://neetcode.io/problems/minimum-stack?list=neetcode150)"
   ]
  },
  {
   "cell_type": "code",
   "execution_count": null,
   "id": "b031fc9b",
   "metadata": {},
   "outputs": [],
   "source": [
    "class MinStack:\n",
    "\n",
    "    def __init__(self):\n",
    "        self.Stack = []\n",
    "        \n",
    "    def push(self, val: int) -> None:\n",
    "        self.Stack.append(val)\n",
    "        \n",
    "    def pop(self) -> None:\n",
    "        self.Stack.pop(-1) \n",
    "\n",
    "    def top(self) -> int:\n",
    "        return self.Stack[-1]\n",
    "        \n",
    "    def getMin(self) -> int:\n",
    "        return min(self.Stack)\n",
    "        \n"
   ]
  },
  {
   "cell_type": "markdown",
   "id": "bf595a1a",
   "metadata": {},
   "source": [
    "\n",
    "## 🧠 [evaluate-reverse-polish-notation](https://neetcode.io/problems/evaluate-reverse-polish-notation?list=neetcode150)"
   ]
  },
  {
   "cell_type": "code",
   "execution_count": null,
   "id": "86e7048f",
   "metadata": {},
   "outputs": [
    {
     "data": {
      "text/plain": [
       "22"
      ]
     },
     "execution_count": 38,
     "metadata": {},
     "output_type": "execute_result"
    }
   ],
   "source": [
    "class Solution:\n",
    "    def evalRPN(self, tokens: list[str]) -> int:\n",
    "        operators = [\"+\" , \"-\", \"*\" , \"/\"]\n",
    "        Stack = []\n",
    "\n",
    "        for token in tokens:\n",
    "            if token not in operators:\n",
    "                Stack.append(int(token))\n",
    "            elif token in operators:\n",
    "                if token == \"/\":\n",
    "                    result = int(eval(f\"{Stack[-2]} {token} {Stack[-1]}\"))\n",
    "                else:\n",
    "                    result = eval(f\"{Stack[-2]} {token} {Stack[-1]}\")\n",
    "                \n",
    "                Stack.pop(-2)\n",
    "                Stack.pop(-1)\n",
    "                Stack.append(result)\n",
    "\n",
    "        return Stack[-1]\n",
    "\n",
    "\n",
    "\n",
    "\n",
    "sol = Solution()\n",
    "tokens=[\"10\",\"6\",\"9\",\"3\",\"+\",\"-11\",\"*\",\"/\",\"*\",\"17\",\"+\",\"5\",\"+\"]\n",
    "sol.evalRPN(tokens=tokens)"
   ]
  },
  {
   "cell_type": "markdown",
   "id": "29b9b762",
   "metadata": {},
   "source": [
    "\n",
    "## 🧠 [generate-parentheses](https://neetcode.io/problems/generate-parentheses?list=neetcode150)"
   ]
  },
  {
   "cell_type": "code",
   "execution_count": null,
   "id": "0fbec1f2",
   "metadata": {},
   "outputs": [],
   "source": [
    "class Solution:\n",
    "    def generateParenthesis(self, n: int) -> list[str]:\n",
    "        pass\n",
    "\n",
    "\n",
    "\n",
    "sol = Solution()\n",
    "sol.generateParenthesis(1)\n",
    "        "
   ]
  }
 ],
 "metadata": {
  "kernelspec": {
   "display_name": "Python 3",
   "language": "python",
   "name": "python3"
  },
  "language_info": {
   "codemirror_mode": {
    "name": "ipython",
    "version": 3
   },
   "file_extension": ".py",
   "mimetype": "text/x-python",
   "name": "python",
   "nbconvert_exporter": "python",
   "pygments_lexer": "ipython3",
   "version": "3.13.1"
  }
 },
 "nbformat": 4,
 "nbformat_minor": 5
}
