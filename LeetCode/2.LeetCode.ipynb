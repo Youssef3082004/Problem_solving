{
 "cells": [
  {
   "cell_type": "markdown",
   "id": "d7c0e8b2",
   "metadata": {},
   "source": [
    "## 🧠 [find-subsequence-of-length-k-with-the-largest-sum](https://leetcode.com/problems/find-subsequence-of-length-k-with-the-largest-sum/description/?envType=daily-question&envId=2025-06-28)"
   ]
  },
  {
   "cell_type": "code",
   "execution_count": null,
   "id": "d445590f",
   "metadata": {},
   "outputs": [
    {
     "name": "stdout",
     "output_type": "stream",
     "text": [
      "[(-1, 0), (-2, 1), (3, 2), (4, 3)]\n",
      "[(4, 3), (3, 2), (-1, 0)]\n",
      "[(-1, 0), (3, 2), (4, 3)]\n"
     ]
    }
   ],
   "source": [
    "class Solution:\n",
    "    def maxSubsequence(self, nums: list[int], k: int) -> list[int]:\n",
    "        indexed_nums = [(num, i) for i, num in enumerate(nums)]\n",
    "\n",
    "        print(indexed_nums)\n",
    "        # نختار أكبر k عناصر حسب القيمة\n",
    "        top_k = sorted(indexed_nums, key=lambda x: (-x[0], x[1]))[:k]\n",
    "        print(top_k)\n",
    "\n",
    "\n",
    "        # نعيد ترتيب العناصر حسب مواقعها الأصلية للحفاظ على الترتيب\n",
    "        top_k_sorted = sorted(top_k, key=lambda x: x[1])\n",
    "        print(top_k_sorted)\n",
    "\n",
    "        return [num for num, i in top_k_sorted]\n",
    "\n",
    "\n",
    "sol = Solution()\n",
    "nums = [-1,-2,3,4]\n",
    "k = 3\n",
    "sol.maxSubsequence(nums,k)\n",
    "        "
   ]
  },
  {
   "cell_type": "markdown",
   "id": "962b9624",
   "metadata": {},
   "source": [
    "## 🧠 [tuple-with-same-product](https://leetcode.com/problems/tuple-with-same-product/description/?envType=daily-question&envId=2025-07-01)\n",
    "\n",
    "### Time Complexity = $O(n^4)$\n",
    "\n",
    "```python \n",
    "from itertools import permutations\n",
    "class Solution:\n",
    "    def tupleSameProduct(self, nums: list[int]) -> int:\n",
    "        solutions = list(permutations(nums,4))\n",
    "        solutions = map(lambda a : (a[0]*a[1]) == (a[2]*a[3]) ,solutions)\n",
    "        return len([sol for sol in solutions if sol == True])\n",
    "```"
   ]
  },
  {
   "cell_type": "code",
   "execution_count": 10,
   "id": "f6ecec57",
   "metadata": {},
   "outputs": [
    {
     "data": {
      "text/plain": [
       "8"
      ]
     },
     "execution_count": 10,
     "metadata": {},
     "output_type": "execute_result"
    }
   ],
   "source": [
    "from collections import defaultdict\n",
    "class Solution:\n",
    "    def tupleSameProduct(self, nums: list[int]) -> int:\n",
    "        product_count = defaultdict(int)\n",
    "        \n",
    "        n = len(nums)\n",
    "        for i in range(n):\n",
    "            for j in range(i + 1, n):\n",
    "                product = nums[i] * nums[j]\n",
    "                product_count[product] += 1\n",
    "        \n",
    "        result = 0\n",
    "        for count in product_count.values():\n",
    "            if count >= 2:\n",
    "                result += count * (count - 1) // 2 * 8\n",
    "        \n",
    "        return result\n",
    "    \n",
    "\n",
    "sol = Solution()\n",
    "nums = [2,3,4,6]\n",
    "sol.tupleSameProduct(nums)\n",
    "\n"
   ]
  },
  {
   "cell_type": "markdown",
   "id": "50f5aae6",
   "metadata": {},
   "source": [
    "## 🧠 [Plus-one](https://leetcode.com/problems/plus-one/description/)"
   ]
  },
  {
   "cell_type": "code",
   "execution_count": null,
   "id": "f2a4bb35",
   "metadata": {},
   "outputs": [
    {
     "data": {
      "text/plain": [
       "[2, 0]"
      ]
     },
     "execution_count": 12,
     "metadata": {},
     "output_type": "execute_result"
    }
   ],
   "source": [
    "class Solution:\n",
    "    def plusOne(self, digits: list[int]) -> list[int]:\n",
    "        digits = [str(digit) for digit in digits]\n",
    "        number = int(\"\".join(digits)) + 1\n",
    "        result = [int(digit) for digit in str(number)]\n",
    "        return result\n",
    "\n",
    "\n",
    "\n",
    "sol = Solution()\n",
    "digits = [19]\n",
    "sol.plusOne(digits)\n",
    "        "
   ]
  },
  {
   "cell_type": "markdown",
   "id": "f27a7532",
   "metadata": {},
   "source": [
    "## 🧠 [length-of-last-word](https://leetcode.com/problems/length-of-last-word/description/)"
   ]
  },
  {
   "cell_type": "code",
   "execution_count": 22,
   "id": "c0841db2",
   "metadata": {},
   "outputs": [
    {
     "name": "stdout",
     "output_type": "stream",
     "text": [
      "['a']\n"
     ]
    },
    {
     "data": {
      "text/plain": [
       "1"
      ]
     },
     "execution_count": 22,
     "metadata": {},
     "output_type": "execute_result"
    }
   ],
   "source": [
    "class Solution:\n",
    "    def lengthOfLastWord(self, s: str) -> int:\n",
    "        s = s.split(\" \")\n",
    "        \n",
    "\n",
    "        for i in range(-1,-len(s)-1,-1):\n",
    "            word = s[i]\n",
    "            if word.isalpha() == True:\n",
    "                return len(word)\n",
    "            \n",
    "\n",
    "\n",
    "sol = Solution()\n",
    "s = \"a\"\n",
    "sol.lengthOfLastWord(s)"
   ]
  },
  {
   "cell_type": "markdown",
   "id": "d80e276d",
   "metadata": {},
   "source": []
  },
  {
   "cell_type": "code",
   "execution_count": null,
   "id": "cb85a6ff",
   "metadata": {},
   "outputs": [],
   "source": []
  }
 ],
 "metadata": {
  "kernelspec": {
   "display_name": "Python 3",
   "language": "python",
   "name": "python3"
  },
  "language_info": {
   "codemirror_mode": {
    "name": "ipython",
    "version": 3
   },
   "file_extension": ".py",
   "mimetype": "text/x-python",
   "name": "python",
   "nbconvert_exporter": "python",
   "pygments_lexer": "ipython3",
   "version": "3.13.1"
  }
 },
 "nbformat": 4,
 "nbformat_minor": 5
}
