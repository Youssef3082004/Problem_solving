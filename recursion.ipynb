{
 "cells": [
  {
   "cell_type": "code",
   "execution_count": 5,
   "metadata": {},
   "outputs": [
    {
     "name": "stdout",
     "output_type": "stream",
     "text": [
      "720\n",
      "15\n"
     ]
    }
   ],
   "source": [
    "\n",
    "def factrial(num:int):\n",
    "    if num == 1:\n",
    "        return 1 \n",
    "    else:\n",
    "        return num * factrial(num - 1)\n",
    "\n",
    "print(factrial(6))\n",
    "\n",
    "\n",
    "def sum_(num:int):\n",
    "    if num == 1: \n",
    "        return 1\n",
    "    else:\n",
    "        return num + sum_(num - 1)\n",
    "\n",
    "print(sum_(5))"
   ]
  },
  {
   "cell_type": "code",
   "execution_count": 6,
   "metadata": {},
   "outputs": [
    {
     "name": "stdout",
     "output_type": "stream",
     "text": [
      "The result of the polynomial for X=2 and n=4 is: 98\n"
     ]
    }
   ],
   "source": [
    "def polynomial_sum(X, n):\n",
    "    if n == 1:\n",
    "        return X\n",
    "    else:\n",
    "        return n * (X ** n) + polynomial_sum(X, n - 1)\n",
    "\n",
    "\n",
    "X = 2  \n",
    "n = 4  \n",
    "result = polynomial_sum(X, n)\n",
    "print(f\"The result of the polynomial for X={X} and n={n} is: {result}\")\n"
   ]
  },
  {
   "cell_type": "code",
   "execution_count": null,
   "metadata": {},
   "outputs": [],
   "source": [
    "def polynomial_sum(X, t):\n",
    "    \n",
    "    if t == 2:\n",
    "        return (X**2) / 2\n",
    "    \n",
    "    else:\n",
    "        return (X**t) / t + polynomial_sum(X, t - 1)\n",
    "\n",
    "\n",
    "X = 2 \n",
    "t = 5  \n",
    "result = polynomial_sum(X, t)\n",
    "print(f\"The result of the polynomial for X={X} and t={t} is: {result}\")\n"
   ]
  },
  {
   "cell_type": "code",
   "execution_count": 25,
   "metadata": {},
   "outputs": [
    {
     "name": "stdout",
     "output_type": "stream",
     "text": [
      "1 2 3 4 5 6 7 8 9\n"
     ]
    }
   ],
   "source": [
    "k = [1,2,3,4,5,6,7,8,9]\n",
    "b = {\"youssef\":1,\"youssef\":2,\"youssef\":3,\"youssef\":4}\n",
    "\n",
    "print(*k)"
   ]
  },
  {
   "cell_type": "code",
   "execution_count": 5,
   "metadata": {},
   "outputs": [
    {
     "name": "stdout",
     "output_type": "stream",
     "text": [
      "ggg MMM\n"
     ]
    }
   ],
   "source": [
    "c = {\"ggg\":\"MMM\"}\n",
    "\n",
    "\n",
    "for x  in c:\n",
    "    print(x,c[x])"
   ]
  },
  {
   "cell_type": "code",
   "execution_count": 17,
   "metadata": {},
   "outputs": [
    {
     "data": {
      "text/plain": [
       "(True, 1, 1, 0.9777512371933363, 0.971073790308159)"
      ]
     },
     "execution_count": 17,
     "metadata": {},
     "output_type": "execute_result"
    }
   ],
   "source": [
    "import latexify\n",
    "import math\n",
    "\n",
    "@latexify.function\n",
    "def threshold(x):\n",
    "    \n",
    "    return round(math.exp(-x**2)) == round(2 * math.exp(-1*(x-1)**2)) ,round(2 * math.exp(-1*(x-1)**2))  , round(math.exp(-x**2)) ,math.exp(-x**2) ,2 * math.exp(-1*(x-1)**2)\n",
    "\n",
    "threshold(0.15)"
   ]
  },
  {
   "cell_type": "code",
   "execution_count": 29,
   "metadata": {},
   "outputs": [
    {
     "data": {
      "text/latex": [
       "$$ \\displaystyle 2 \\exp \\mathopen{}\\left( -\\mathopen{}\\left( x - 1 \\mathclose{}\\right)^{2} \\mathclose{}\\right) - \\exp \\mathopen{}\\left( -x^{2} \\mathclose{}\\right) $$"
      ],
      "text/plain": [
       "<latexify.ipython_wrappers.LatexifiedFunction at 0x1f616c35da0>"
      ]
     },
     "execution_count": 29,
     "metadata": {},
     "output_type": "execute_result"
    }
   ],
   "source": [
    "@latexify.expression(use_signature = False)\n",
    "\n",
    "def vvvvv(x):\n",
    "    return 2* math.exp(-(x-1)**2) - math.exp(-x**2)\n",
    "\n",
    "\n",
    "vvvvv"
   ]
  },
  {
   "cell_type": "code",
   "execution_count": 34,
   "metadata": {},
   "outputs": [
    {
     "name": "stdout",
     "output_type": "stream",
     "text": [
      "Solutions: [2 - sqrt(2), sqrt(2) + 2]\n"
     ]
    }
   ],
   "source": [
    "import sympy as sp\n",
    "\n",
    "# Define the variable\n",
    "x = sp.symbols('x')\n",
    "\n",
    "# Define the equation\n",
    "equation = x**2 - 2 *  (x - 1)**2\n",
    "\n",
    "# Solve the equation\n",
    "solutions = sp.solve(equation, x)\n",
    "\n",
    "print(\"Solutions:\", solutions)\n"
   ]
  },
  {
   "cell_type": "code",
   "execution_count": null,
   "metadata": {},
   "outputs": [],
   "source": [
    "import winsound\n",
    "\n",
    "\n",
    "# winsound.PlaySound(sound=1)"
   ]
  },
  {
   "cell_type": "code",
   "execution_count": 10,
   "metadata": {},
   "outputs": [],
   "source": [
    "x = [ 3 , 7 ,3 , 5 , 11 , 9 , 7 , 1]\n",
    "\n",
    "odd_numbers = [odd for odd in x if odd % 2 == 1 ]\n",
    "\n",
    "\n",
    "odd_numbers_without_repeted = set(odd_numbers)\n",
    "\n",
    "\n"
   ]
  },
  {
   "cell_type": "code",
   "execution_count": 6,
   "metadata": {},
   "outputs": [
    {
     "name": "stdout",
     "output_type": "stream",
     "text": [
      "[(0, 'a', 0), (1, 'b', 2), (2, 'c', 4), (3, 'd', 6), (4, 'e', 8), (5, 'f', 10)]\n"
     ]
    }
   ],
   "source": [
    "list1 = [x for x in range(6)]\n",
    "list2 = [i for i in [\"a\",\"b\",\"c\",\"d\",\"e\",\"f\"]]\n",
    "list3 = [x for x in range(0,12,2)]\n",
    "\n",
    "\n",
    "s = zip(list1,list2,list3)\n",
    "print(list(s))"
   ]
  }
 ],
 "metadata": {
  "kernelspec": {
   "display_name": "Python 3",
   "language": "python",
   "name": "python3"
  },
  "language_info": {
   "codemirror_mode": {
    "name": "ipython",
    "version": 3
   },
   "file_extension": ".py",
   "mimetype": "text/x-python",
   "name": "python",
   "nbconvert_exporter": "python",
   "pygments_lexer": "ipython3",
   "version": "3.13.1"
  }
 },
 "nbformat": 4,
 "nbformat_minor": 2
}
