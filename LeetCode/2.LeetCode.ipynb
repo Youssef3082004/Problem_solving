{
 "cells": [
  {
   "cell_type": "markdown",
   "id": "d7c0e8b2",
   "metadata": {},
   "source": [
    "## 🧠 [find-subsequence-of-length-k-with-the-largest-sum](https://leetcode.com/problems/find-subsequence-of-length-k-with-the-largest-sum/description/?envType=daily-question&envId=2025-06-28)"
   ]
  },
  {
   "cell_type": "code",
   "execution_count": null,
   "id": "d445590f",
   "metadata": {},
   "outputs": [
    {
     "name": "stdout",
     "output_type": "stream",
     "text": [
      "[(-1, 0), (-2, 1), (3, 2), (4, 3)]\n",
      "[(4, 3), (3, 2), (-1, 0)]\n",
      "[(-1, 0), (3, 2), (4, 3)]\n"
     ]
    }
   ],
   "source": [
    "class Solution:\n",
    "    def maxSubsequence(self, nums: list[int], k: int) -> list[int]:\n",
    "        indexed_nums = [(num, i) for i, num in enumerate(nums)]\n",
    "\n",
    "        print(indexed_nums)\n",
    "        # نختار أكبر k عناصر حسب القيمة\n",
    "        top_k = sorted(indexed_nums, key=lambda x: (-x[0], x[1]))[:k]\n",
    "        print(top_k)\n",
    "\n",
    "\n",
    "        # نعيد ترتيب العناصر حسب مواقعها الأصلية للحفاظ على الترتيب\n",
    "        top_k_sorted = sorted(top_k, key=lambda x: x[1])\n",
    "        print(top_k_sorted)\n",
    "\n",
    "        return [num for num, i in top_k_sorted]\n",
    "\n",
    "\n",
    "sol = Solution()\n",
    "nums = [-1,-2,3,4]\n",
    "k = 3\n",
    "sol.maxSubsequence(nums,k)\n",
    "        "
   ]
  },
  {
   "cell_type": "markdown",
   "id": "962b9624",
   "metadata": {},
   "source": [
    "## 🧠 [tuple-with-same-product](https://leetcode.com/problems/tuple-with-same-product/description/?envType=daily-question&envId=2025-07-01)\n",
    "\n",
    "### Time Complexity = $O(n^4)$\n",
    "\n",
    "```python \n",
    "from itertools import permutations\n",
    "class Solution:\n",
    "    def tupleSameProduct(self, nums: list[int]) -> int:\n",
    "        solutions = list(permutations(nums,4))\n",
    "        solutions = map(lambda a : (a[0]*a[1]) == (a[2]*a[3]) ,solutions)\n",
    "        return len([sol for sol in solutions if sol == True])\n",
    "```"
   ]
  },
  {
   "cell_type": "code",
   "execution_count": 10,
   "id": "f6ecec57",
   "metadata": {},
   "outputs": [
    {
     "data": {
      "text/plain": [
       "8"
      ]
     },
     "execution_count": 10,
     "metadata": {},
     "output_type": "execute_result"
    }
   ],
   "source": [
    "from collections import defaultdict\n",
    "class Solution:\n",
    "    def tupleSameProduct(self, nums: list[int]) -> int:\n",
    "        product_count = defaultdict(int)\n",
    "        \n",
    "        n = len(nums)\n",
    "        for i in range(n):\n",
    "            for j in range(i + 1, n):\n",
    "                product = nums[i] * nums[j]\n",
    "                product_count[product] += 1\n",
    "        \n",
    "        result = 0\n",
    "        for count in product_count.values():\n",
    "            if count >= 2:\n",
    "                result += count * (count - 1) // 2 * 8\n",
    "        \n",
    "        return result\n",
    "    \n",
    "\n",
    "sol = Solution()\n",
    "nums = [2,3,4,6]\n",
    "sol.tupleSameProduct(nums)\n",
    "\n"
   ]
  },
  {
   "cell_type": "markdown",
   "id": "50f5aae6",
   "metadata": {},
   "source": [
    "## 🧠 [Plus-one](https://leetcode.com/problems/plus-one/description/)"
   ]
  },
  {
   "cell_type": "code",
   "execution_count": null,
   "id": "f2a4bb35",
   "metadata": {},
   "outputs": [
    {
     "data": {
      "text/plain": [
       "[2, 0]"
      ]
     },
     "execution_count": 12,
     "metadata": {},
     "output_type": "execute_result"
    }
   ],
   "source": [
    "class Solution:\n",
    "    def plusOne(self, digits: list[int]) -> list[int]:\n",
    "        digits = [str(digit) for digit in digits]\n",
    "        number = int(\"\".join(digits)) + 1\n",
    "        result = [int(digit) for digit in str(number)]\n",
    "        return result\n",
    "\n",
    "\n",
    "\n",
    "sol = Solution()\n",
    "digits = [19]\n",
    "sol.plusOne(digits)\n",
    "        "
   ]
  },
  {
   "cell_type": "markdown",
   "id": "f27a7532",
   "metadata": {},
   "source": [
    "## 🧠 [length-of-last-word](https://leetcode.com/problems/length-of-last-word/description/)"
   ]
  },
  {
   "cell_type": "code",
   "execution_count": 22,
   "id": "c0841db2",
   "metadata": {},
   "outputs": [
    {
     "name": "stdout",
     "output_type": "stream",
     "text": [
      "['a']\n"
     ]
    },
    {
     "data": {
      "text/plain": [
       "1"
      ]
     },
     "execution_count": 22,
     "metadata": {},
     "output_type": "execute_result"
    }
   ],
   "source": [
    "class Solution:\n",
    "    def lengthOfLastWord(self, s: str) -> int:\n",
    "        s = s.split(\" \")\n",
    "        \n",
    "\n",
    "        for i in range(-1,-len(s)-1,-1):\n",
    "            word = s[i]\n",
    "            if word.isalpha() == True:\n",
    "                return len(word)\n",
    "            \n",
    "\n",
    "\n",
    "sol = Solution()\n",
    "s = \"a\"\n",
    "sol.lengthOfLastWord(s)"
   ]
  },
  {
   "cell_type": "markdown",
   "id": "d80e276d",
   "metadata": {},
   "source": [
    "## 🧠 [maximum-subarray](https://leetcode.com/problems/maximum-subarray/)"
   ]
  },
  {
   "cell_type": "code",
   "execution_count": 43,
   "id": "cb85a6ff",
   "metadata": {},
   "outputs": [
    {
     "data": {
      "text/plain": [
       "6"
      ]
     },
     "execution_count": 43,
     "metadata": {},
     "output_type": "execute_result"
    }
   ],
   "source": [
    "class Solution:\n",
    "    def maxSubArray(self, nums: list[int]) -> int:\n",
    "        current_sum  = max_sum = nums[0]\n",
    "\n",
    "        for num in range(1,len(nums)):\n",
    "            current_sum = max(nums[num],current_sum + nums[num])\n",
    "            max_sum = max(current_sum , max_sum)\n",
    "\n",
    "        return max_sum\n",
    "\n",
    "\n",
    "sol = Solution()\n",
    "nums = [-2,1,-3,4,-1,2,1,-5,4]\n",
    "sol.maxSubArray(nums)\n",
    "        "
   ]
  },
  {
   "cell_type": "markdown",
   "id": "df9ad6bb",
   "metadata": {},
   "source": [
    "## 🧠 [first-missing-positive](https://leetcode.com/problems/first-missing-positive/description/)"
   ]
  },
  {
   "cell_type": "code",
   "execution_count": null,
   "id": "36d794b7",
   "metadata": {},
   "outputs": [
    {
     "data": {
      "text/plain": [
       "3"
      ]
     },
     "execution_count": 44,
     "metadata": {},
     "output_type": "execute_result"
    }
   ],
   "source": [
    "\n",
    "class Solution:\n",
    "    def firstMissingPositive(self, nums: list[int]) -> int:\n",
    "        num_set = set(nums)\n",
    "        for number in range(1, len(nums) + 2):  \n",
    "            if number not in num_set:  \n",
    "                return number\n",
    "\n",
    "sol = Solution()\n",
    "sol.firstMissingPositive(nums=nums)"
   ]
  },
  {
   "cell_type": "markdown",
   "id": "c5ff1b7e",
   "metadata": {},
   "source": [
    "## 🧠 [find-peak-element](https://leetcode.com/problems/find-peak-element/)"
   ]
  },
  {
   "cell_type": "code",
   "execution_count": null,
   "id": "2dccd89a",
   "metadata": {},
   "outputs": [
    {
     "data": {
      "text/plain": [
       "0"
      ]
     },
     "execution_count": 17,
     "metadata": {},
     "output_type": "execute_result"
    }
   ],
   "source": [
    "class Solution:\n",
    "    def findPeakElement(self, nums: list[int]) -> int:\n",
    "        left ,right = 0 , len(nums) - 1\n",
    "\n",
    "        while right >= left:\n",
    "            m = (left+right) // 2\n",
    "\n",
    "            \n",
    "            if nums[m] > nums[m+1]:\n",
    "                right = m \n",
    "            else:\n",
    "                left = m +1 \n",
    "        \n",
    "        return left\n",
    "\n",
    "\n",
    "\n",
    "sol = Solution()\n",
    "nums = [3,4,3,2,1]\n",
    "sol.findPeakElement(nums)"
   ]
  },
  {
   "cell_type": "markdown",
   "id": "e9ad8f8c",
   "metadata": {},
   "source": [
    "## 🧠 [score-of-a-string](https://leetcode.com/problems/score-of-a-string/description/)"
   ]
  },
  {
   "cell_type": "code",
   "execution_count": null,
   "id": "c15cc86e",
   "metadata": {},
   "outputs": [],
   "source": [
    "class Solution:\n",
    "    def scoreOfString(self, s: str) -> int:\n",
    "        total = 0\n",
    "        for i in range(len(s) - 1):\n",
    "            total += abs(ord(s[i]) - ord(s[i+1]))\n",
    "        return total"
   ]
  },
  {
   "cell_type": "markdown",
   "id": "e3647bd7",
   "metadata": {},
   "source": [
    "## 🧠 [rename-columns](https://leetcode.com/problems/rename-columns/)"
   ]
  },
  {
   "cell_type": "code",
   "execution_count": null,
   "id": "ae7f5a46",
   "metadata": {},
   "outputs": [],
   "source": [
    "import pandas as pd\n",
    "\n",
    "def renameColumns(students: pd.DataFrame) -> pd.DataFrame:\n",
    "    students.rename(columns={'id': 'student_id', 'first': 'first_name', 'last': 'last_name', 'age': 'age_in_years'}, inplace=True)\n",
    "    return students"
   ]
  },
  {
   "cell_type": "markdown",
   "id": "057da610",
   "metadata": {},
   "source": [
    "## 🧠 [palindrome-number](https://leetcode.com/problems/palindrome-number/description/)"
   ]
  },
  {
   "cell_type": "code",
   "execution_count": null,
   "id": "992ab5e3",
   "metadata": {},
   "outputs": [
    {
     "data": {
      "text/plain": [
       "True"
      ]
     },
     "execution_count": 7,
     "metadata": {},
     "output_type": "execute_result"
    }
   ],
   "source": [
    "class Solution:\n",
    "    def isPalindrome(self, x: int) -> bool:\n",
    "        string = str(x)\n",
    "        for x in range(len(string) // 2):\n",
    "\n",
    "            if string[x] != string[-(1 + x)]:\n",
    "                return False\n",
    "        return True\n",
    "\n",
    "\n",
    "\n",
    "sol = Solution()\n",
    "sol.isPalindrome(15851)\n"
   ]
  },
  {
   "cell_type": "markdown",
   "id": "2bceea24",
   "metadata": {},
   "source": [
    "## 🧠 [count-primes](https://leetcode.com/problems/count-primes/description/)"
   ]
  },
  {
   "cell_type": "code",
   "execution_count": null,
   "id": "1ba6b080",
   "metadata": {},
   "outputs": [
    {
     "name": "stdout",
     "output_type": "stream",
     "text": [
      "2\n",
      "3\n",
      "5\n",
      "7\n"
     ]
    },
    {
     "data": {
      "text/plain": [
       "4"
      ]
     },
     "execution_count": 25,
     "metadata": {},
     "output_type": "execute_result"
    }
   ],
   "source": [
    "class Solution:\n",
    "    def countPrimes(self, n: int) -> int:\n",
    "        if n <= 2:\n",
    "            return 0\n",
    "        \n",
    "        # Initialize a list indicating primality for numbers 0 to n-1.\n",
    "        is_prime = [True] * n\n",
    "        is_prime[0] = is_prime[1] = False\n",
    "        \n",
    "        count = 0\n",
    "        for i in range(2, n):\n",
    "            if is_prime[i]:\n",
    "                count += 1\n",
    "                # Mark multiples of i starting from i*i as not prime.\n",
    "                for j in range(i * i, n, i):\n",
    "                    is_prime[j] = False\n",
    "        return count\n",
    "\n",
    "\n",
    "\n",
    "sol = Solution()\n",
    "sol.countPrimes(n=10)"
   ]
  },
  {
   "cell_type": "markdown",
   "id": "e1c10c4a",
   "metadata": {},
   "source": [
    "## 🧠 [rotate-array](https://leetcode.com/problems/rotate-array/description/)"
   ]
  },
  {
   "cell_type": "code",
   "execution_count": 3,
   "id": "fae6a040",
   "metadata": {},
   "outputs": [
    {
     "data": {
      "text/plain": [
       "[5, 6, 7, 1, 2, 3, 4]"
      ]
     },
     "execution_count": 3,
     "metadata": {},
     "output_type": "execute_result"
    }
   ],
   "source": [
    "class Solution:\n",
    "    def rotate(self, nums: list[int], k: int) -> None:\n",
    "       \n",
    "        for _ in range(k):\n",
    "           last_element = nums.pop(-1)\n",
    "           nums.insert(0,last_element)\n",
    "\n",
    "        return nums\n",
    "\n",
    "sol = Solution()\n",
    "nums = [1,2,3,4,5,6,7]\n",
    "k = 3\n",
    "sol.rotate(nums,k)\n",
    "        "
   ]
  },
  {
   "cell_type": "markdown",
   "id": "ecf65ac3",
   "metadata": {},
   "source": [
    "## 🧠 [missing-number](https://leetcode.com/problems/missing-number/)"
   ]
  },
  {
   "cell_type": "code",
   "execution_count": null,
   "id": "28498585",
   "metadata": {},
   "outputs": [
    {
     "data": {
      "text/plain": [
       "8"
      ]
     },
     "execution_count": 9,
     "metadata": {},
     "output_type": "execute_result"
    }
   ],
   "source": [
    "class Solution:\n",
    "    def missingNumber(self, nums: list[int]) -> int:\n",
    "        lenght = len(nums)\n",
    "        total = sum(range(lenght +1))\n",
    "        return total - sum(nums)\n",
    "\n",
    "sol = Solution()\n",
    "nums = [9,6,4,2,3,5,7,0,1]\n",
    "sol.missingNumber(nums)"
   ]
  },
  {
   "cell_type": "markdown",
   "id": "f6d04aab",
   "metadata": {},
   "source": [
    "## 🧠 [intersection-of-two-arrays](https://leetcode.com/problems/intersection-of-two-arrays/description/)"
   ]
  },
  {
   "cell_type": "code",
   "execution_count": null,
   "id": "5ce130bb",
   "metadata": {},
   "outputs": [],
   "source": [
    "class Solution:\n",
    "    def intersection(self, nums1: list[int], nums2: list[int]) -> list[int]:\n",
    "        num1 = set(nums1)\n",
    "        num2 = set(nums2)\n",
    "        return list(num1 & num2)\n",
    "    \n",
    "\n",
    "sol = Solution()\n",
    "nums1 = [1,2,2,1], nums2 = [2,2]\n",
    "sol.intersection(nums1,nums2)"
   ]
  },
  {
   "cell_type": "markdown",
   "id": "a4adae33",
   "metadata": {},
   "source": [
    "## 🧠 [find-the-duplicate-numberarrays](https://leetcode.com/problems/find-the-duplicate-number/description/)"
   ]
  },
  {
   "cell_type": "code",
   "execution_count": 11,
   "id": "be54a52a",
   "metadata": {},
   "outputs": [
    {
     "data": {
      "text/plain": [
       "3"
      ]
     },
     "execution_count": 11,
     "metadata": {},
     "output_type": "execute_result"
    }
   ],
   "source": [
    "class Solution:\n",
    "    def findDuplicate(self, nums: list[int]) -> int:\n",
    "        numbers = set()\n",
    "\n",
    "        for number in nums:\n",
    "            if number in numbers:\n",
    "                return number\n",
    "            else:\n",
    "                numbers.add(number)\n",
    "\n",
    "\n",
    "\n",
    "\n",
    "sol = Solution()\n",
    "nums = [3,3,3,3,3]\n",
    "sol.findDuplicate(nums)"
   ]
  },
  {
   "cell_type": "markdown",
   "id": "984aa9d0",
   "metadata": {},
   "source": [
    "## 🧠 [contains-duplicate-ii](https://leetcode.com/problems/contains-duplicate-ii/)"
   ]
  },
  {
   "cell_type": "code",
   "execution_count": null,
   "id": "0667cc89",
   "metadata": {},
   "outputs": [
    {
     "data": {
      "text/plain": [
       "True"
      ]
     },
     "execution_count": 13,
     "metadata": {},
     "output_type": "execute_result"
    }
   ],
   "source": [
    "class Solution:\n",
    "    def containsNearbyDuplicate(self, nums: list[int], k: int) -> bool:\n",
    "        numbers = {}\n",
    "\n",
    "        for i ,number in enumerate(nums):\n",
    "            if number in numbers and abs(numbers[number] - i) <= k:\n",
    "                return True\n",
    "            numbers[number] = i\n",
    "        \n",
    "        else:\n",
    "            return False\n",
    "\n",
    "        \n",
    "sol = Solution()\n",
    "nums = [1,2,3,1] \n",
    "k = 3\n",
    "sol.containsNearbyDuplicate(nums,k)"
   ]
  },
  {
   "cell_type": "markdown",
   "id": "bbe454a4",
   "metadata": {},
   "source": [
    "## 🧠 [first-unique-character-in-a-string](https://leetcode.com/problems/first-unique-character-in-a-string/)"
   ]
  },
  {
   "cell_type": "code",
   "execution_count": 12,
   "id": "705bd0ff",
   "metadata": {},
   "outputs": [
    {
     "data": {
      "text/plain": [
       "0"
      ]
     },
     "execution_count": 12,
     "metadata": {},
     "output_type": "execute_result"
    }
   ],
   "source": [
    "class Solution:\n",
    "    def firstUniqChar(self, s: str) -> int:\n",
    "        hash = {}\n",
    "        for i,letter in enumerate(s):\n",
    "            if letter not in hash:\n",
    "                hash[letter] = i\n",
    "            else:\n",
    "                hash[letter] = None\n",
    "\n",
    "        for key,value in hash.items():\n",
    "            if value != None:\n",
    "                return value\n",
    "        return -1\n",
    "            \n",
    "sol = Solution()\n",
    "sol.firstUniqChar(\"leetcode\")"
   ]
  }
 ],
 "metadata": {
  "kernelspec": {
   "display_name": "Python 3",
   "language": "python",
   "name": "python3"
  },
  "language_info": {
   "codemirror_mode": {
    "name": "ipython",
    "version": 3
   },
   "file_extension": ".py",
   "mimetype": "text/x-python",
   "name": "python",
   "nbconvert_exporter": "python",
   "pygments_lexer": "ipython3",
   "version": "3.13.1"
  }
 },
 "nbformat": 4,
 "nbformat_minor": 5
}
