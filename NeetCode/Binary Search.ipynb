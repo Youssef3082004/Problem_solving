{
 "cells": [
  {
   "cell_type": "markdown",
   "id": "50dd81e3",
   "metadata": {},
   "source": [
    "## 🧠 [Binary-Search](https://neetcode.io/problems/binary-search?list=neetcode150)"
   ]
  },
  {
   "cell_type": "code",
   "execution_count": null,
   "id": "fd9de8f8",
   "metadata": {},
   "outputs": [
    {
     "data": {
      "text/plain": [
       "3"
      ]
     },
     "execution_count": 8,
     "metadata": {},
     "output_type": "execute_result"
    }
   ],
   "source": [
    "class Solution:\n",
    "    def search(self, nums: list[int], target: int) -> int:\n",
    "        left , right = 0 , len(nums) - 1\n",
    "        while right >= left:\n",
    "            m = (left + right) // 2\n",
    "\n",
    "            if nums[m] == target:\n",
    "                return m \n",
    "            \n",
    "            elif nums[m] > target:\n",
    "                right = m - 1\n",
    "            \n",
    "            elif nums[m] < target:\n",
    "                left = m + 1\n",
    "        \n",
    "        return -1\n",
    "\n",
    "\n",
    "sol = Solution()\n",
    "nums = [-1,0,2,4,6,8]\n",
    "sol.search(nums,4)"
   ]
  },
  {
   "cell_type": "markdown",
   "id": "0d495600",
   "metadata": {},
   "source": [
    "## 🧠 [search-2d-matrix](https://neetcode.io/problems/search-2d-matrix?list=neetcode150)"
   ]
  },
  {
   "cell_type": "code",
   "execution_count": 2,
   "id": "59f6aa6b",
   "metadata": {},
   "outputs": [
    {
     "data": {
      "text/plain": [
       "False"
      ]
     },
     "execution_count": 2,
     "metadata": {},
     "output_type": "execute_result"
    }
   ],
   "source": [
    "class Solution:\n",
    "    def searchMatrix(self, matrix: list[list[int]], target: int) -> bool:\n",
    "        left , right = 0, len(matrix) -1\n",
    "\n",
    "        while left <=right:\n",
    "            m = (left+right) // 2\n",
    "\n",
    "            if target in matrix[m]:\n",
    "                return True\n",
    "            \n",
    "            elif max(matrix[m]) > target:\n",
    "                right = m - 1\n",
    "            \n",
    "            else:\n",
    "                left = m +1 \n",
    "        \n",
    "        return False\n",
    "\n",
    "\n",
    "\n",
    "sol = Solution()\n",
    "matrix = [[1,2,4,8],[10,11,12,13],[14,20,30,40]]\n",
    "target = 15\n",
    "sol.searchMatrix(matrix=matrix,target=target)"
   ]
  },
  {
   "cell_type": "markdown",
   "id": "87de42e2",
   "metadata": {},
   "source": [
    "## 🧠 [eating-bananas](https://neetcode.io/problems/eating-bananas?list=neetcode150)"
   ]
  },
  {
   "cell_type": "code",
   "execution_count": null,
   "id": "e0ce3026",
   "metadata": {},
   "outputs": [
    {
     "data": {
      "text/plain": [
       "2"
      ]
     },
     "execution_count": 16,
     "metadata": {},
     "output_type": "execute_result"
    }
   ],
   "source": [
    "from math import ceil\n",
    "\n",
    "class Solution:\n",
    "    def minEatingSpeed(self, piles: list[int], h: int) -> int:\n",
    "        left , right = 1 , max(piles) \n",
    "\n",
    "        result = right\n",
    "        while right >= left:\n",
    "            m = (right + left) // 2\n",
    "            total_time = 0\n",
    "            for pile in piles:\n",
    "                total_time += ceil(float(pile) / m)\n",
    "            if total_time <= h:\n",
    "                result = m\n",
    "                right = m - 1\n",
    "            else:\n",
    "                left = m + 1\n",
    "        return result\n",
    "                \n",
    "\n",
    "\n",
    "sol = Solution()\n",
    "piles = [1,4,3,2]\n",
    "h = 9\n",
    "sol.minEatingSpeed(piles,h)"
   ]
  },
  {
   "cell_type": "markdown",
   "id": "3157867b",
   "metadata": {},
   "source": [
    "## 🧠 [find-minimum-in-rotated-sorted-array](https://neetcode.io/problems/find-minimum-in-rotated-sorted-array?list=neetcode150)"
   ]
  },
  {
   "cell_type": "code",
   "execution_count": 2,
   "id": "4d35a867",
   "metadata": {},
   "outputs": [
    {
     "data": {
      "text/plain": [
       "1"
      ]
     },
     "execution_count": 2,
     "metadata": {},
     "output_type": "execute_result"
    }
   ],
   "source": [
    "class Solution:\n",
    "    def findMin(self, nums: list[int]) -> int:\n",
    "        res = nums[0]\n",
    "        l, r = 0, len(nums) - 1\n",
    "\n",
    "        while l <= r:\n",
    "            if nums[l] < nums[r]:\n",
    "                res = min(res, nums[l])\n",
    "                break\n",
    "            \n",
    "            m = (l + r) // 2\n",
    "            res = min(res, nums[m])\n",
    "            if nums[m] >= nums[l]:\n",
    "                l = m + 1\n",
    "            else:\n",
    "                r = m - 1\n",
    "        return res\n",
    "\n",
    "sol = Solution()\n",
    "nums = [1,2,3,4,5,6]\n",
    "sol.findMin(nums)\n",
    "        "
   ]
  },
  {
   "cell_type": "markdown",
   "id": "d254b45b",
   "metadata": {},
   "source": [
    "## 🧠 [find-target-in-rotated-sorted-array](https://neetcode.io/problems/find-target-in-rotated-sorted-array?list=neetcode150)"
   ]
  },
  {
   "cell_type": "code",
   "execution_count": null,
   "id": "4a19339d",
   "metadata": {},
   "outputs": [
    {
     "data": {
      "text/plain": [
       "4"
      ]
     },
     "execution_count": 6,
     "metadata": {},
     "output_type": "execute_result"
    }
   ],
   "source": [
    "class Solution:\n",
    "    def search(self, nums: list[int], target: int) -> int:\n",
    "        for i in range(len(nums)):\n",
    "            num = nums[i]\n",
    "            if num == target:\n",
    "                return i\n",
    "        return -1\n",
    "\n",
    "\n",
    "\n",
    "nums = [3,4,5,6,1,2]\n",
    "target = 1\n",
    "\n",
    "sol = Solution()\n",
    "sol.search(nums=nums,target=target)"
   ]
  }
 ],
 "metadata": {
  "kernelspec": {
   "display_name": "Python 3",
   "language": "python",
   "name": "python3"
  },
  "language_info": {
   "codemirror_mode": {
    "name": "ipython",
    "version": 3
   },
   "file_extension": ".py",
   "mimetype": "text/x-python",
   "name": "python",
   "nbconvert_exporter": "python",
   "pygments_lexer": "ipython3",
   "version": "3.13.1"
  }
 },
 "nbformat": 4,
 "nbformat_minor": 5
}
