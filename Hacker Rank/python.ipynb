{
 "cells": [
  {
   "cell_type": "code",
   "execution_count": null,
   "metadata": {},
   "outputs": [],
   "source": [
    "# https://www.hackerrank.com/challenges/finding-the-percentage/problem?isFullScreen=true\n",
    "if __name__ == '__main__':\n",
    "    n = int(input())\n",
    "    student_marks = {}\n",
    "    for _ in range(n):\n",
    "        name, *line = input().split()\n",
    "        scores = list(map(float, line))\n",
    "        student_marks[name] = scores\n",
    "    query_name = input(\"query_name\")\n",
    "    avg = sum(student_marks[query_name])/ len(student_marks[query_name])\n",
    "    print(f\"{avg:.2f}\") \n",
    "    \n"
   ]
  },
  {
   "cell_type": "code",
   "execution_count": null,
   "metadata": {},
   "outputs": [],
   "source": [
    "# https://www.hackerrank.com/challenges/word-order/problem?isFullScreen=true\n",
    "from collections import OrderedDict\n",
    "n = int(input().strip())  \n",
    "word_counts = OrderedDict()  \n",
    "for _ in range(n):\n",
    "    word = input().strip()  \n",
    "    word_counts[word] = word_counts.get(word, 0) + 1  \n",
    "print(len(word_counts))\n",
    "print(\" \".join(map(str, word_counts.values())))\n",
    "\n",
    "\n",
    "# ====================== another _solution ===========================\n",
    "number_words = int(input(\"number of words ?\"))\n",
    "Words = []\n",
    "for index in range(number_words):\n",
    "    x = input(f\"Enter {index}:{number_words} Word\")\n",
    "    Words.append(x)\n",
    "\n",
    "print(len(set(Words)))\n",
    "x = sorted([str(Words.count(x)) for x in set(Words)],reverse=True)\n",
    "print(\" \".join(x))\n",
    "\n",
    "\n"
   ]
  },
  {
   "cell_type": "code",
   "execution_count": null,
   "metadata": {},
   "outputs": [],
   "source": [
    "# https://www.hackerrank.com/challenges/introduction-to-regex/problem?isFullScreen=true\n",
    "import re \n",
    "\n",
    "n = int(input())\n",
    "for x in range(n):\n",
    "    word = input()\n",
    "    match = re.match(pattern=r\"^[+-]?\\d*\\.\\d+$\",string=word)\n",
    "    if match :\n",
    "        print(True)\n",
    "    else:\n",
    "        print(False)\n",
    "\n"
   ]
  },
  {
   "cell_type": "code",
   "execution_count": null,
   "metadata": {},
   "outputs": [],
   "source": [
    "#! https://www.hackerrank.com/challenges/python-string-formatting/problem?isFullScreen=true\n",
    "def print_formatted(Number:int):\n",
    "    bin_of_number = bin(Number)[2:]\n",
    "    padding = len(bin_of_number)\n",
    "    for i in range (1, Number +1 ):\n",
    "        decimal_value = str(i)\n",
    "        octa_value = oct(i)[2:]\n",
    "        hexadecimal_value = hex(i).upper()[2:]\n",
    "        binary_value = bin(i)[2:]\n",
    "\n",
    "        print(decimal_value.rjust(padding),octa_value.rjust(padding),hexadecimal_value.rjust(padding),binary_value.rjust(padding))\n"
   ]
  },
  {
   "cell_type": "code",
   "execution_count": null,
   "metadata": {},
   "outputs": [],
   "source": [
    "# https://www.hackerrank.com/challenges/capitalize/problem?isFullScreen=true\n",
    "def solve(s:str):\n",
    "    names = s.split(\" \")\n",
    "    name = [name.capitalize() for name in names]\n",
    "    return \" \".join(name)\n",
    "\n",
    "solve(\"youssef mustafa gamal\")\n",
    "\n",
    "    "
   ]
  },
  {
   "cell_type": "code",
   "execution_count": null,
   "metadata": {},
   "outputs": [],
   "source": [
    "# https://www.hackerrank.com/challenges/py-introduction-to-sets/problem?isFullScreen=true\n",
    "\n",
    "def average(array:int):\n",
    "    return sum(set(array)) / len(set(array))\n",
    "    \n",
    "if __name__ == '__main__':\n",
    "    n = int(input())\n",
    "    arr = list(map(int, input().split()))\n",
    "    result = average(arr)\n",
    "    print(result)"
   ]
  },
  {
   "cell_type": "code",
   "execution_count": null,
   "metadata": {},
   "outputs": [],
   "source": [
    "# https://www.hackerrank.com/challenges/python-mod-divmod/problem?isFullScreen=true\n",
    "\n",
    "first_number = int(input())\n",
    "second_number = int(input())\n",
    "\n",
    "def return_devmod(first_number:int ,second_number:int):\n",
    "    result = divmod(first_number,second_number)\n",
    "    print(result[0])\n",
    "    print(result[1])\n",
    "    print(result)\n",
    "\n",
    "\n",
    "\n",
    "return_devmod(first_number,second_number)\n",
    "\n"
   ]
  },
  {
   "cell_type": "code",
   "execution_count": null,
   "metadata": {},
   "outputs": [],
   "source": [
    "# https://www.hackerrank.com/challenges/python-power-mod-power/problem?isFullScreen=true\n",
    "\n",
    "first_number = int(input())\n",
    "second_number = int(input())\n",
    "third_number = int(input())\n",
    "\n",
    "\n",
    "def return_pow(first_number:int ,second_number:int,third_number:int):\n",
    "    result1 = pow(first_number,second_number)\n",
    "    result = pow(first_number,second_number,third_number)\n",
    "    print(result1)\n",
    "    print(result)\n",
    "    \n",
    "return_pow(first_number,second_number,third_number)\n"
   ]
  },
  {
   "cell_type": "code",
   "execution_count": null,
   "metadata": {},
   "outputs": [],
   "source": [
    "# https://www.hackerrank.com/challenges/np-arrays/problem?isFullScreen=true\n",
    "\n",
    "import numpy\n",
    "\n",
    "def arrays(arr):\n",
    "    arr =list( map(lambda x :float(x),arr))\n",
    "    arr = arr[::-1]\n",
    "    return numpy.array(arr)\n",
    "\n",
    "\n",
    "x = arrays([\"1\",\"2\",\"3\",\"4\"])\n",
    "print(x)\n"
   ]
  },
  {
   "cell_type": "code",
   "execution_count": null,
   "metadata": {},
   "outputs": [],
   "source": [
    "# https://www.hackerrank.com/challenges/alphabet-rangoli/problem?isFullScreen=true\n",
    "def print_rangoli(size:int):\n",
    "    alphabet = ['a', 'b', 'c', 'd', 'e', 'f', 'g', 'h', 'i', 'j', 'k', 'l', 'm', 'n', 'o', 'p', 'q', 'r', 's', 't', 'u', 'v', 'w', 'x', 'y', 'z']\n",
    "    width = (size * 2 - 1) * 2 - 1\n",
    "    sub_alphabet = alphabet[0:size][::-1]\n",
    "    rows = dict()\n",
    "\n",
    "    for iter in range(len(sub_alphabet)):\n",
    "        # center = [another letters]\n",
    "        rows[sub_alphabet[iter]] = sub_alphabet[0:iter]\n",
    "    \n",
    "    centers = list(rows.keys())\n",
    "    rest = list(rows.values())\n",
    "   \n",
    "    for iter in range(len(sub_alphabet)): \n",
    "        text = f\"{'-'.join(rest[iter])}-{centers[iter]}-{'-'.join(rest[iter][::-1])}\" if size != 1 else \"a\"\n",
    "        print(text.center(width,\"-\"))\n",
    "        \n",
    "    for iter in range(len(sub_alphabet)-2,-1,-1):\n",
    "        text = f\"{'-'.join(rest[iter])}-{centers[iter]}-{'-'.join(rest[iter][::-1])}\"\n",
    "        print(text.center(width,\"-\"))\n",
    "\n",
    "\n",
    "print_rangoli(1)"
   ]
  },
  {
   "cell_type": "code",
   "execution_count": null,
   "metadata": {},
   "outputs": [],
   "source": [
    "# https://www.hackerrank.com/challenges/the-minion-game/problem\n",
    "def minion_game(string):\n",
    "    l = len(string)\n",
    "    Stuart,Kevin = 0,0\n",
    "    for i in range(l):\n",
    "        if string[i] in \"AEIOU\":\n",
    "            Kevin+=l-i\n",
    "            print(Kevin)\n",
    "        else:\n",
    "            Stuart+=l-i\n",
    "            print(f\"Stuart {Stuart}\")\n",
    "    \n",
    "    print(f\"Stuart {Stuart}\" if Stuart>Kevin else f\"Kevin {Kevin}\" if Kevin>Stuart else \"Draw\")\n",
    "    \n",
    "                \n",
    "\n",
    "if __name__ == '__main__':\n",
    "    s = \"HELLO\"\n",
    "    minion_game(s)"
   ]
  },
  {
   "cell_type": "code",
   "execution_count": null,
   "metadata": {},
   "outputs": [],
   "source": [
    "#https://www.hackerrank.com/challenges/compress-the-string/problem?isFullScreen=true\n",
    "from itertools import groupby\n",
    "\n",
    "def data(string:str): \n",
    "    grouped = groupby(string)\n",
    "    for key, group in grouped:\n",
    "        print(((len(list(group))),int(key) ) ,end=\" \")\n",
    "\n",
    "if __name__ == \"__main__\":\n",
    "    s = input()\n",
    "    data(s)\n",
    "\n",
    "\n"
   ]
  },
  {
   "cell_type": "code",
   "execution_count": null,
   "metadata": {},
   "outputs": [],
   "source": [
    "#https://www.hackerrank.com/challenges/maximize-it/problem?isFullScreen=true\n",
    "from itertools import product\n",
    "\n",
    "\n",
    "K , M = map(int,input().split())\n",
    "Numbers = dict()\n",
    "S = 0\n",
    "for round in range(K):\n",
    "    _ , Numbers[round] = list(map(int,input().split()))\n",
    "\n",
    "S = max(S, max(sum(x ** 2 for x in combo) % M for combo in product(*Numbers.values())))\n",
    "print(S)"
   ]
  },
  {
   "cell_type": "code",
   "execution_count": null,
   "metadata": {},
   "outputs": [
    {
     "name": "stdout",
     "output_type": "stream",
     "text": [
      "youssnf \n"
     ]
    }
   ],
   "source": [
    "#https://www.hackerrank.com/challenges/python-mutations/problem?isFullScreen=true\n",
    "\n",
    "def mutate_string(string, position, character):\n",
    "    string_list = list(string)\n",
    "    string_list[position] = character\n",
    "    return \"\".join(string_list)\n",
    "\n",
    "if __name__ == '__main__':\n",
    "    s = input()\n",
    "    i, c = input().split()\n",
    "    s_new = mutate_string(s, int(i), c)\n",
    "    print(s_new)"
   ]
  },
  {
   "cell_type": "code",
   "execution_count": null,
   "metadata": {},
   "outputs": [
    {
     "name": "stdout",
     "output_type": "stream",
     "text": [
      "False\n",
      "True\n"
     ]
    }
   ],
   "source": [
    "# https://www.hackerrank.com/challenges/incorrect-regex/problem?isFullScreen=true\n",
    "# for python version 2 only\n",
    "\n",
    "import re\n",
    "def valid_or_not(pattern):\n",
    "    try:\n",
    "        result = re.findall(pattern, \"youssef\")\n",
    "        return False if len(result) > 1 else True\n",
    "    except re.error:\n",
    "        return False  \n",
    "\n",
    "bool_ = []\n",
    "# n = int(raw_input())\n",
    "for x in range(n):\n",
    "    pattern = raw_input()\n",
    "    bool_.append(str(valid_or_not(pattern)))\n",
    "\n",
    "for val in bool_:\n",
    "    print val\n"
   ]
  },
  {
   "cell_type": "code",
   "execution_count": null,
   "metadata": {},
   "outputs": [],
   "source": [
    "# https://www.hackerrank.com/challenges/incorrect-regex/problem?isFullScreen=true\n",
    "# for python version 3 \n",
    "import re \n",
    "\n",
    "def valid_or_not(pattern:str):\n",
    "    result = re.findall(rf\"{pattern}\",\"youssef\")\n",
    "    return False if len(result) > 1 else True\n",
    "\n",
    "bool_ = []\n",
    "n = int(input())\n",
    "for x in range(n):\n",
    "    pattern = input()\n",
    "    bool_.append(str(valid_or_not(pattern)))\n",
    "\n",
    "print(*bool_,sep=\"\\n\")\n"
   ]
  },
  {
   "cell_type": "code",
   "execution_count": null,
   "metadata": {},
   "outputs": [],
   "source": [
    "#!/bin/python3\n",
    "\n",
    "import math\n",
    "import os\n",
    "import random\n",
    "import re\n",
    "import sys\n",
    "\n",
    "\n",
    "#\n",
    "# Complete the 'mostActive' function below.\n",
    "#\n",
    "# The function is expected to return a STRING_ARRAY.\n",
    "# The function accepts STRING_ARRAY customers as parameter.\n",
    "#\n",
    "\n",
    "def mostActive(customers:list):\n",
    "    customers_precentage = []\n",
    "    for name in sorted(set(customers)):\n",
    "        precentage = (customers.count(name) / len(customers)) *100\n",
    "        if precentage >= 5:\n",
    "            customers_precentage.append(name)\n",
    "    \n",
    "\n",
    "    return customers_precentage\n",
    "    \n",
    "if __name__ == '__main__':\n",
    "    fptr = open(os.environ['OUTPUT_PATH'], 'w')\n",
    "\n",
    "    customers_count = int(input().strip())\n",
    "\n",
    "    customers = []\n",
    "\n",
    "    for _ in range(customers_count):\n",
    "        customers_item = input()\n",
    "        customers.append(customers_item)\n",
    "\n",
    "    result = mostActive(customers)\n",
    "\n",
    "    fptr.write('\\n'.join(result))\n",
    "    fptr.write('\\n')\n",
    "\n",
    "    fptr.close()\n"
   ]
  },
  {
   "cell_type": "code",
   "execution_count": 40,
   "metadata": {},
   "outputs": [
    {
     "data": {
      "text/plain": [
       "['Acme', 'Bigcorp', 'Zork']"
      ]
     },
     "execution_count": 40,
     "metadata": {},
     "output_type": "execute_result"
    }
   ],
   "source": [
    "customers = [\"Bigcorp\", \"Bigcorp\", \"Acme\",\n",
    "\"Bigcorp\", \"Zork\", \"Zork\", \"Abc\", \"Bigcorp\",\n",
    "\"Acme\", \"Bigcorp\", \"Bigcorp\", \"Zork\", \"Bigcorp\",\n",
    "\"Zork\", \"Zork\", \"Bigcorp\", \"Acme\", \"Bigcorp\",\n",
    "\"Acme\", \"Bigcorp\", \"Acme\", \"Littlecorp\",\n",
    "\"Nadircorp\"]\n",
    "\n",
    "def mostActive(customers:list):\n",
    "    customers_precentage = []\n",
    "    for name in customers:\n",
    "        precentage = (customers.count(name) / len(customers)) *100\n",
    "        if precentage >= 5 and name not in customers_precentage:\n",
    "            customers_precentage.append(name)\n",
    "    \n",
    "\n",
    "    return sorted(customers_precentage)\n",
    "\n",
    "# mostActive(customers)\n",
    "\n",
    "\n",
    "def mostActive(customers: list):\n",
    "    counts = {}\n",
    "    for name in customers:\n",
    "        counts[name] = counts.get(name, 0) + 1\n",
    "\n",
    "    total = len(customers)\n",
    "    result = [name for name, count in counts.items() if (count / total) * 100 >= 5]\n",
    "    return sorted(result)\n",
    "\n",
    "mostActive(customers)\n",
    "\n"
   ]
  },
  {
   "cell_type": "code",
   "execution_count": null,
   "metadata": {},
   "outputs": [
    {
     "data": {
      "text/plain": [
       "' FuN'"
      ]
     },
     "execution_count": 50,
     "metadata": {},
     "output_type": "execute_result"
    }
   ],
   "source": [
    "def reverse_words_order_and_swap_cases(sentence:str):\n",
    "    swaped_sentence = sentence.swapcase().split(\" \")[::-1]\n",
    "\n",
    "    return \" \".join(swaped_sentence)\n",
    "reverse_words_order_and_swap_cases(\"fUn\")"
   ]
  },
  {
   "cell_type": "code",
   "execution_count": null,
   "metadata": {},
   "outputs": [],
   "source": [
    "#!/bin/python3\n",
    "\n",
    "import math\n",
    "import os\n",
    "import random\n",
    "import re\n",
    "import sys\n",
    "\n",
    "\n",
    "class Multiset:\n",
    "\n",
    "    def add(self, val):\n",
    "        # adds one occurrence of val from the multiset, if any\n",
    "        pass\n",
    "\n",
    "    def remove(self, val):\n",
    "        # removes one occurrence of val from the multiset, if any\n",
    "        pass\n",
    "\n",
    "    def __contains__(self, val):\n",
    "        # returns True when val is in the multiset, else returns False\n",
    "        return False\n",
    "    \n",
    "    def __len__(self):\n",
    "        # returns the number of elements in the multiset\n",
    "        return 0\n",
    "if __name__ == '__main__':\n",
    "    def performOperations(operations):\n",
    "        m = Multiset()\n",
    "        result = []\n",
    "        for op_str in operations:\n",
    "            elems = op_str.split()\n",
    "            if elems[0] == 'size':\n",
    "                result.append(len(m))\n",
    "            else:\n",
    "                op, val = elems[0], int(elems[1])\n",
    "                if op == 'query':\n",
    "                    result.append(val in m)\n",
    "                elif op == 'add':\n",
    "                    m.add(val)\n",
    "                elif op == 'remove':\n",
    "                    m.remove(val)\n",
    "        return result\n",
    "\n",
    "    q = int(input())\n",
    "    operations = []\n",
    "    for _ in range(q):\n",
    "        operations.append(input())\n",
    "\n",
    "    result = performOperations(operations)\n",
    "    \n",
    "    fptr = open(os.environ['OUTPUT_PATH'], 'w')\n",
    "    fptr.write('\\n'.join(map(str, result)))\n",
    "    fptr.write('\\n')\n",
    "    fptr.close()"
   ]
  }
 ],
 "metadata": {
  "kernelspec": {
   "display_name": "Python 3",
   "language": "python",
   "name": "python3"
  },
  "language_info": {
   "codemirror_mode": {
    "name": "ipython",
    "version": 3
   },
   "file_extension": ".py",
   "mimetype": "text/x-python",
   "name": "python",
   "nbconvert_exporter": "python",
   "pygments_lexer": "ipython3",
   "version": "3.13.1"
  }
 },
 "nbformat": 4,
 "nbformat_minor": 2
}
