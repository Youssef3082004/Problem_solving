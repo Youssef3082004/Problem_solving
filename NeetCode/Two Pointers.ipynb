{
 "cells": [
  {
   "cell_type": "markdown",
   "id": "a2b471ed",
   "metadata": {},
   "source": [
    "## 🧠 [is-palindrome](https://neetcode.io/problems/is-palindrome?list=neetcode150)"
   ]
  },
  {
   "cell_type": "code",
   "execution_count": null,
   "id": "c6de7197",
   "metadata": {},
   "outputs": [
    {
     "data": {
      "text/plain": [
       "True"
      ]
     },
     "execution_count": 8,
     "metadata": {},
     "output_type": "execute_result"
    }
   ],
   "source": [
    "class Solution:\n",
    "    def isPalindrome(self, s: str) -> bool:\n",
    "        word = []\n",
    "        for char in s:\n",
    "            if char.isalnum():\n",
    "                word.append(char.lower())\n",
    "        \n",
    "        return \"\".join(word) == \"\".join(word)[::-1]\n",
    "\n",
    "\n",
    "sol = Solution()\n",
    "s = \"Was it a car or a cat I saw?\"\n",
    "sol.isPalindrome(s)"
   ]
  }
 ],
 "metadata": {
  "kernelspec": {
   "display_name": "Python 3",
   "language": "python",
   "name": "python3"
  },
  "language_info": {
   "codemirror_mode": {
    "name": "ipython",
    "version": 3
   },
   "file_extension": ".py",
   "mimetype": "text/x-python",
   "name": "python",
   "nbconvert_exporter": "python",
   "pygments_lexer": "ipython3",
   "version": "3.13.1"
  }
 },
 "nbformat": 4,
 "nbformat_minor": 5
}
