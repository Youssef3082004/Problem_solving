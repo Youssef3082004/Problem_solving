{
 "cells": [
  {
   "cell_type": "markdown",
   "id": "647fd9a6",
   "metadata": {},
   "source": [
    "## 🧠 [Two-sum](https://leetcode.com/problems/two-sum/description/)"
   ]
  },
  {
   "cell_type": "code",
   "execution_count": null,
   "id": "f2e7e826",
   "metadata": {},
   "outputs": [],
   "source": [
    "class Solution(object):\n",
    "    @staticmethod\n",
    "    def twoSum(nums:list[int], target:int):\n",
    "        target_list = [(x,y) for x in range(len(nums)) for y in range(len(nums)) if nums[x]+nums[y] == target and x!=y]\n",
    "        numbers = [num for tup in target_list for num in tup ]\n",
    "        return list(set(numbers))\n",
    "        \n",
    "\n",
    "c = Solution.twoSum([3,2,4],target=6)"
   ]
  },
  {
   "cell_type": "markdown",
   "id": "c7d7d7cb",
   "metadata": {},
   "source": [
    "### 🧠 [roman-to-integer](https://leetcode.com/problems/roman-to-integer/description/)\n"
   ]
  },
  {
   "cell_type": "code",
   "execution_count": null,
   "id": "21d95ad1",
   "metadata": {},
   "outputs": [],
   "source": [
    "class Solution:\n",
    "    \n",
    "    Roman_num = {'M': 1000,  'D': 500,'C': 100, 'L': 50,  'X': 10, 'V': 5, 'I': 1}\n",
    "    pairs = {'CM': 900,'XL': 40,'IX': 9, 'CD': 400,'XC': 90,'IV': 4}\n",
    "\n",
    "    def romanToInt(self, s: str) -> int:\n",
    "        \n",
    "        s=s.replace(\"IV\",\"IIII\")\n",
    "        s=s.replace(\"XC\",\"LXXXX\")\n",
    "        s=s.replace(\"CD\",\"CCCC\")\n",
    "        s=s.replace(\"IX\",\"VIIII\")\n",
    "        s=s.replace(\"CM\",\"DCCCC\")\n",
    "        s=s.replace(\"XL\",\"XXXX\")\n",
    "        sum = 0\n",
    "        \n",
    "        for letter in range(0,len(s)):\n",
    "            sum += Solution.Roman_num[s[letter]]    \n",
    "        else:\n",
    "            return sum\n",
    "\n",
    "\n",
    "sol = Solution()\n",
    "\n",
    "string = \"MCMXCIV\"\n",
    "sol.romanToInt(string)"
   ]
  },
  {
   "cell_type": "markdown",
   "id": "0eb662b7",
   "metadata": {},
   "source": [
    "### 🧠 [Longest-Common-Prefix](https://leetcode.com/problems/longest-common-prefix/description/)\n"
   ]
  },
  {
   "cell_type": "code",
   "execution_count": null,
   "id": "34f32b38",
   "metadata": {},
   "outputs": [],
   "source": [
    "class Solution:\n",
    "    def longestCommonPrefix(self, strs: list[str]) -> str:\n",
    "        strs = sorted(strs)\n",
    "        print(strs)\n",
    "        first = strs[0]\n",
    "        last = strs[-1]\n",
    "        ans = ''\n",
    "\n",
    "        for x in range(min(len(first),len(last))):\n",
    "            if(first[x]!=last[x]):\n",
    "                return ans\n",
    "            ans+=first[x]\n",
    "        return ans \n",
    "\n",
    "\n",
    "\n",
    "\n",
    "sol = Solution()\n",
    "sol.longestCommonPrefix([\"flower\",\"flow\",\"flight\",\"flil\"])"
   ]
  },
  {
   "cell_type": "markdown",
   "id": "f94a7849",
   "metadata": {},
   "source": [
    "## 🧠 [valid-parentheses](https://leetcode.com/problems/valid-parentheses/submissions/1677173836/)"
   ]
  },
  {
   "cell_type": "code",
   "execution_count": null,
   "id": "c5946652",
   "metadata": {},
   "outputs": [],
   "source": [
    "class Solution:\n",
    "    def isValid(self, s: str) -> bool:\n",
    "        closeToOpen = { \")\" : \"(\", \"]\" : \"[\", \"}\" : \"{\" }\n",
    "        Stack = []\n",
    "\n",
    "        for x in s:\n",
    "            if x in closeToOpen:\n",
    "                if Stack and Stack[-1] == closeToOpen[x]:\n",
    "                    Stack.pop()\n",
    "                else:\n",
    "                    return False\n",
    "            else:\n",
    "                Stack.append(x)\n",
    "\n",
    "        return False if len(Stack) > 0 else True\n",
    "\n",
    "\n",
    "sol = Solution()\n",
    "sol.isValid(\"([{])\")"
   ]
  },
  {
   "cell_type": "markdown",
   "id": "dcd12ca8",
   "metadata": {},
   "source": [
    "## 🧠 [single-number](https://leetcode.com/problems/single-number/)"
   ]
  },
  {
   "cell_type": "code",
   "execution_count": null,
   "id": "00dfe31a",
   "metadata": {},
   "outputs": [],
   "source": [
    "class Solution:\n",
    "    def singleNumber(self, nums: list[int]) -> int:\n",
    "        nums = sorted(nums)\n",
    "        Stack = []\n",
    "\n",
    "        for num in nums:\n",
    "            if num not in Stack:\n",
    "                Stack.append(num)\n",
    "            else:\n",
    "                Stack.pop(-1)\n",
    "        return Stack[0]\n",
    "        \n",
    "\n",
    "sol = Solution()\n",
    "nums = [4,1,2,1,2]\n",
    "sol.singleNumber(nums=nums)"
   ]
  },
  {
   "cell_type": "markdown",
   "id": "2343da91",
   "metadata": {},
   "source": [
    "## 🧠 [find-subsequence-of-length-k-with-the-largest-sum](https://leetcode.com/problems/find-subsequence-of-length-k-with-the-largest-sum/description/?envType=daily-question&envId=2025-06-28)"
   ]
  },
  {
   "cell_type": "code",
   "execution_count": null,
   "id": "f3f9dc43",
   "metadata": {},
   "outputs": [],
   "source": [
    "class Solution:\n",
    "    def maxSubsequence(self, nums: list[int], k: int) -> list[int]:\n",
    "        indexed_nums = [(num, i) for i, num in enumerate(nums)]\n",
    "\n",
    "        print(indexed_nums)\n",
    "        # نختار أكبر k عناصر حسب القيمة\n",
    "        top_k = sorted(indexed_nums, key=lambda x: (-x[0], x[1]))[:k]\n",
    "        print(top_k)\n",
    "\n",
    "\n",
    "        # نعيد ترتيب العناصر حسب مواقعها الأصلية للحفاظ على الترتيب\n",
    "        top_k_sorted = sorted(top_k, key=lambda x: x[1])\n",
    "        print(top_k_sorted)\n",
    "\n",
    "        return [num for num, i in top_k_sorted]\n",
    "\n",
    "\n",
    "sol = Solution()\n",
    "nums = [-1,-2,3,4]\n",
    "k = 3\n",
    "sol.maxSubsequence(nums,k)\n",
    "        "
   ]
  },
  {
   "cell_type": "markdown",
   "id": "0e453321",
   "metadata": {},
   "source": [
    "## 🧠 [Plus-one](https://leetcode.com/problems/plus-one/description/)"
   ]
  },
  {
   "cell_type": "code",
   "execution_count": null,
   "id": "9d140ea6",
   "metadata": {},
   "outputs": [],
   "source": [
    "class Solution:\n",
    "    def plusOne(self, digits: list[int]) -> list[int]:\n",
    "        digits = [str(digit) for digit in digits]\n",
    "        number = int(\"\".join(digits)) + 1\n",
    "        result = [int(digit) for digit in str(number)]\n",
    "        return result\n",
    "\n",
    "\n",
    "\n",
    "sol = Solution()\n",
    "digits = [19]\n",
    "sol.plusOne(digits)\n",
    "        "
   ]
  },
  {
   "cell_type": "markdown",
   "id": "1788b610",
   "metadata": {},
   "source": [
    "## 🧠 [length-of-last-word](https://leetcode.com/problems/length-of-last-word/description/)"
   ]
  },
  {
   "cell_type": "code",
   "execution_count": null,
   "id": "434820d3",
   "metadata": {},
   "outputs": [],
   "source": [
    "class Solution:\n",
    "    def lengthOfLastWord(self, s: str) -> int:\n",
    "        s = s.split(\" \")\n",
    "        \n",
    "\n",
    "        for i in range(-1,-len(s)-1,-1):\n",
    "            word = s[i]\n",
    "            if word.isalpha() == True:\n",
    "                return len(word)\n",
    "            \n",
    "\n",
    "\n",
    "sol = Solution()\n",
    "s = \"a\"\n",
    "sol.lengthOfLastWord(s)"
   ]
  },
  {
   "cell_type": "markdown",
   "id": "388f00b4",
   "metadata": {},
   "source": [
    "## 🧠 [score-of-a-string](https://leetcode.com/problems/score-of-a-string/description/)"
   ]
  },
  {
   "cell_type": "code",
   "execution_count": null,
   "id": "fc297187",
   "metadata": {},
   "outputs": [],
   "source": [
    "class Solution:\n",
    "    def scoreOfString(self, s: str) -> int:\n",
    "        total = 0\n",
    "        for i in range(len(s) - 1):\n",
    "            total += abs(ord(s[i]) - ord(s[i+1]))\n",
    "        return total"
   ]
  },
  {
   "cell_type": "markdown",
   "id": "13e74836",
   "metadata": {},
   "source": [
    "## 🧠 [rename-columns](https://leetcode.com/problems/rename-columns/)"
   ]
  },
  {
   "cell_type": "code",
   "execution_count": null,
   "id": "96e8d6b7",
   "metadata": {},
   "outputs": [],
   "source": [
    "import pandas as pd\n",
    "\n",
    "def renameColumns(students: pd.DataFrame) -> pd.DataFrame:\n",
    "    students.rename(columns={'id': 'student_id', 'first': 'first_name', 'last': 'last_name', 'age': 'age_in_years'}, inplace=True)\n",
    "    return students"
   ]
  },
  {
   "cell_type": "markdown",
   "id": "136cb45e",
   "metadata": {},
   "source": [
    "## 🧠 [palindrome-number](https://leetcode.com/problems/palindrome-number/description/)"
   ]
  },
  {
   "cell_type": "code",
   "execution_count": null,
   "id": "80618cdd",
   "metadata": {},
   "outputs": [],
   "source": [
    "class Solution:\n",
    "    def isPalindrome(self, x: int) -> bool:\n",
    "        string = str(x)\n",
    "        for x in range(len(string) // 2):\n",
    "\n",
    "            if string[x] != string[-(1 + x)]:\n",
    "                return False\n",
    "        return True\n",
    "\n",
    "\n",
    "\n",
    "sol = Solution()\n",
    "sol.isPalindrome(15851)\n"
   ]
  },
  {
   "cell_type": "markdown",
   "id": "81c612ba",
   "metadata": {},
   "source": [
    "## 🧠 [missing-number](https://leetcode.com/problems/missing-number/)"
   ]
  },
  {
   "cell_type": "code",
   "execution_count": null,
   "id": "763f8602",
   "metadata": {},
   "outputs": [],
   "source": [
    "class Solution:\n",
    "    def missingNumber(self, nums: list[int]) -> int:\n",
    "        lenght = len(nums) \n",
    "        total = sum(range(lenght))\n",
    "        return total - sum(nums)\n",
    "\n",
    "sol = Solution()\n",
    "nums = [1,2,4,5]\n",
    "sol.missingNumber(nums)"
   ]
  },
  {
   "cell_type": "markdown",
   "id": "3ab4450a",
   "metadata": {},
   "source": [
    "## 🧠 [intersection-of-two-arrays](https://leetcode.com/problems/intersection-of-two-arrays/description/)"
   ]
  },
  {
   "cell_type": "code",
   "execution_count": null,
   "id": "854eeb40",
   "metadata": {},
   "outputs": [],
   "source": [
    "class Solution:\n",
    "    def intersection(self, nums1: list[int], nums2: list[int]) -> list[int]:\n",
    "        num1 = set(nums1)\n",
    "        num2 = set(nums2)\n",
    "        return list(num1 & num2)\n",
    "    \n",
    "\n",
    "sol = Solution()\n",
    "nums1 = [1,2,2,1], nums2 = [2,2]\n",
    "sol.intersection(nums1,nums2)"
   ]
  },
  {
   "cell_type": "markdown",
   "id": "7151d51d",
   "metadata": {},
   "source": [
    "## 🧠 [contains-duplicate-ii](https://leetcode.com/problems/contains-duplicate-ii/)"
   ]
  },
  {
   "cell_type": "code",
   "execution_count": null,
   "id": "0c7330b9",
   "metadata": {},
   "outputs": [],
   "source": [
    "class Solution:\n",
    "    def containsNearbyDuplicate(self, nums: list[int], k: int) -> bool:\n",
    "        numbers = {}\n",
    "\n",
    "        for i ,number in enumerate(nums):\n",
    "            if number in numbers and abs(numbers[number] - i) <= k:\n",
    "                return True\n",
    "            numbers[number] = i\n",
    "        \n",
    "        else:\n",
    "            return False\n",
    "\n",
    "        \n",
    "sol = Solution()\n",
    "nums = [1,2,3,1] \n",
    "k = 3\n",
    "sol.containsNearbyDuplicate(nums,k)"
   ]
  },
  {
   "cell_type": "markdown",
   "id": "02094e13",
   "metadata": {},
   "source": [
    "## 🧠 [first-unique-character-in-a-string](https://leetcode.com/problems/first-unique-character-in-a-string/)"
   ]
  },
  {
   "cell_type": "code",
   "execution_count": null,
   "id": "450f0f47",
   "metadata": {},
   "outputs": [],
   "source": [
    "class Solution:\n",
    "    def firstUniqChar(self, s: str) -> int:\n",
    "        hash = {}\n",
    "        for i,letter in enumerate(s):\n",
    "            if letter not in hash:\n",
    "                hash[letter] = i\n",
    "            else:\n",
    "                hash[letter] = None\n",
    "\n",
    "        for key,value in hash.items():\n",
    "            if value != None:\n",
    "                return value\n",
    "        return -1\n",
    "            \n",
    "sol = Solution()\n",
    "sol.firstUniqChar(\"leetcode\")"
   ]
  },
  {
   "cell_type": "markdown",
   "id": "deb192ca",
   "metadata": {},
   "source": [
    "## 🧠 [power-of-three](https://leetcode.com/problems/power-of-three/description/)"
   ]
  },
  {
   "cell_type": "code",
   "execution_count": null,
   "id": "d1132a8b",
   "metadata": {},
   "outputs": [],
   "source": [
    "class Solution:\n",
    "    def isPowerOfThree(self, n: int) -> bool:\n",
    "        if n <= 0:\n",
    "            return False\n",
    "        while n % 3 == 0:\n",
    "            n = n // 3\n",
    "        return n == 1\n",
    "\n",
    "sol = Solution()\n",
    "sol.isPowerOfThree(243)        \n"
   ]
  },
  {
   "cell_type": "markdown",
   "id": "07870273",
   "metadata": {},
   "source": [
    "## 🧠 [search-insert-position](https://leetcode.com/problems/search-insert-position/description/)"
   ]
  },
  {
   "cell_type": "code",
   "execution_count": null,
   "id": "8f698c48",
   "metadata": {},
   "outputs": [],
   "source": [
    "class Solution:\n",
    "    def searchInsert(self, nums: list[int], target: int) -> int:\n",
    "        left , right = 0 , len(nums) -1\n",
    "\n",
    "        while left <= right :\n",
    "            m = (left+right) // 2\n",
    "            if nums[m] == target :\n",
    "                return m             \n",
    "            elif nums[m] < target  :\n",
    "                left = m + 1\n",
    "            else:\n",
    "                right = m - 1\n",
    "        return left\n",
    "\n",
    "                \n",
    "sol = Solution()\n",
    "nums = [1,3,5,6]\n",
    "target = 2\n",
    "sol.searchInsert(nums,target)\n",
    "        "
   ]
  }
 ],
 "metadata": {
  "kernelspec": {
   "display_name": "Python 3",
   "language": "python",
   "name": "python3"
  },
  "language_info": {
   "name": "python",
   "version": "3.13.1"
  }
 },
 "nbformat": 4,
 "nbformat_minor": 5
}
