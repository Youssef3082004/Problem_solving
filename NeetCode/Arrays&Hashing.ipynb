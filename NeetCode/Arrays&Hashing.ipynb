{
 "cells": [
  {
   "cell_type": "markdown",
   "id": "19f0e549",
   "metadata": {},
   "source": [
    "### 🧠 [duplicate-integer](https://neetcode.io/problems/duplicate-integer?list=neetcode150)\n"
   ]
  },
  {
   "cell_type": "code",
   "execution_count": null,
   "id": "30deff0d",
   "metadata": {},
   "outputs": [
    {
     "data": {
      "text/plain": [
       "False"
      ]
     },
     "execution_count": 5,
     "metadata": {},
     "output_type": "execute_result"
    }
   ],
   "source": [
    "class Solution:\n",
    "    def hasDuplicate(self, nums: list[int]) -> bool:\n",
    "        Number_list = set(nums)\n",
    "        return True if len(Number_list) < len(nums) else False\n",
    "\n",
    "\n",
    "sol = Solution()\n",
    "nums = [1, 2, 3, 3]\n",
    "sol.hasDuplicate(nums)"
   ]
  },
  {
   "cell_type": "markdown",
   "id": "b5ec1d22",
   "metadata": {},
   "source": [
    "### 🧠 [is-anagram](https://neetcode.io/problems/is-anagram?list=neetcode150)\n"
   ]
  },
  {
   "cell_type": "code",
   "execution_count": 9,
   "id": "b20957bf",
   "metadata": {},
   "outputs": [
    {
     "data": {
      "text/plain": [
       "True"
      ]
     },
     "execution_count": 9,
     "metadata": {},
     "output_type": "execute_result"
    }
   ],
   "source": [
    "class Solution:\n",
    "    def isAnagram(self, s: str, t: str) -> bool:\n",
    "        if len(s) != len(t):\n",
    "            return False\n",
    "        return sorted(s) == sorted(t)\n",
    "\n",
    "\n",
    "sol = Solution()\n",
    "sol.isAnagram(\"cbbs\",\"sbbc\")\n"
   ]
  }
 ],
 "metadata": {
  "kernelspec": {
   "display_name": "Python 3",
   "language": "python",
   "name": "python3"
  },
  "language_info": {
   "codemirror_mode": {
    "name": "ipython",
    "version": 3
   },
   "file_extension": ".py",
   "mimetype": "text/x-python",
   "name": "python",
   "nbconvert_exporter": "python",
   "pygments_lexer": "ipython3",
   "version": "3.13.1"
  }
 },
 "nbformat": 4,
 "nbformat_minor": 5
}
