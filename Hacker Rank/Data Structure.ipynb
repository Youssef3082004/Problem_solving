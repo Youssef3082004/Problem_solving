{
 "cells": [
  {
   "cell_type": "code",
   "execution_count": null,
   "id": "b5ac46a0",
   "metadata": {},
   "outputs": [
    {
     "name": "stdout",
     "output_type": "stream",
     "text": [
      "hello\n",
      "hello\n"
     ]
    },
    {
     "data": {
      "text/plain": [
       "'21'"
      ]
     },
     "execution_count": 20,
     "metadata": {},
     "output_type": "execute_result"
    }
   ],
   "source": [
    "# https://www.hackerrank.com/challenges/compare-the-triplets/problem?isFullScreen=true\n",
    "def compareTriplets(a:list, b:list):\n",
    "    results = {\"a\":0,\"b\":0}\n",
    "    for x , y in zip(a,b):        \n",
    "        if x > y:\n",
    "            results[\"a\"]= results[\"a\"] + 1\n",
    "        elif x < y:\n",
    "            results[\"b\"]= results[\"b\"] + 1\n",
    "    \n",
    "    return \"\".join(list(map(lambda x:str(x),list(results.values()))))\n",
    "\n",
    "\n",
    "compareTriplets([17,28,30],[99,16,8])"
   ]
  },
  {
   "cell_type": "code",
   "execution_count": null,
   "id": "f5e7c2ec",
   "metadata": {},
   "outputs": [],
   "source": [
    "def aVeryBigSum(ar):\n",
    "    INT_MAX = 2**31 - 1\n",
    "    INT_MIN = -2**31\n",
    "    return sum(ar)\n",
    "    # return min(INT_MAX,max(sum(ar),INT_MIN))\n"
   ]
  }
 ],
 "metadata": {
  "kernelspec": {
   "display_name": "Python 3",
   "language": "python",
   "name": "python3"
  },
  "language_info": {
   "codemirror_mode": {
    "name": "ipython",
    "version": 3
   },
   "file_extension": ".py",
   "mimetype": "text/x-python",
   "name": "python",
   "nbconvert_exporter": "python",
   "pygments_lexer": "ipython3",
   "version": "3.13.1"
  }
 },
 "nbformat": 4,
 "nbformat_minor": 5
}
