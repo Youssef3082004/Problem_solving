{
 "cells": [
  {
   "cell_type": "markdown",
   "id": "5e952849",
   "metadata": {},
   "source": [
    "## 🧠 [matching-specific-string](https://www.hackerrank.com/challenges/matching-specific-string/problem?isFullScreen=true)\n",
    "\n"
   ]
  },
  {
   "cell_type": "code",
   "execution_count": null,
   "id": "190ef6d2",
   "metadata": {},
   "outputs": [],
   "source": [
    "import re\n",
    "\n",
    "Regex_Pattern = r'hackerrank'\t\n",
    "Test_String = input()\n",
    "match = re.findall(Regex_Pattern, Test_String)\n",
    "print(\"Number of matches :\", len(match))"
   ]
  }
 ],
 "metadata": {
  "language_info": {
   "name": "python"
  }
 },
 "nbformat": 4,
 "nbformat_minor": 5
}
