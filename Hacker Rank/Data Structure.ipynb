{
 "cells": [
  {
   "cell_type": "markdown",
   "id": "bf5f99a9",
   "metadata": {},
   "source": [
    "## 🧠 [compare-the-triplets](https://www.hackerrank.com/challenges/compare-the-triplets/problem?isFullScreen=true)\n",
    "\n"
   ]
  },
  {
   "cell_type": "code",
   "execution_count": 1,
   "id": "45d3867c",
   "metadata": {},
   "outputs": [
    {
     "data": {
      "text/plain": [
       "'21'"
      ]
     },
     "execution_count": 1,
     "metadata": {},
     "output_type": "execute_result"
    }
   ],
   "source": [
    "def compareTriplets(a:list, b:list):\n",
    "    results = {\"a\":0,\"b\":0}\n",
    "    for x , y in zip(a,b):        \n",
    "        if x > y:\n",
    "            results[\"a\"]= results[\"a\"] + 1\n",
    "        elif x < y:\n",
    "            results[\"b\"]= results[\"b\"] + 1\n",
    "    \n",
    "    return \"\".join(list(map(lambda x:str(x),list(results.values()))))\n",
    "\n",
    "\n",
    "compareTriplets([17,28,30],[99,16,8])"
   ]
  },
  {
   "cell_type": "markdown",
   "id": "90c0deef",
   "metadata": {},
   "source": []
  },
  {
   "cell_type": "code",
   "execution_count": null,
   "id": "042ad753",
   "metadata": {},
   "outputs": [],
   "source": []
  }
 ],
 "metadata": {
  "kernelspec": {
   "display_name": "Python 3",
   "language": "python",
   "name": "python3"
  },
  "language_info": {
   "codemirror_mode": {
    "name": "ipython",
    "version": 3
   },
   "file_extension": ".py",
   "mimetype": "text/x-python",
   "name": "python",
   "nbconvert_exporter": "python",
   "pygments_lexer": "ipython3",
   "version": "3.13.1"
  }
 },
 "nbformat": 4,
 "nbformat_minor": 5
}
