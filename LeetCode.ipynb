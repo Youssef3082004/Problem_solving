{
 "cells": [
  {
   "cell_type": "markdown",
   "metadata": {},
   "source": [
    "## 🧠 [Two-sum](https://leetcode.com/problems/two-sum/description/)\n",
    "\n",
    "- Given an array of integers nums and an integer target, \n",
    "- return indices of the two numbers such that they add up to target.\n",
    "- You may assume that each input would have exactly one solution, \n",
    "- and you may not use the same element twice.\n",
    "- You can return the answer in any order.\n",
    "\n"
   ]
  },
  {
   "cell_type": "code",
   "execution_count": 2,
   "metadata": {},
   "outputs": [],
   "source": [
    "class Solution(object):\n",
    "    @staticmethod\n",
    "    def twoSum(nums:list[int], target:int):\n",
    "        target_list = [(x,y) for x in range(len(nums)) for y in range(len(nums)) if nums[x]+nums[y] == target and x!=y]\n",
    "        numbers = [num for tup in target_list for num in tup ]\n",
    "        return list(set(numbers))\n",
    "        \n",
    "\n",
    "\n",
    "\n",
    "c = Solution.twoSum([3,2,4],target=6)"
   ]
  },
  {
   "cell_type": "markdown",
   "metadata": {},
   "source": [
    "## 🧠 [Add-Two-Numbers](https://leetcode.com/problems/add-two-numbers/)\n",
    "- You are given two non-empty linked lists representing **two non-negative integers**. The digits are stored in reverse order, and each of their nodes contains a single digit. Add the two numbers and **return the sum as a linked list**.\n",
    "- may assume the two numbers do not contain any leading zero, except the number 0 itself.\n",
    "\n",
    "> [Solution Video](https://www.youtube.com/watch?v=DFDTaCGlzTY&t=7s)"
   ]
  },
  {
   "cell_type": "code",
   "execution_count": null,
   "metadata": {},
   "outputs": [
    {
     "name": "stdout",
     "output_type": "stream",
     "text": [
      "1627[1, 6, 2, 7]\n"
     ]
    }
   ],
   "source": [
    "from typing import Optional\n",
    "\n",
    "class ListNode:\n",
    "    def __init__(self, val=0, next=None):\n",
    "        self.val = val\n",
    "        self.next = next\n",
    "\n",
    "class Solution:\n",
    "    def addTwoNumbers(self, l1: Optional[ListNode], l2: Optional[ListNode]) -> Optional[ListNode]:\n",
    "        dummy = ListNode()\n",
    "        res = dummy\n",
    "        carry = 0\n",
    "\n",
    "        while l1 or l2 or carry:\n",
    "            total = carry\n",
    "\n",
    "            if l1:\n",
    "                total += l1.val\n",
    "                l1 = l1.next\n",
    "            if l2:\n",
    "                total += l2.val\n",
    "                l2 = l2.next\n",
    "\n",
    "            #! if total sum two numbers is >= 10 \n",
    "            num = total % 10\n",
    "            carry = total // 10\n",
    "            dummy.next = ListNode(num)\n",
    "            dummy = dummy.next\n",
    "\n",
    "        return res.next\n",
    "\n",
    "\n",
    "l1 = ListNode(10, ListNode(5, ListNode(2, ListNode(7))))\n",
    "l2 = ListNode(1, ListNode(0, ListNode(0)))\n",
    "\n",
    "sol = Solution()\n",
    "result = sol.addTwoNumbers(l1, l2)\n",
    "\n",
    "nodes = []\n",
    "while result:\n",
    "    nodes.append(result.val)\n",
    "\n",
    "    result = result.next\n",
    "\n",
    "print(nodes)\n"
   ]
  },
  {
   "cell_type": "markdown",
   "metadata": {},
   "source": [
    "## 🧠 [Median of Two Sorted Arrays](https://leetcode.com/problems/median-of-two-sorted-arrays/description/)\n",
    "\n",
    "- Given two sorted arrays nums1 and nums2 of size m and n respectively, return the median of the two sorted arrays.\n",
    "- The overall run time complexity should be `O(log (m+n))`."
   ]
  },
  {
   "cell_type": "code",
   "execution_count": 35,
   "metadata": {},
   "outputs": [
    {
     "data": {
      "text/plain": [
       "2.5"
      ]
     },
     "execution_count": 35,
     "metadata": {},
     "output_type": "execute_result"
    }
   ],
   "source": [
    "class Solution:\n",
    "    def findMedianSortedArrays(self, nums1: list[int], nums2: list[int]) -> float:\n",
    "        nums = sorted(nums1 + nums2)\n",
    "        n = len(nums)\n",
    "        if n % 2 == 1:\n",
    "            return float(nums[n // 2])\n",
    "        else:\n",
    "            return (nums[n // 2 - 1] + nums[n // 2]) / 2\n",
    "\n",
    "\n",
    "sol = Solution()\n",
    "sol.findMedianSortedArrays([1,2],[3,4])\n"
   ]
  },
  {
   "cell_type": "markdown",
   "metadata": {},
   "source": [
    "## 🧠 [Longest Palindromic Substring](https://leetcode.com/problems/longest-palindromic-substring/description/)\n",
    "\n",
    "- Given a string s, return the **longest palindromic substring** in s.\n",
    "\n",
    "\n",
    "- Example 1:\n",
    "\n",
    ">Input: s = \"babad\"\n",
    "> - Output: \"bab\"\n",
    "> - Explanation: \"aba\" is also a valid answer.\n",
    "\n",
    "- Example 2:\n",
    "\n",
    ">  - Input: s = \"cbbd\"\n",
    ">  - Output: \"bb\"\n"
   ]
  },
  {
   "cell_type": "code",
   "execution_count": null,
   "metadata": {},
   "outputs": [
    {
     "name": "stdout",
     "output_type": "stream",
     "text": [
      "dabab\n",
      "b\n",
      "************\n",
      "b\n",
      "ba\n",
      "************\n",
      "ab\n",
      "bab\n",
      "************\n",
      "bab\n",
      "baba\n",
      "************\n",
      "abab\n",
      "babad\n",
      "************\n"
     ]
    },
    {
     "data": {
      "text/plain": [
       "[]"
      ]
     },
     "execution_count": 88,
     "metadata": {},
     "output_type": "execute_result"
    }
   ],
   "source": [
    "class Solution:\n",
    "    def longestPalindrome(self, s: str) -> str:\n",
    "        string_list  = []\n",
    "        s = s\n",
    "        reverse_s = s[::-1]\n",
    "        print(reverse_s)\n",
    "        print(s)\n",
    "\n",
    "        for x in range(0,len(s)):\n",
    "            \n",
    "            if s[0:x+1] == reverse_s[-x:]:\n",
    "                string_list.append(s[0:x+1])\n",
    "                del s[0:x+1]\n",
    "        else:\n",
    "            return string_list\n",
    "\n",
    "\n",
    "\n",
    "sol = Solution()\n",
    "sol.longestPalindrome(s=\"babad\")"
   ]
  },
  {
   "cell_type": "markdown",
   "metadata": {},
   "source": [
    "## 🧠 [container with most water](https://leetcode.com/problems/container-with-most-water/description/)\n"
   ]
  },
  {
   "cell_type": "code",
   "execution_count": null,
   "metadata": {},
   "outputs": [
    {
     "data": {
      "text/plain": [
       "2"
      ]
     },
     "execution_count": 75,
     "metadata": {},
     "output_type": "execute_result"
    }
   ],
   "source": [
    "class Solution:\n",
    "    def maxArea(self, height: list[int]) -> int:\n",
    "        left = 0\n",
    "        right = len(height) - 1\n",
    "        max_area = 0\n",
    "\n",
    "        while left < right:\n",
    "            width = right - left\n",
    "            area = min(height[left], height[right]) * width\n",
    "            max_area = max(max_area, area)\n",
    "\n",
    "            if height[left] < height[right]:\n",
    "                left += 1\n",
    "            else:\n",
    "                right -= 1\n",
    "\n",
    "        return max_area\n",
    "\n",
    "            \n",
    "\n",
    "sol = Solution()\n",
    "sol.maxArea(height=[1,2,1])"
   ]
  },
  {
   "cell_type": "markdown",
   "metadata": {},
   "source": [
    "## 🧠 [reverse-integer](https://leetcode.com/problems/reverse-integer/description/)\n",
    "\n",
    "- Given a signed 32-bit integer x, \n",
    "- return x with its digits reversed. \n",
    "- If reversing x causes the value to go outside the signed **32-bit** integer range **[-231, 231 - 1]**\n",
    "- then return 0."
   ]
  },
  {
   "cell_type": "code",
   "execution_count": null,
   "metadata": {},
   "outputs": [
    {
     "name": "stdout",
     "output_type": "stream",
     "text": [
      "-321\n"
     ]
    }
   ],
   "source": [
    "class Solution:\n",
    "    @staticmethod\n",
    "    def reverse(x:int) -> int:\n",
    "\n",
    "        try:\n",
    "            if str(x).startswith(\"-\"):\n",
    "                reversed_string = str(x).removeprefix(\"-\")[::-1]\n",
    "                return -int(reversed_string) if -(2**31) <= int(reversed_string)  <= (2**31 - 1) else 0\n",
    "            elif str(x).endswith(\"0\"):\n",
    "                reversed_string = str(x).removesuffix(\"0\")[::-1] \n",
    "                return int(reversed_string)  if -(2**31) <= int(reversed_string)  <= (2**31 - 1) else 0\n",
    "            else:\n",
    "                reversed_string = str(x)[::-1]\n",
    "                return int(reversed_string) if -(2**31) <= int(reversed_string)  <= (2**31 - 1) else 0\n",
    "        except ValueError:\n",
    "            return 0\n",
    "\n",
    "c = Solution.reverse(-123)\n",
    "print(c)"
   ]
  },
  {
   "cell_type": "markdown",
   "metadata": {},
   "source": [
    "### 🧠 [add-two-numbers](https://leetcode.com/problems/add-two-numbers/)\n",
    "\n",
    "- You are given **two non-empty** linked lists representing two non-negative integers. The digits are stored in **reverse order**\n",
    "- and each of their nodes contains a single digit. Add the two numbers and return the sum as a linked list.\n",
    "- You may assume the two numbers do not contain any leading zero, except the number 0 itself"
   ]
  },
  {
   "cell_type": "code",
   "execution_count": null,
   "metadata": {},
   "outputs": [
    {
     "name": "stdout",
     "output_type": "stream",
     "text": [
      "Result: 7 -> 0 -> 8 -> None\n"
     ]
    }
   ],
   "source": []
  },
  {
   "cell_type": "markdown",
   "metadata": {},
   "source": [
    "### 🧠 [longest-substring-without-repeating-characters](https://leetcode.com/problems/longest-substring-without-repeating-characters/description/)\n",
    "\n",
    "- Given a string s, find the length of the longest substring without duplicate characters.\n",
    "\n",
    "---\n",
    "\n",
    "Example 1:  \n",
    "Input: s = **\"abcabcbb\"**\n",
    "Output: 3  \n",
    "Explanation: The answer is \"abc\", with the length of 3.\n",
    "\n",
    "---\n",
    "\n",
    "Example 2:  \n",
    "Input: s = **\"bbbbb\"**  \n",
    "Output: 1  \n",
    "Explanation: The answer is \"b\", with the length of 1.\n",
    "\n",
    "---\n",
    "\n",
    "Example 3:  \n",
    "Input: s = **\"pwwkew\"**  \n",
    "Output: 3  \n",
    "Explanation: The answer is \"wke\", with the length of 3.  \n",
    "Notice that the answer must be a substring, \"pwke\" is a subsequence and not a substring.\n"
   ]
  },
  {
   "cell_type": "code",
   "execution_count": null,
   "metadata": {},
   "outputs": [
    {
     "data": {
      "text/plain": [
       "3"
      ]
     },
     "execution_count": 114,
     "metadata": {},
     "output_type": "execute_result"
    }
   ],
   "source": [
    "#! My Solution but time complexity is o(n3)\n",
    "class Solution:\n",
    "    @staticmethod\n",
    "    def lengthOfLongestSubstring(s:str) -> int:\n",
    "        try:\n",
    "            # number_of_substring =  (len(s) * (len(s) + 1)) // 2\n",
    "            max_len = len(s)\n",
    "            all_substring = []\n",
    "            for x in range(max_len + 1):\n",
    "                for y in range(max_len + 1):\n",
    "                    e = s[x:y]\n",
    "                    if s[x:y] !=\"\" and \"\".join(s[x:y]) in s  :\n",
    "                        all_substring.append(e if e in s and len(e) == len(set(e)) else \"\") \n",
    "                    else:\n",
    "                        continue\n",
    "            return len(max(all_substring,key=len))\n",
    "        except :\n",
    "            return 0\n",
    "        \n",
    "#! Chatgpt time complexity solution is o(n)\n",
    "    def lengthOfLongestSubstring(s: str) -> int:\n",
    "        char_index = {}  # Stores last seen index of characters\n",
    "        left = 0  # Left boundary of sliding window\n",
    "        max_length = 0  # Tracks longest substring without repetition\n",
    "\n",
    "        for right, char in enumerate(s):\n",
    "            if char in char_index and char_index[char] >= left:\n",
    "                left = char_index[char] + 1  # Move left pointer to avoid repetition\n",
    "\n",
    "            char_index[char] = right  # Update last seen index of character\n",
    "            max_length = max(max_length, right - left + 1)\n",
    "            print(right)\n",
    "        return max_length\n",
    "        \n",
    "        \n",
    "       \n",
    "\n",
    "\n",
    "Solution.lengthOfLongestSubstring(s=\"abcabcbb\")\n",
    "        "
   ]
  },
  {
   "cell_type": "markdown",
   "metadata": {},
   "source": [
    "### 🧠 [string-to-integer-atoi](https://leetcode.com/problems/string-to-integer-atoi/)\n",
    "\n",
    "- Implement the myAtoi(string s) function, which converts a string to a 32-bit signed integer.\n",
    "\n",
    "#### The algorithm for myAtoi(string s) is as follows:\n",
    "\n",
    "- Whitespace: Ignore any leading whitespace (\" \").\n",
    "- Signedness: Determine the sign by checking if the next character is '-' or '+', assuming positivity if neither present.\n",
    "- Conversion: Read the integer by skipping leading zeros until a non-digit character is encountered or the end of the string is reached. If no digits were read, then the result is 0.\n",
    "- Rounding: If the integer is out of the 32-bit signed integer range [-231, 231 - 1], then round the integer to remain in the range. Specifically, integers less than -231 should be rounded to -231, and integers greater than 231 - 1 should be rounded to 231 - 1.\n",
    "Return the integer as the final result.\n",
    "\n",
    "#### Examples:\n",
    "- 024 , _____-024 ,  = 24 \n",
    "- 1337c0d3 = 1337\n",
    "- 0-1 = 0\n",
    "- words and 987 = 0\n",
    "- \"3.14159\" = 3.14159"
   ]
  },
  {
   "cell_type": "code",
   "execution_count": null,
   "metadata": {},
   "outputs": [],
   "source": [
    "class Solution:\n",
    "    INT_MAX = 2**31 - 1\n",
    "    INT_MIN = -2**31\n",
    "\n",
    "    @staticmethod\n",
    "    def myAtoi(s: str) -> int:\n",
    "        s = s.lstrip()  \n",
    "        if not s:\n",
    "            return 0\n",
    "\n",
    "        sign = 1\n",
    "        index = 0\n",
    "        result = 0\n",
    "\n",
    "       \n",
    "        if s[index] == '+':\n",
    "            index += 1\n",
    "        elif s[index] == '-':\n",
    "            sign = -1\n",
    "            index += 1\n",
    "\n",
    "       \n",
    "        while index < len(s) and s[index].isdigit():\n",
    "            digit = int(s[index])\n",
    "           \n",
    "            if result > (Solution.INT_MAX - digit) // 10:\n",
    "                return Solution.INT_MAX if sign == 1 else Solution.INT_MIN\n",
    "\n",
    "            result = result * 10 + digit\n",
    "            index += 1\n",
    "\n",
    "        return sign * result\n"
   ]
  },
  {
   "cell_type": "markdown",
   "metadata": {},
   "source": [
    "### 🧠 [integer-to-roman](#https://leetcode.com/problems/integer-to-roman/description/)\n",
    "- [Solution](https://leetcode.com/problems/integer-to-roman/solutions/6034491/creating-mappings-bonus-coding/)\n",
    "\n",
    "\n",
    "\n",
    "- Seven different symbols represent Roman numerals with the following values:\n",
    "\n",
    "|Symbol   |Value |\n",
    "|---------|----------|\n",
    "I        |     1|\n",
    "V        |     5|\n",
    "X        |     10|\n",
    "L        |     50|\n",
    "C        |     100|\n",
    "D        |     500|\n",
    "M         |    1000|\n",
    "\n",
    "\n",
    "\n",
    "Roman numerals are formed by appending the conversions of decimal place values from highest to lowest. Converting a decimal place value into a Roman numeral has the following rules:\n",
    "\n",
    "- If the value does not start with 4 or 9, select the symbol of the maximal value that can be subtracted from the input, append that symbol to the result, subtract its value, and convert the remainder to a Roman numeral.\n",
    "- If the value starts with 4 or 9 use the **subtractive form** representing one symbol subtracted from the following symbol, for example, 4 is 1 (`I`) less than 5 (`V`): IV and 9 is 1 (`I`) less than 10 (`X`): IX. Only the following **subtractive form**s are used: 4 (`IV`), 9 (`IX`), 40 (`XL`), 90 (`XC`), 400 (`CD`) and 900 (`CM`).\n",
    "- Only powers of 10 (`I`, `X`, `C`, `M`) can be appended consecutively at most 3 times to represent multiples of 10. You cannot append 5 (`V`), 50 (`L`), or 500 (`D`) multiple times. If you need to append a symbol 4 times use the **subtractive form**.\n",
    "Given an integer, convert it to a Roman numeral.4.\n"
   ]
  },
  {
   "cell_type": "code",
   "execution_count": null,
   "metadata": {},
   "outputs": [
    {
     "data": {
      "text/plain": [
       "'MXXV'"
      ]
     },
     "execution_count": 85,
     "metadata": {},
     "output_type": "execute_result"
    }
   ],
   "source": [
    "class Solution:\n",
    "    Roman_num = [\n",
    "            (1000, 'M'), (900, 'CM'), (500, 'D'), (400, 'CD'),\n",
    "            (100, 'C'), (90, 'XC'), (50, 'L'), (40, 'XL'), (10, 'X'),\n",
    "            (9, 'IX'), (5, 'V'), (4, 'IV'), (1, 'I')]\n",
    "\n",
    "    def intToRoman(self, num: int) -> str:\n",
    "        res = []\n",
    "\n",
    "        for value,Symbol in Solution.Roman_num:\n",
    "            if num == 0 :\n",
    "                break\n",
    "            count = num // value\n",
    "            res.append(Symbol * count)\n",
    "            num = num - (count * value)\n",
    "        return ''.join(res)\n",
    "\n",
    "\n",
    "sol = Solution()\n",
    "sol.intToRoman(num=1025)"
   ]
  },
  {
   "cell_type": "markdown",
   "metadata": {},
   "source": [
    "### 🧠 [roman-to-integer](https://leetcode.com/problems/roman-to-integer/description/)\n",
    "\n",
    "- Roman numerals are represented by seven different symbols: `I`, `V`, `X`, `L`, `C`, `D` and `M`.\n",
    "\n",
    "|Symbol   |Value |\n",
    "|---------|----------|\n",
    "I        |     1|\n",
    "V        |     5|\n",
    "X        |     10|\n",
    "L        |     50|\n",
    "C        |     100|\n",
    "D        |     500|\n",
    "M         |    1000|\n",
    "\n",
    "\n",
    "\n",
    "For example, **2** is written as `II` in Roman numeral, just two ones added together. **12** is written as `XII`, which is simply `X + II`. The number **27** is written as `XXVII`, which is `XX + V + II`.\n",
    "\n",
    "Roman numerals are usually written largest to smallest from left to right. However, the numeral for four is not `IIII`. Instead, the number four is written as `IV`. Because the one is before the five we subtract it making four. The same principle applies to the number nine, which is written as `IX`. There are six instances where subtraction is used:\n",
    "\n",
    "`I` can be placed before `V` (5) and `X` (10) to make 4 and 9. \n",
    "`X` can be placed before `L` (50) and `C` (100) to make 40 and 90. \n",
    "`C` can be placed before `D` (500) and `M` (1000) to make 400 and 900.\n",
    "Given a roman numeral, convert it to an integer.\n",
    "\n",
    "\n",
    "\n",
    "---\n",
    "\n",
    "Example 1:\n",
    "**Input: s** = `\"III\"`.\n",
    "**Output:** 3.\n",
    "**Explanation:** `III` = 3.\n",
    "\n",
    "\n",
    "---\n",
    "\n",
    "\n",
    "Example 2:\n",
    "**Input: s** = `\"LVIII\"`.\n",
    "**Output:** 58.\n",
    "**Explanation:** `L` = 50, `V`= 5, `III` = 3.\n",
    "\n",
    "\n",
    "---\n",
    "\n",
    "\n",
    "Example 3:\n",
    "**Input: s** = `\"MCMXCIV\"`.\n",
    "**Output:** 1994.\n",
    "**Explanation:** `M` = 1000, `CM` = 900, `XC` = 90 and `IV` = 4.\n"
   ]
  },
  {
   "cell_type": "code",
   "execution_count": null,
   "metadata": {},
   "outputs": [],
   "source": [
    "class Solution:\n",
    "    def romanToInt(self, s: str) -> int:\n",
    "        pass"
   ]
  }
 ],
 "metadata": {
  "kernelspec": {
   "display_name": "Python 3",
   "language": "python",
   "name": "python3"
  },
  "language_info": {
   "codemirror_mode": {
    "name": "ipython",
    "version": 3
   },
   "file_extension": ".py",
   "mimetype": "text/x-python",
   "name": "python",
   "nbconvert_exporter": "python",
   "pygments_lexer": "ipython3",
   "version": "3.13.1"
  }
 },
 "nbformat": 4,
 "nbformat_minor": 2
}
