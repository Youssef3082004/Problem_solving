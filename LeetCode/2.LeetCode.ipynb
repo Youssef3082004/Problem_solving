{
 "cells": [
  {
   "cell_type": "markdown",
   "id": "d7c0e8b2",
   "metadata": {},
   "source": [
    "## 🧠 [find-subsequence-of-length-k-with-the-largest-sum](https://leetcode.com/problems/find-subsequence-of-length-k-with-the-largest-sum/description/?envType=daily-question&envId=2025-06-28)"
   ]
  },
  {
   "cell_type": "code",
   "execution_count": null,
   "id": "d445590f",
   "metadata": {},
   "outputs": [
    {
     "name": "stdout",
     "output_type": "stream",
     "text": [
      "[(-1, 0), (-2, 1), (3, 2), (4, 3)]\n",
      "[(4, 3), (3, 2), (-1, 0)]\n",
      "[(-1, 0), (3, 2), (4, 3)]\n"
     ]
    }
   ],
   "source": [
    "class Solution:\n",
    "    def maxSubsequence(self, nums: list[int], k: int) -> list[int]:\n",
    "        indexed_nums = [(num, i) for i, num in enumerate(nums)]\n",
    "\n",
    "        print(indexed_nums)\n",
    "        # نختار أكبر k عناصر حسب القيمة\n",
    "        top_k = sorted(indexed_nums, key=lambda x: (-x[0], x[1]))[:k]\n",
    "        print(top_k)\n",
    "\n",
    "\n",
    "        # نعيد ترتيب العناصر حسب مواقعها الأصلية للحفاظ على الترتيب\n",
    "        top_k_sorted = sorted(top_k, key=lambda x: x[1])\n",
    "        print(top_k_sorted)\n",
    "\n",
    "        return [num for num, i in top_k_sorted]\n",
    "\n",
    "\n",
    "sol = Solution()\n",
    "\n",
    "nums = [-1,-2,3,4]\n",
    "k = 3\n",
    "sol.maxSubsequence(nums,k)\n",
    "        "
   ]
  }
 ],
 "metadata": {
  "kernelspec": {
   "display_name": "Python 3",
   "language": "python",
   "name": "python3"
  },
  "language_info": {
   "codemirror_mode": {
    "name": "ipython",
    "version": 3
   },
   "file_extension": ".py",
   "mimetype": "text/x-python",
   "name": "python",
   "nbconvert_exporter": "python",
   "pygments_lexer": "ipython3",
   "version": "3.13.1"
  }
 },
 "nbformat": 4,
 "nbformat_minor": 5
}
