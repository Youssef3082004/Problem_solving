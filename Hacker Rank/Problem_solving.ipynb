{
 "cells": [
  {
   "cell_type": "markdown",
   "id": "5194b163",
   "metadata": {},
   "source": [
    "## 🧠 [mini-max-sum](https://www.hackerrank.com/challenges/mini-max-sum/problem?isFullScreen=true)"
   ]
  },
  {
   "cell_type": "code",
   "execution_count": null,
   "id": "68693b24",
   "metadata": {},
   "outputs": [],
   "source": [
    "def miniMaxSum(arr:list):\n",
    "    sorted_array =sorted(arr)\n",
    "    max_numbers = sorted_array[:4]\n",
    "    min_numbers = sorted_array[-4:]\n",
    "    print(sum(max_numbers),sum(min_numbers))\n",
    "\n",
    "\n",
    "miniMaxSum([1,2,3,4,5])\n"
   ]
  },
  {
   "cell_type": "markdown",
   "id": "b1c639bb",
   "metadata": {},
   "source": [
    "## 🧠 [diagonal-difference](https://www.hackerrank.com/challenges/diagonal-difference/problem?isFullScreen=true)"
   ]
  },
  {
   "cell_type": "code",
   "execution_count": null,
   "id": "269558f9",
   "metadata": {},
   "outputs": [],
   "source": [
    "def diagonalDifference(arr:list):\n",
    "    max_index = len(arr)\n",
    "    dig,dig2 = 0 , 0\n",
    "    for ltr ,rtl in zip(range(0,max_index),range(max_index,0,-1)):\n",
    "        dig += arr[ltr][ltr]\n",
    "        dig2 += arr[ltr][rtl-1]\n",
    "\n",
    "    return abs(dig-dig2)\n",
    "\n",
    "\n",
    "\n",
    "arr = [[11, 2, 4], \n",
    "       [4, 5, 6], \n",
    "       [10, 8, -12]]\n",
    "result = diagonalDifference(arr)"
   ]
  },
  {
   "cell_type": "markdown",
   "id": "8a44e929",
   "metadata": {},
   "source": [
    "## 🧠 [plus-minus](https://www.hackerrank.com/challenges/plus-minus/problem?isFullScreen=true)"
   ]
  },
  {
   "cell_type": "code",
   "execution_count": null,
   "id": "e9d17d82",
   "metadata": {},
   "outputs": [],
   "source": [
    "\n",
    "def plusMinus(arr:list):\n",
    "    N = len(arr)\n",
    "    negative_numbers = 0\n",
    "    postive_numbers = 0\n",
    "    Zeros = 0\n",
    "    for element in arr:\n",
    "        if  element  == 0:\n",
    "            Zeros += round(1/N,6)\n",
    "        elif  element  != abs(element):\n",
    "            negative_numbers += round(1/N,6)\n",
    "        elif element  == abs(element):\n",
    "            postive_numbers += round(1/N,6)\n",
    "    print(postive_numbers,negative_numbers,Zeros,sep=\"\\n\")\n",
    "\n",
    "\n",
    "arr = [-4, 3, -9, 0, 4, 1]\n",
    "plusMinus(arr)\n",
    "\n",
    "\n"
   ]
  },
  {
   "cell_type": "markdown",
   "id": "1d3e1f83",
   "metadata": {},
   "source": [
    "## 🧠 [Grading Students](https://www.hackerrank.com/challenges/grading/problem?isFullScreen=true)"
   ]
  },
  {
   "cell_type": "code",
   "execution_count": null,
   "id": "fe5d9e89",
   "metadata": {},
   "outputs": [],
   "source": [
    "import math \n",
    "\n",
    "def deifferenc(x:int):\n",
    "    return int(math.ceil(x / 5.0)) * 5 - x\n",
    "\n",
    "def ceil_to_multiple_of_five(x:int):\n",
    "    return int(math.ceil(x / 5.0)) * 5\n",
    "\n",
    "\n",
    "def gradingStudents(grades:list):\n",
    "    new_grades = []\n",
    "    for grade in grades:\n",
    "        multiple_of_five = deifferenc(grade)\n",
    "        if grade < 38:\n",
    "            new_grades.append(grade)\n",
    "            print(grade)\n",
    "            continue\n",
    "        elif multiple_of_five < 3:\n",
    "            new_grades.append(ceil_to_multiple_of_five(grade))\n",
    "\n",
    "        else:\n",
    "            new_grades.append(grade)\n",
    "    return new_grades\n",
    "\n",
    "grades = [73,67,38,33]\n",
    "gradingStudents(grades=grades)\n",
    "    "
   ]
  },
  {
   "cell_type": "markdown",
   "id": "12103e34",
   "metadata": {},
   "source": [
    "## 🧠 [Minimum Loss](https://www.hackerrank.com/challenges/minimum-loss/problem?isFullScreen=true)"
   ]
  },
  {
   "cell_type": "code",
   "execution_count": null,
   "id": "5988213d",
   "metadata": {},
   "outputs": [],
   "source": [
    "def minimumLoss(prices:list):\n",
    "    indexed_prices = list(enumerate(prices))    \n",
    "    indexed_prices.sort(key=lambda x: x[1], reverse=True)\n",
    "    min_loss = float(\"inf\")\n",
    "    for iter in range(len(prices)-1):\n",
    "        current_postion = indexed_prices[iter]\n",
    "        next_postion = indexed_prices[iter + 1]\n",
    "\n",
    "        if current_postion[0] < next_postion[0]:\n",
    "            loss = current_postion[1] - next_postion[1]\n",
    "\n",
    "            if loss < min_loss:\n",
    "                min_loss = loss\n",
    "    return min_loss\n",
    "            \n",
    "\n",
    "price = [20,7,8,2,5]\n",
    "minimumLoss(prices=price)"
   ]
  },
  {
   "cell_type": "markdown",
   "id": "8899eaf6",
   "metadata": {},
   "source": [
    "## 🧠 [Extra Long Factorials](https://www.hackerrank.com/challenges/extra-long-factorials/problem?isFullScreen=true)"
   ]
  },
  {
   "cell_type": "code",
   "execution_count": null,
   "id": "b051bbd6",
   "metadata": {},
   "outputs": [],
   "source": [
    "def extraLongFactorials(num:int):\n",
    "    if num == 1:\n",
    "        print(1) \n",
    "    else:\n",
    "        print(num * extraLongFactorials(num - 1))\n",
    "\n",
    "\n",
    "extraLongFactorials(25)"
   ]
  },
  {
   "cell_type": "markdown",
   "id": "6622315a",
   "metadata": {},
   "source": [
    "## 🧠 [staircase](https://www.hackerrank.com/challenges/staircase/problem?isFullScreen=true)"
   ]
  },
  {
   "cell_type": "code",
   "execution_count": null,
   "id": "526c748e",
   "metadata": {},
   "outputs": [],
   "source": [
    "def staircase(n:int):\n",
    "    for x in range(1,n+1):\n",
    "        print(\" \" * (n-x) + \"#\" * x)\n"
   ]
  },
  {
   "cell_type": "markdown",
   "id": "fb4f4c5a",
   "metadata": {},
   "source": [
    "## 🧠 [Birthday-Cake-Candles](https://www.hackerrank.com/challenges/birthday-cake-candles/problem?isFullScreen=true)"
   ]
  },
  {
   "cell_type": "code",
   "execution_count": null,
   "id": "9188a31c",
   "metadata": {},
   "outputs": [],
   "source": [
    "def birthdayCakeCandles(candles:list[int]):\n",
    "    max_height = max(candles)\n",
    "    count = 0\n",
    "    for x in candles:\n",
    "        if x == max_height:\n",
    "            count +=1\n",
    "    return count\n",
    "\n",
    "\n",
    "birthdayCakeCandles([4,4,1,3])"
   ]
  },
  {
   "cell_type": "markdown",
   "id": "4e487d4a",
   "metadata": {},
   "source": [
    "## 🧠 [the-time-in-words](https://www.hackerrank.com/challenges/the-time-in-words/problem?isFullScreen=true)"
   ]
  },
  {
   "cell_type": "code",
   "execution_count": null,
   "id": "8f9a0741",
   "metadata": {},
   "outputs": [],
   "source": [
    "minutes = ['zero','one','two','three','four','five',\n",
    "           'six','seven','eight','nine','ten',\n",
    "           'eleven','twelve','thirteen','fourteen',\n",
    "           'fifteen','sixteen','seventeen','eighteen',\n",
    "           'nineteen','twenty','twenty one', 'twenty two',\n",
    "           'twenty three','twenty four','twenty five',\n",
    "           'twenty six','twenty seven','twenty eight',\n",
    "           'twenty nine', 'thirty']\n",
    "hours = ['zero','one','two','three','four','five',\n",
    "         'six','seven','eight','nine','ten','eleven','twelve']\n",
    "\n",
    "def timeInWords(h:int, m:int):\n",
    "\n",
    "    if m == 0:\n",
    "        return hours[h],\"o' clock\"\n",
    "    elif m ==1 and h ==1:\n",
    "        return minutes[m],\"minute past\",hours[h]\n",
    "    elif m == 15:\n",
    "        return \"quarter past\",hours[h]\n",
    "    elif m == 30:\n",
    "        return \"half past\",hours[h]\n",
    "    elif m == 45:\n",
    "        if h == 12:\n",
    "            return \"quarter to\",hours[1]\n",
    "        else:\n",
    "            return \"quarter to\",hours[h+1]\n",
    "    elif m > 0 and m < 30:\n",
    "        return minutes[m],\"minutes past\",hours[h]\n",
    "    elif m > 30 and m < 60:\n",
    "        if h == 12:\n",
    "            return minutes[60-m],\"minutes to\",hours[1]\n",
    "        else:\n",
    "            return minutes[60-m],\"minutes to\",hours[h+1]\n",
    "\n",
    "\n",
    "timeInWords(1,1)\n"
   ]
  },
  {
   "cell_type": "markdown",
   "id": "cf04ffd6",
   "metadata": {},
   "source": [
    "## 🧠 [time-conversion](https://www.hackerrank.com/challenges/time-conversion/problem?isFullScreen=true)"
   ]
  },
  {
   "cell_type": "code",
   "execution_count": null,
   "id": "276c886a",
   "metadata": {},
   "outputs": [
    {
     "data": {
      "text/plain": [
       "'04:59:59'"
      ]
     },
     "execution_count": 104,
     "metadata": {},
     "output_type": "execute_result"
    }
   ],
   "source": [
    "def timeConversion(string:str):\n",
    "     \n",
    "    Clock = string[:2]\n",
    "    rest = string[2:-2]\n",
    "    format = string[-2:]\n",
    "\n",
    "    if format ==\"PM\" and Clock ==\"12\":\n",
    "        return string[0:-2]\n",
    "    \n",
    "    elif format ==\"AM\" and Clock ==\"12\":\n",
    "        return \"00\"+rest\n",
    "    \n",
    "\n",
    "    elif format ==\"PM\":\n",
    "        return f\"{int(Clock)+12}\"+rest\n",
    "    \n",
    "    elif format ==\"AM\" :\n",
    "        return f\"{Clock}\"+rest\n",
    "\n",
    "\n",
    "\n",
    "\n",
    "string = \"04:59:59AM\"\n",
    "timeConversion(string)"
   ]
  },
  {
   "cell_type": "markdown",
   "id": "4be96725",
   "metadata": {},
   "source": [
    "## 🧠 [picking-numbers](https://www.hackerrank.com/challenges/picking-numbers/problem?isFullScreen=true)"
   ]
  },
  {
   "cell_type": "code",
   "execution_count": null,
   "id": "43925b98",
   "metadata": {},
   "outputs": [
    {
     "data": {
      "text/plain": [
       "3"
      ]
     },
     "execution_count": 57,
     "metadata": {},
     "output_type": "execute_result"
    }
   ],
   "source": [
    "def pickingNumbers(a:list):\n",
    "    temp = {}\n",
    "    longest_subarray_length = 0\n",
    "    \n",
    "    for i in a:\n",
    "        if i in temp:\n",
    "            temp[i] += 1\n",
    "        else:\n",
    "            temp[i] = 1\n",
    "           \n",
    "    for key in temp:\n",
    "        total = temp.get(key) + temp.get(key + 1, 0)\n",
    "        if total > longest_subarray_length:\n",
    "            longest_subarray_length = total\n",
    "    \n",
    "\n",
    "    return longest_subarray_length\n",
    "\n",
    "\n",
    "\n",
    "a = [4,6,5,3,3,1]\n",
    "pickingNumbers(a)"
   ]
  },
  {
   "cell_type": "markdown",
   "id": "07bb58c2",
   "metadata": {},
   "source": [
    "## 🧠 [divisible-sum-pairs](https://www.hackerrank.com/challenges/divisible-sum-pairs/problem?isFullScreen=true)"
   ]
  },
  {
   "cell_type": "code",
   "execution_count": null,
   "id": "838c52b1",
   "metadata": {},
   "outputs": [
    {
     "data": {
      "text/plain": [
       "5"
      ]
     },
     "execution_count": 99,
     "metadata": {},
     "output_type": "execute_result"
    }
   ],
   "source": [
    "from itertools import combinations\n",
    "\n",
    "def divisibleSumPairs(n:int, k:int, ar:list[int]):\n",
    "    cm = list(combinations(ar,2))\n",
    "    count = 0\n",
    "\n",
    "    for pair in cm:\n",
    "        first = pair[0]\n",
    "        second = pair[-1]\n",
    "        if (first + second) % k == 0:\n",
    "            count +=1\n",
    "\n",
    "    return count\n",
    "\n",
    "\n",
    "ar = [1, 3, 2, 6, 1, 2]\n",
    "divisibleSumPairs(len(ar),3,ar=ar)"
   ]
  },
  {
   "cell_type": "markdown",
   "id": "45668d0e",
   "metadata": {},
   "source": [
    "## 🧠 [angry-professor](https://www.hackerrank.com/challenges/angry-professor/problem?isFullScreen=true)"
   ]
  },
  {
   "cell_type": "code",
   "execution_count": null,
   "id": "9584e832",
   "metadata": {},
   "outputs": [
    {
     "data": {
      "text/plain": [
       "'NO'"
      ]
     },
     "execution_count": 9,
     "metadata": {},
     "output_type": "execute_result"
    }
   ],
   "source": [
    "def angryProfessor(k:int, a:list[int]) -> str:\n",
    "    arrive = 0\n",
    "    for num in a:\n",
    "        if num <= 0:\n",
    "            arrive+=1\n",
    "    if arrive < k:\n",
    "        return \"NO\"\n",
    "    else:\n",
    "        return \"YES\"    \n",
    "\n",
    "\n",
    "angryProfessor(k=2,a=[0,-1,4,2])"
   ]
  },
  {
   "cell_type": "markdown",
   "id": "a7d92560",
   "metadata": {},
   "source": [
    "## 🧠 [non-divisible-subset](https://www.hackerrank.com/challenges/non-divisible-subset/problem?isFullScreen=true)"
   ]
  },
  {
   "cell_type": "code",
   "execution_count": 111,
   "id": "8f119ded",
   "metadata": {},
   "outputs": [
    {
     "name": "stdout",
     "output_type": "stream",
     "text": [
      "{(19, 24), (12, 24), (10, 24), (12, 10), (25, 22), (19, 10), (19, 12), (10, 10), (12, 22), (19, 25), (24, 22), (12, 25), (19, 22), (10, 25), (24, 25), (10, 22), (10, 12)}\n"
     ]
    },
    {
     "data": {
      "text/plain": [
       "13"
      ]
     },
     "execution_count": 111,
     "metadata": {},
     "output_type": "execute_result"
    }
   ],
   "source": [
    "from itertools import combinations\n",
    "\n",
    "\n",
    "def nonDivisibleSubset(k:int, s:list[int]):\n",
    "    cm = set(sorted(combinations(s,2)))\n",
    "    count = 0\n",
    "\n",
    "    print(cm)\n",
    "\n",
    "\n",
    "    for pair in cm:\n",
    "        first = pair[0]\n",
    "        second = pair[-1]\n",
    "        if (first + second) % k != 0:\n",
    "            count +=1\n",
    "\n",
    "    return count\n",
    "\n",
    "\n",
    "\n",
    "# S = [1, 7, 2, 4]\n",
    "# k = 3\n",
    "\n",
    "S = [19, 10, 12, 10, 24, 25, 22] \n",
    "k = 4\n",
    "nonDivisibleSubset(k,S)"
   ]
  },
  {
   "cell_type": "markdown",
   "id": "653d0886",
   "metadata": {},
   "source": [
    "## 🧠 [circular-array-rotation](https://www.hackerrank.com/challenges/circular-array-rotation/problem?isFullScreen=true)"
   ]
  },
  {
   "cell_type": "code",
   "execution_count": null,
   "id": "75a8e076",
   "metadata": {},
   "outputs": [
    {
     "name": "stdout",
     "output_type": "stream",
     "text": [
      "5\n",
      "3\n"
     ]
    }
   ],
   "source": [
    "def circularArrayRotation(a:list, k:int, queries:list):\n",
    "    result = []\n",
    "    for x in range(k):\n",
    "        last = a[-1]\n",
    "        a.insert(0,last)\n",
    "        a.pop(-1)\n",
    "    \n",
    "    for num in queries:\n",
    "        result.append( a[num])\n",
    "    return result\n",
    "\n",
    "    \n",
    "    \n",
    "\n",
    "\n",
    "\n",
    "a = [3,4,5]\n",
    "k = 2\n",
    "queries = [1,2]\n",
    "circularArrayRotation(a,k,queries)"
   ]
  },
  {
   "cell_type": "markdown",
   "id": "196a70d6",
   "metadata": {},
   "source": [
    "## 🧠 [find-digits](https://www.hackerrank.com/challenges/find-digits/problem?isFullScreen=true)"
   ]
  },
  {
   "cell_type": "code",
   "execution_count": null,
   "id": "2dcf6245",
   "metadata": {},
   "outputs": [
    {
     "data": {
      "text/plain": [
       "3"
      ]
     },
     "execution_count": 8,
     "metadata": {},
     "output_type": "execute_result"
    }
   ],
   "source": [
    "\n",
    "def findDigits(Num:int):\n",
    "    numbers = list(str(Num))\n",
    "    count = 0\n",
    "    \n",
    "    for num in numbers:\n",
    "        num = int(num)\n",
    "        if num == 0:\n",
    "            continue\n",
    "        elif Num % num == 0:\n",
    "            count += 1\n",
    "    return count\n",
    "\n",
    "\n",
    "\n",
    "findDigits(1012)"
   ]
  },
  {
   "cell_type": "markdown",
   "id": "7aee6c8f",
   "metadata": {},
   "source": [
    "## 🧠 [append-and-delete](https://www.hackerrank.com/challenges/append-and-delete/problem?isFullScreen=true)"
   ]
  },
  {
   "cell_type": "code",
   "execution_count": null,
   "id": "934b9f1a",
   "metadata": {},
   "outputs": [
    {
     "data": {
      "text/plain": [
       "'Yes'"
      ]
     },
     "execution_count": 4,
     "metadata": {},
     "output_type": "execute_result"
    }
   ],
   "source": [
    "def appendAndDelete(s: str, t: str, k: int) -> str:\n",
    "    common_length = 0\n",
    "    for i in range(min(len(s), len(t))):\n",
    "        if s[i] == t[i]:\n",
    "            common_length += 1\n",
    "        else:\n",
    "            break\n",
    "\n",
    "    total_ops = (len(s) - common_length) + (len(t) - common_length)\n",
    "\n",
    "    if total_ops > k:\n",
    "        return \"No\"\n",
    "    elif (k - total_ops) % 2 == 0:\n",
    "        return \"Yes\"\n",
    "    elif len(s) + len(t) <= k:\n",
    "        return \"Yes\"\n",
    "    else:\n",
    "        return \"No\"\n",
    "\n",
    "\n",
    "s = \"hackerhappy\"\n",
    "t = \"hackerrank\"\n",
    "appendAndDelete(s=s,t=t,k=9) \n",
    "\n",
    "         \n"
   ]
  }
 ],
 "metadata": {
  "kernelspec": {
   "display_name": "Python 3",
   "language": "python",
   "name": "python3"
  },
  "language_info": {
   "codemirror_mode": {
    "name": "ipython",
    "version": 3
   },
   "file_extension": ".py",
   "mimetype": "text/x-python",
   "name": "python",
   "nbconvert_exporter": "python",
   "pygments_lexer": "ipython3",
   "version": "3.13.1"
  }
 },
 "nbformat": 4,
 "nbformat_minor": 5
}
