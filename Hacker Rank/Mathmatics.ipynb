{
 "cells": [
  {
   "cell_type": "code",
   "execution_count": null,
   "id": "46257234",
   "metadata": {},
   "outputs": [
    {
     "data": {
      "text/plain": [
       "1"
      ]
     },
     "execution_count": 9,
     "metadata": {},
     "output_type": "execute_result"
    }
   ],
   "source": [
    "# https://www.hackerrank.com/challenges/restaurant/problem?isFullScreen=true\n",
    "#? https://www.geeksforgeeks.org/greatest-common-divisor-gcd/\n",
    "#! The Greatest Common Divisor (GCD) also known as the Highest Common Factor (HCF)\n",
    "#! https://www.google.com/search?q=gcd&rlz=1C1GCEA_enEG1125EG1130&oq=gcd&gs_lcrp=EgZjaHJvbWUyBggAEEUYOTIQCAEQLhgBGAoYQxiABBiKBTIHCAIQABiABDIHCAMQABiABDIHCAQQABiABDIHCAUQABiABDIHCAYQABiABDIHCAcQABiABDINCAgQLhjHARjRAxiABNIBCTUxMTlqMGoxNagCCbACAfEFgATbHqvHlI8&sourceid=chrome&ie=UTF-8\n",
    "import math\n",
    "def restaurant(lenght:int, breadth:int):\n",
    "    pecies = (lenght / math.gcd(lenght,breadth)) * (breadth / math.gcd(lenght,breadth))\n",
    "    return int(pecies)\n",
    "\n",
    "\n",
    "restaurant(2,2)"
   ]
  },
  {
   "cell_type": "code",
   "execution_count": null,
   "id": "98bee50e",
   "metadata": {},
   "outputs": [
    {
     "name": "stdout",
     "output_type": "stream",
     "text": [
      "Number of matches : 2\n"
     ]
    }
   ],
   "source": []
  }
 ],
 "metadata": {
  "kernelspec": {
   "display_name": "Python 3",
   "language": "python",
   "name": "python3"
  },
  "language_info": {
   "codemirror_mode": {
    "name": "ipython",
    "version": 3
   },
   "file_extension": ".py",
   "mimetype": "text/x-python",
   "name": "python",
   "nbconvert_exporter": "python",
   "pygments_lexer": "ipython3",
   "version": "3.13.1"
  }
 },
 "nbformat": 4,
 "nbformat_minor": 5
}
