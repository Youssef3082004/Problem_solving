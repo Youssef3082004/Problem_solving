{
 "cells": [
  {
   "cell_type": "markdown",
   "id": "5e952849",
   "metadata": {},
   "source": [
    "## 🧠 [matching-specific-string](https://www.hackerrank.com/challenges/matching-specific-string/problem?isFullScreen=true)"
   ]
  },
  {
   "cell_type": "code",
   "execution_count": null,
   "id": "190ef6d2",
   "metadata": {},
   "outputs": [],
   "source": [
    "import re\n",
    "Regex_Pattern = r'hackerrank'\t\n",
    "Test_String = input()\n",
    "match = re.findall(Regex_Pattern, Test_String)\n",
    "print(\"Number of matches :\", len(match))"
   ]
  },
  {
   "cell_type": "markdown",
   "id": "928b4c40",
   "metadata": {},
   "source": [
    "## 🧠 [matching-digits-non-digit-character](https://www.hackerrank.com/challenges/matching-digits-non-digit-character/problem?isFullScreen=true)"
   ]
  },
  {
   "cell_type": "code",
   "execution_count": null,
   "id": "d991bd82",
   "metadata": {},
   "outputs": [
    {
     "name": "stdout",
     "output_type": "stream",
     "text": [
      "true\n"
     ]
    }
   ],
   "source": [
    "import re\n",
    "Regex_Pattern = r\"\\d{2}\\D\\d{2}\\D\\d{4}\"\t\n",
    "print(str(bool(re.search(Regex_Pattern, input()))).lower())"
   ]
  },
  {
   "cell_type": "markdown",
   "id": "9a3c8d01",
   "metadata": {},
   "source": [
    "## 🧠 [matching-specific-characters](https://www.hackerrank.com/challenges/matching-specific-characters/problem?isFullScreen=true)"
   ]
  },
  {
   "cell_type": "code",
   "execution_count": null,
   "id": "0187bbc7",
   "metadata": {},
   "outputs": [],
   "source": [
    "import re\n",
    "Regex_Pattern = r'^[123][012][sx0][30Aa][xsu][\\.\\,]$'    \n",
    "print(str(bool(re.search(Regex_Pattern, input()))).lower())"
   ]
  }
 ],
 "metadata": {
  "kernelspec": {
   "display_name": "Python 3",
   "language": "python",
   "name": "python3"
  },
  "language_info": {
   "codemirror_mode": {
    "name": "ipython",
    "version": 3
   },
   "file_extension": ".py",
   "mimetype": "text/x-python",
   "name": "python",
   "nbconvert_exporter": "python",
   "pygments_lexer": "ipython3",
   "version": "3.13.1"
  }
 },
 "nbformat": 4,
 "nbformat_minor": 5
}
