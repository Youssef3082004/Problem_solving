{
 "cells": [
  {
   "cell_type": "markdown",
   "id": "647fd9a6",
   "metadata": {},
   "source": [
    "## 🧠 [Two-sum](https://leetcode.com/problems/two-sum/description/)"
   ]
  },
  {
   "cell_type": "code",
   "execution_count": null,
   "id": "f2e7e826",
   "metadata": {},
   "outputs": [],
   "source": [
    "class Solution(object):\n",
    "    @staticmethod\n",
    "    def twoSum(nums:list[int], target:int):\n",
    "        target_list = [(x,y) for x in range(len(nums)) for y in range(len(nums)) if nums[x]+nums[y] == target and x!=y]\n",
    "        numbers = [num for tup in target_list for num in tup ]\n",
    "        return list(set(numbers))\n",
    "        \n",
    "\n",
    "c = Solution.twoSum([3,2,4],target=6)"
   ]
  },
  {
   "cell_type": "markdown",
   "id": "c7d7d7cb",
   "metadata": {},
   "source": [
    "### 🧠 [roman-to-integer](https://leetcode.com/problems/roman-to-integer/description/)\n"
   ]
  },
  {
   "cell_type": "code",
   "execution_count": null,
   "id": "21d95ad1",
   "metadata": {},
   "outputs": [],
   "source": [
    "class Solution:\n",
    "    \n",
    "    Roman_num = {'M': 1000,  'D': 500,'C': 100, 'L': 50,  'X': 10, 'V': 5, 'I': 1}\n",
    "    pairs = {'CM': 900,'XL': 40,'IX': 9, 'CD': 400,'XC': 90,'IV': 4}\n",
    "\n",
    "    def romanToInt(self, s: str) -> int:\n",
    "        \n",
    "        s=s.replace(\"IV\",\"IIII\")\n",
    "        s=s.replace(\"XC\",\"LXXXX\")\n",
    "        s=s.replace(\"CD\",\"CCCC\")\n",
    "        s=s.replace(\"IX\",\"VIIII\")\n",
    "        s=s.replace(\"CM\",\"DCCCC\")\n",
    "        s=s.replace(\"XL\",\"XXXX\")\n",
    "        sum = 0\n",
    "        \n",
    "        for letter in range(0,len(s)):\n",
    "            sum += Solution.Roman_num[s[letter]]    \n",
    "        else:\n",
    "            return sum\n",
    "\n",
    "\n",
    "sol = Solution()\n",
    "\n",
    "string = \"MCMXCIV\"\n",
    "sol.romanToInt(string)"
   ]
  },
  {
   "cell_type": "markdown",
   "id": "0eb662b7",
   "metadata": {},
   "source": [
    "### 🧠 [Longest-Common-Prefix](https://leetcode.com/problems/longest-common-prefix/description/)\n"
   ]
  },
  {
   "cell_type": "code",
   "execution_count": null,
   "id": "34f32b38",
   "metadata": {},
   "outputs": [],
   "source": [
    "class Solution:\n",
    "    def longestCommonPrefix(self, strs: list[str]) -> str:\n",
    "        strs = sorted(strs)\n",
    "        print(strs)\n",
    "        first = strs[0]\n",
    "        last = strs[-1]\n",
    "        ans = ''\n",
    "\n",
    "        for x in range(min(len(first),len(last))):\n",
    "            if(first[x]!=last[x]):\n",
    "                return ans\n",
    "            ans+=first[x]\n",
    "        return ans \n",
    "\n",
    "\n",
    "\n",
    "\n",
    "sol = Solution()\n",
    "sol.longestCommonPrefix([\"flower\",\"flow\",\"flight\",\"flil\"])"
   ]
  },
  {
   "cell_type": "markdown",
   "id": "f94a7849",
   "metadata": {},
   "source": [
    "## 🧠 [valid-parentheses](https://leetcode.com/problems/valid-parentheses/submissions/1677173836/)"
   ]
  },
  {
   "cell_type": "code",
   "execution_count": null,
   "id": "c5946652",
   "metadata": {},
   "outputs": [],
   "source": [
    "class Solution:\n",
    "    def isValid(self, s: str) -> bool:\n",
    "        closeToOpen = { \")\" : \"(\", \"]\" : \"[\", \"}\" : \"{\" }\n",
    "        Stack = []\n",
    "\n",
    "        for x in s:\n",
    "            if x in closeToOpen:\n",
    "                if Stack and Stack[-1] == closeToOpen[x]:\n",
    "                    Stack.pop()\n",
    "                else:\n",
    "                    return False\n",
    "            else:\n",
    "                Stack.append(x)\n",
    "\n",
    "        return False if len(Stack) > 0 else True\n",
    "\n",
    "\n",
    "sol = Solution()\n",
    "sol.isValid(\"([{])\")"
   ]
  },
  {
   "cell_type": "markdown",
   "id": "dcd12ca8",
   "metadata": {},
   "source": [
    "## 🧠 [single-number](https://leetcode.com/problems/single-number/)"
   ]
  },
  {
   "cell_type": "code",
   "execution_count": null,
   "id": "00dfe31a",
   "metadata": {},
   "outputs": [],
   "source": [
    "class Solution:\n",
    "    def singleNumber(self, nums: list[int]) -> int:\n",
    "        nums = sorted(nums)\n",
    "        Stack = []\n",
    "\n",
    "        for num in nums:\n",
    "            if num not in Stack:\n",
    "                Stack.append(num)\n",
    "            else:\n",
    "                Stack.pop(-1)\n",
    "        return Stack[0]\n",
    "        \n",
    "\n",
    "sol = Solution()\n",
    "nums = [4,1,2,1,2]\n",
    "sol.singleNumber(nums=nums)"
   ]
  },
  {
   "cell_type": "markdown",
   "id": "2343da91",
   "metadata": {},
   "source": [
    "## 🧠 [find-subsequence-of-length-k-with-the-largest-sum](https://leetcode.com/problems/find-subsequence-of-length-k-with-the-largest-sum/description/?envType=daily-question&envId=2025-06-28)"
   ]
  },
  {
   "cell_type": "code",
   "execution_count": null,
   "id": "f3f9dc43",
   "metadata": {},
   "outputs": [],
   "source": [
    "class Solution:\n",
    "    def maxSubsequence(self, nums: list[int], k: int) -> list[int]:\n",
    "        indexed_nums = [(num, i) for i, num in enumerate(nums)]\n",
    "\n",
    "        print(indexed_nums)\n",
    "        # نختار أكبر k عناصر حسب القيمة\n",
    "        top_k = sorted(indexed_nums, key=lambda x: (-x[0], x[1]))[:k]\n",
    "        print(top_k)\n",
    "\n",
    "\n",
    "        # نعيد ترتيب العناصر حسب مواقعها الأصلية للحفاظ على الترتيب\n",
    "        top_k_sorted = sorted(top_k, key=lambda x: x[1])\n",
    "        print(top_k_sorted)\n",
    "\n",
    "        return [num for num, i in top_k_sorted]\n",
    "\n",
    "\n",
    "sol = Solution()\n",
    "nums = [-1,-2,3,4]\n",
    "k = 3\n",
    "sol.maxSubsequence(nums,k)\n",
    "        "
   ]
  },
  {
   "cell_type": "markdown",
   "id": "0e453321",
   "metadata": {},
   "source": [
    "## 🧠 [Plus-one](https://leetcode.com/problems/plus-one/description/)"
   ]
  },
  {
   "cell_type": "code",
   "execution_count": null,
   "id": "9d140ea6",
   "metadata": {},
   "outputs": [],
   "source": [
    "class Solution:\n",
    "    def plusOne(self, digits: list[int]) -> list[int]:\n",
    "        digits = [str(digit) for digit in digits]\n",
    "        number = int(\"\".join(digits)) + 1\n",
    "        result = [int(digit) for digit in str(number)]\n",
    "        return result\n",
    "\n",
    "\n",
    "\n",
    "sol = Solution()\n",
    "digits = [19]\n",
    "sol.plusOne(digits)\n",
    "        "
   ]
  },
  {
   "cell_type": "markdown",
   "id": "1788b610",
   "metadata": {},
   "source": [
    "## 🧠 [length-of-last-word](https://leetcode.com/problems/length-of-last-word/description/)"
   ]
  },
  {
   "cell_type": "code",
   "execution_count": null,
   "id": "434820d3",
   "metadata": {},
   "outputs": [],
   "source": [
    "class Solution:\n",
    "    def lengthOfLastWord(self, s: str) -> int:\n",
    "        s = s.split(\" \")\n",
    "        \n",
    "\n",
    "        for i in range(-1,-len(s)-1,-1):\n",
    "            word = s[i]\n",
    "            if word.isalpha() == True:\n",
    "                return len(word)\n",
    "            \n",
    "\n",
    "\n",
    "sol = Solution()\n",
    "s = \"a\"\n",
    "sol.lengthOfLastWord(s)"
   ]
  },
  {
   "cell_type": "markdown",
   "id": "388f00b4",
   "metadata": {},
   "source": [
    "## 🧠 [score-of-a-string](https://leetcode.com/problems/score-of-a-string/description/)"
   ]
  },
  {
   "cell_type": "code",
   "execution_count": null,
   "id": "fc297187",
   "metadata": {},
   "outputs": [],
   "source": [
    "class Solution:\n",
    "    def scoreOfString(self, s: str) -> int:\n",
    "        total = 0\n",
    "        for i in range(len(s) - 1):\n",
    "            total += abs(ord(s[i]) - ord(s[i+1]))\n",
    "        return total"
   ]
  },
  {
   "cell_type": "markdown",
   "id": "13e74836",
   "metadata": {},
   "source": [
    "## 🧠 [rename-columns](https://leetcode.com/problems/rename-columns/)"
   ]
  },
  {
   "cell_type": "code",
   "execution_count": null,
   "id": "96e8d6b7",
   "metadata": {},
   "outputs": [],
   "source": [
    "import pandas as pd\n",
    "\n",
    "def renameColumns(students: pd.DataFrame) -> pd.DataFrame:\n",
    "    students.rename(columns={'id': 'student_id', 'first': 'first_name', 'last': 'last_name', 'age': 'age_in_years'}, inplace=True)\n",
    "    return students"
   ]
  },
  {
   "cell_type": "markdown",
   "id": "136cb45e",
   "metadata": {},
   "source": [
    "## 🧠 [palindrome-number](https://leetcode.com/problems/palindrome-number/description/)"
   ]
  },
  {
   "cell_type": "code",
   "execution_count": null,
   "id": "80618cdd",
   "metadata": {},
   "outputs": [],
   "source": [
    "class Solution:\n",
    "    def isPalindrome(self, x: int) -> bool:\n",
    "        string = str(x)\n",
    "        for x in range(len(string) // 2):\n",
    "\n",
    "            if string[x] != string[-(1 + x)]:\n",
    "                return False\n",
    "        return True\n",
    "\n",
    "\n",
    "\n",
    "sol = Solution()\n",
    "sol.isPalindrome(15851)\n"
   ]
  },
  {
   "cell_type": "markdown",
   "id": "81c612ba",
   "metadata": {},
   "source": [
    "## 🧠 [missing-number](https://leetcode.com/problems/missing-number/)"
   ]
  },
  {
   "cell_type": "code",
   "execution_count": null,
   "id": "763f8602",
   "metadata": {},
   "outputs": [],
   "source": [
    "class Solution:\n",
    "    def missingNumber(self, nums: list[int]) -> int:\n",
    "        lenght = len(nums) \n",
    "        total = sum(range(lenght))\n",
    "        return total - sum(nums)\n",
    "\n",
    "sol = Solution()\n",
    "nums = [1,2,4,5]\n",
    "sol.missingNumber(nums)"
   ]
  },
  {
   "cell_type": "markdown",
   "id": "3ab4450a",
   "metadata": {},
   "source": [
    "## 🧠 [intersection-of-two-arrays](https://leetcode.com/problems/intersection-of-two-arrays/description/)"
   ]
  },
  {
   "cell_type": "code",
   "execution_count": null,
   "id": "854eeb40",
   "metadata": {},
   "outputs": [],
   "source": [
    "class Solution:\n",
    "    def intersection(self, nums1: list[int], nums2: list[int]) -> list[int]:\n",
    "        num1 = set(nums1)\n",
    "        num2 = set(nums2)\n",
    "        return list(num1 & num2)\n",
    "    \n",
    "\n",
    "sol = Solution()\n",
    "nums1 = [1,2,2,1], nums2 = [2,2]\n",
    "sol.intersection(nums1,nums2)"
   ]
  },
  {
   "cell_type": "markdown",
   "id": "7151d51d",
   "metadata": {},
   "source": [
    "## 🧠 [contains-duplicate-ii](https://leetcode.com/problems/contains-duplicate-ii/)"
   ]
  },
  {
   "cell_type": "code",
   "execution_count": null,
   "id": "0c7330b9",
   "metadata": {},
   "outputs": [],
   "source": [
    "class Solution:\n",
    "    def containsNearbyDuplicate(self, nums: list[int], k: int) -> bool:\n",
    "        numbers = {}\n",
    "\n",
    "        for i ,number in enumerate(nums):\n",
    "            if number in numbers and abs(numbers[number] - i) <= k:\n",
    "                return True\n",
    "            numbers[number] = i\n",
    "        \n",
    "        else:\n",
    "            return False\n",
    "\n",
    "        \n",
    "sol = Solution()\n",
    "nums = [1,2,3,1] \n",
    "k = 3\n",
    "sol.containsNearbyDuplicate(nums,k)"
   ]
  },
  {
   "cell_type": "markdown",
   "id": "02094e13",
   "metadata": {},
   "source": [
    "## 🧠 [first-unique-character-in-a-string](https://leetcode.com/problems/first-unique-character-in-a-string/)"
   ]
  },
  {
   "cell_type": "code",
   "execution_count": null,
   "id": "450f0f47",
   "metadata": {},
   "outputs": [],
   "source": [
    "class Solution:\n",
    "    def firstUniqChar(self, s: str) -> int:\n",
    "        hash = {}\n",
    "        for i,letter in enumerate(s):\n",
    "            if letter not in hash:\n",
    "                hash[letter] = i\n",
    "            else:\n",
    "                hash[letter] = None\n",
    "\n",
    "        for key,value in hash.items():\n",
    "            if value != None:\n",
    "                return value\n",
    "        return -1\n",
    "            \n",
    "sol = Solution()\n",
    "sol.firstUniqChar(\"leetcode\")"
   ]
  },
  {
   "cell_type": "markdown",
   "id": "deb192ca",
   "metadata": {},
   "source": [
    "## 🧠 [power-of-three](https://leetcode.com/problems/power-of-three/description/)"
   ]
  },
  {
   "cell_type": "code",
   "execution_count": null,
   "id": "d1132a8b",
   "metadata": {},
   "outputs": [],
   "source": [
    "class Solution:\n",
    "    def isPowerOfThree(self, n: int) -> bool:\n",
    "        if n <= 0:\n",
    "            return False\n",
    "        while n % 3 == 0:\n",
    "            n = n // 3\n",
    "        return n == 1\n",
    "\n",
    "sol = Solution()\n",
    "sol.isPowerOfThree(243)        \n"
   ]
  },
  {
   "cell_type": "markdown",
   "id": "07870273",
   "metadata": {},
   "source": [
    "## 🧠 [search-insert-position](https://leetcode.com/problems/search-insert-position/description/)"
   ]
  },
  {
   "cell_type": "code",
   "execution_count": null,
   "id": "8f698c48",
   "metadata": {},
   "outputs": [],
   "source": [
    "class Solution:\n",
    "    def searchInsert(self, nums: list[int], target: int) -> int:\n",
    "        left , right = 0 , len(nums) -1\n",
    "\n",
    "        while left <= right :\n",
    "            m = (left+right) // 2\n",
    "            if nums[m] == target :\n",
    "                return m             \n",
    "            elif nums[m] < target  :\n",
    "                left = m + 1\n",
    "            else:\n",
    "                right = m - 1\n",
    "        return left\n",
    "\n",
    "                \n",
    "sol = Solution()\n",
    "nums = [1,3,5,6]\n",
    "target = 2\n",
    "sol.searchInsert(nums,target)\n",
    "        "
   ]
  },
  {
   "cell_type": "markdown",
   "id": "b2e2c903",
   "metadata": {},
   "source": [
    "## 🧠 [sqrtx](https://leetcode.com/problems/sqrtx/)"
   ]
  },
  {
   "cell_type": "code",
   "execution_count": 29,
   "id": "3f0f15a4",
   "metadata": {},
   "outputs": [
    {
     "data": {
      "text/plain": [
       "0"
      ]
     },
     "execution_count": 29,
     "metadata": {},
     "output_type": "execute_result"
    }
   ],
   "source": [
    "from math import floor\n",
    "\n",
    "class Solution:\n",
    "    def mySqrt(self, x: int) -> int:\n",
    "        if x == 0:\n",
    "            return 0\n",
    "        else:\n",
    "            last = 0\n",
    "            squraroot = 0.5 * (2 + (x /2))\n",
    "\n",
    "            while last != squraroot:\n",
    "                last = squraroot\n",
    "                squraroot = 0.5 * (last + (x /last))\n",
    "            return floor(last)\n",
    "    \n",
    "\n",
    "\n",
    "sol = Solution()\n",
    "sol.mySqrt(0)"
   ]
  },
  {
   "cell_type": "markdown",
   "id": "00b6d29c",
   "metadata": {},
   "source": [
    "## 🧠 [valid-word](https://leetcode.com/problems/valid-word/description/?envType=daily-question&envId=2025-07-15)"
   ]
  },
  {
   "cell_type": "code",
   "execution_count": null,
   "id": "c1f00806",
   "metadata": {},
   "outputs": [
    {
     "data": {
      "text/plain": [
       "False"
      ]
     },
     "execution_count": 34,
     "metadata": {},
     "output_type": "execute_result"
    }
   ],
   "source": [
    "import re \n",
    "\n",
    "class Solution:\n",
    "    def isValid(self, word: str) -> bool:\n",
    "        if len(word) < 3:\n",
    "            return False\n",
    "\n",
    "        if not re.fullmatch(r'[A-Za-z0-9]+', word):\n",
    "            return False\n",
    "\n",
    "        if not re.search(r'[aeiouAEIOU]', word):\n",
    "            return False\n",
    "\n",
    "        if not re.search(r'(?i)[b-df-hj-np-tv-z]', word):  # (?i) makes it case-insensitive\n",
    "            return False\n",
    "\n",
    "        return True\n",
    "\n",
    "\n",
    "sol = Solution()\n",
    "\n",
    "\n",
    "sol.isValid(\"a3$e\")"
   ]
  },
  {
   "cell_type": "markdown",
   "id": "bf82ad33",
   "metadata": {},
   "source": [
    "## 🧠 [power-of-two](https://leetcode.com/problems/power-of-two/submissions/1700231969/)"
   ]
  },
  {
   "cell_type": "code",
   "execution_count": null,
   "id": "1c8af2cd",
   "metadata": {},
   "outputs": [
    {
     "data": {
      "text/plain": [
       "False"
      ]
     },
     "execution_count": 19,
     "metadata": {},
     "output_type": "execute_result"
    }
   ],
   "source": [
    "\n",
    "class Solution:\n",
    "    def isPowerOfTwo(self, n: int) -> bool:\n",
    "        if n <= 0:\n",
    "            return False\n",
    "        while n % 2 == 0:\n",
    "            n = n // 2\n",
    "        return n == 1\n",
    "\n",
    "\n",
    "sol = Solution()\n",
    "sol.isPowerOfTwo(0)"
   ]
  },
  {
   "cell_type": "markdown",
   "id": "00996eae",
   "metadata": {},
   "source": [
    "## 🧠 [find-the-difference](https://leetcode.com/problems/find-the-difference/description/)"
   ]
  },
  {
   "cell_type": "code",
   "execution_count": null,
   "id": "da2cf3b4",
   "metadata": {},
   "outputs": [
    {
     "data": {
      "text/plain": [
       "'a'"
      ]
     },
     "execution_count": 6,
     "metadata": {},
     "output_type": "execute_result"
    }
   ],
   "source": [
    "class Solution:\n",
    "    def findTheDifference(self, s: str, t: str) -> str:\n",
    "        for letter in s:\n",
    "            if s.count(letter) != t.count(letter):\n",
    "                return letter\n",
    "    \n",
    "sol = Solution()\n",
    "sol.findTheDifference(s = \"aa\", t = \"a\")"
   ]
  },
  {
   "cell_type": "markdown",
   "id": "0b949c7e",
   "metadata": {},
   "source": [
    "## 🧠 [find-common-elements-between-two-arrays](https://leetcode.com/problems/find-common-elements-between-two-arrays/)"
   ]
  },
  {
   "cell_type": "code",
   "execution_count": null,
   "id": "f6e7ebdf",
   "metadata": {},
   "outputs": [
    {
     "data": {
      "text/plain": [
       "[2, 1]"
      ]
     },
     "execution_count": 13,
     "metadata": {},
     "output_type": "execute_result"
    }
   ],
   "source": [
    "class Solution:\n",
    "    def findIntersectionValues(self, nums1: list[int], nums2: list[int]) -> list[int]:\n",
    "        set1 ,set2 = set(nums1) , set(nums2) \n",
    "        common_one , common_two= list(filter(lambda x: x in set2, nums1))  , list(filter(lambda x: x in set1, nums2))\n",
    "        return [len(common_one), len(common_two)]\n",
    "\n",
    "\n",
    "\n",
    "sol = Solution()\n",
    "nums1 = [2,3,2]\n",
    "nums2 = [1,2]\n",
    "sol.findIntersectionValues(nums1,nums2)"
   ]
  },
  {
   "cell_type": "markdown",
   "id": "76967fe6",
   "metadata": {},
   "source": [
    "## 🧠 [binary-tree-inorder-traversal](https://leetcode.com/problems/binary-tree-inorder-traversal/submissions/?envType=problem-list-v2&envId=tree)\n",
    "\n",
    "\n",
    "\n",
    "- [Explaining Solution](https://chatgpt.com/share/689b253b-41f8-8001-bd0f-4a7460114824)"
   ]
  },
  {
   "cell_type": "code",
   "execution_count": 4,
   "id": "b1c3e2a3",
   "metadata": {},
   "outputs": [
    {
     "ename": "AttributeError",
     "evalue": "'list' object has no attribute 'left'",
     "output_type": "error",
     "traceback": [
      "\u001b[1;31m---------------------------------------------------------------------------\u001b[0m",
      "\u001b[1;31mAttributeError\u001b[0m                            Traceback (most recent call last)",
      "Cell \u001b[1;32mIn[4], line 27\u001b[0m\n\u001b[0;32m     21\u001b[0m         \u001b[38;5;28;01mreturn\u001b[39;00m res \n\u001b[0;32m     26\u001b[0m sol \u001b[38;5;241m=\u001b[39m Solution()\n\u001b[1;32m---> 27\u001b[0m \u001b[43msol\u001b[49m\u001b[38;5;241;43m.\u001b[39;49m\u001b[43minorderTraversal\u001b[49m\u001b[43m(\u001b[49m\u001b[43m[\u001b[49m\u001b[38;5;241;43m1\u001b[39;49m\u001b[43m,\u001b[49m\u001b[38;5;28;43;01mNone\u001b[39;49;00m\u001b[43m,\u001b[49m\u001b[38;5;241;43m2\u001b[39;49m\u001b[43m,\u001b[49m\u001b[38;5;241;43m3\u001b[39;49m\u001b[43m]\u001b[49m\u001b[43m)\u001b[49m\n",
      "Cell \u001b[1;32mIn[4], line 20\u001b[0m, in \u001b[0;36mSolution.inorderTraversal\u001b[1;34m(self, root)\u001b[0m\n\u001b[0;32m     17\u001b[0m     res\u001b[38;5;241m.\u001b[39mappend(root\u001b[38;5;241m.\u001b[39mval)\n\u001b[0;32m     18\u001b[0m     inorder(root\u001b[38;5;241m.\u001b[39mright)\n\u001b[1;32m---> 20\u001b[0m \u001b[43minorder\u001b[49m\u001b[43m(\u001b[49m\u001b[43mroot\u001b[49m\u001b[43m)\u001b[49m\n\u001b[0;32m     21\u001b[0m \u001b[38;5;28;01mreturn\u001b[39;00m res\n",
      "Cell \u001b[1;32mIn[4], line 16\u001b[0m, in \u001b[0;36mSolution.inorderTraversal.<locals>.inorder\u001b[1;34m(root)\u001b[0m\n\u001b[0;32m     14\u001b[0m \u001b[38;5;28;01mif\u001b[39;00m \u001b[38;5;129;01mnot\u001b[39;00m root:\n\u001b[0;32m     15\u001b[0m     \u001b[38;5;28;01mreturn\u001b[39;00m\n\u001b[1;32m---> 16\u001b[0m inorder(\u001b[43mroot\u001b[49m\u001b[38;5;241;43m.\u001b[39;49m\u001b[43mleft\u001b[49m)\n\u001b[0;32m     17\u001b[0m res\u001b[38;5;241m.\u001b[39mappend(root\u001b[38;5;241m.\u001b[39mval)\n\u001b[0;32m     18\u001b[0m inorder(root\u001b[38;5;241m.\u001b[39mright)\n",
      "\u001b[1;31mAttributeError\u001b[0m: 'list' object has no attribute 'left'"
     ]
    }
   ],
   "source": [
    "from typing import Optional\n",
    "\n",
    "class TreeNode:\n",
    "    def __init__(self, val=0, left=None, right=None):\n",
    "        self.val = val\n",
    "        self.left = left\n",
    "        self.right = right\n",
    "\n",
    "class Solution:\n",
    "    def inorderTraversal(self, root: Optional[TreeNode]) -> list[int]:\n",
    "        res = []\n",
    "        \n",
    "        def inorder(root:TreeNode):\n",
    "            if not root:\n",
    "                return\n",
    "            inorder(root.left)\n",
    "            res.append(root.val)\n",
    "            inorder(root.right)\n",
    "        \n",
    "        inorder(root)\n",
    "        return res \n",
    "\n",
    "\n",
    "\n",
    "\n",
    "sol = Solution()\n",
    "sol.inorderTraversal([1,None,2,3])\n",
    "\n",
    "        "
   ]
  }
 ],
 "metadata": {
  "kernelspec": {
   "display_name": "Python 3",
   "language": "python",
   "name": "python3"
  },
  "language_info": {
   "codemirror_mode": {
    "name": "ipython",
    "version": 3
   },
   "file_extension": ".py",
   "mimetype": "text/x-python",
   "name": "python",
   "nbconvert_exporter": "python",
   "pygments_lexer": "ipython3",
   "version": "3.13.1"
  }
 },
 "nbformat": 4,
 "nbformat_minor": 5
}
