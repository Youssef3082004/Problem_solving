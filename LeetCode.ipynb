{
 "cells": [
  {
   "cell_type": "markdown",
   "metadata": {},
   "source": [
    "## 🧠 [Two-sum](https://leetcode.com/problems/two-sum/description/)\n",
    "\n"
   ]
  },
  {
   "cell_type": "code",
   "execution_count": 2,
   "metadata": {},
   "outputs": [],
   "source": [
    "class Solution(object):\n",
    "    @staticmethod\n",
    "    def twoSum(nums:list[int], target:int):\n",
    "        target_list = [(x,y) for x in range(len(nums)) for y in range(len(nums)) if nums[x]+nums[y] == target and x!=y]\n",
    "        numbers = [num for tup in target_list for num in tup ]\n",
    "        return list(set(numbers))\n",
    "        \n",
    "\n",
    "\n",
    "\n",
    "c = Solution.twoSum([3,2,4],target=6)"
   ]
  },
  {
   "cell_type": "markdown",
   "metadata": {},
   "source": [
    "## 🧠 [Add-Two-Numbers](https://leetcode.com/problems/add-two-numbers/)\n",
    "> [Solution Video](https://www.youtube.com/watch?v=DFDTaCGlzTY&t=7s)"
   ]
  },
  {
   "cell_type": "code",
   "execution_count": null,
   "metadata": {},
   "outputs": [
    {
     "name": "stdout",
     "output_type": "stream",
     "text": [
      "1627[1, 6, 2, 7]\n"
     ]
    }
   ],
   "source": [
    "from typing import Optional\n",
    "\n",
    "class ListNode:\n",
    "    def __init__(self, val=0, next=None):\n",
    "        self.val = val\n",
    "        self.next = next\n",
    "\n",
    "class Solution:\n",
    "    def addTwoNumbers(self, l1: Optional[ListNode], l2: Optional[ListNode]) -> Optional[ListNode]:\n",
    "        dummy = ListNode()\n",
    "        res = dummy\n",
    "        carry = 0\n",
    "\n",
    "        while l1 or l2 or carry:\n",
    "            total = carry\n",
    "\n",
    "            if l1:\n",
    "                total += l1.val\n",
    "                l1 = l1.next\n",
    "            if l2:\n",
    "                total += l2.val\n",
    "                l2 = l2.next\n",
    "\n",
    "            #! if total sum two numbers is >= 10 \n",
    "            num = total % 10\n",
    "            carry = total // 10\n",
    "            dummy.next = ListNode(num)\n",
    "            dummy = dummy.next\n",
    "\n",
    "        return res.next\n",
    "\n",
    "\n",
    "l1 = ListNode(10, ListNode(5, ListNode(2, ListNode(7))))\n",
    "l2 = ListNode(1, ListNode(0, ListNode(0)))\n",
    "\n",
    "sol = Solution()\n",
    "result = sol.addTwoNumbers(l1, l2)\n",
    "\n",
    "nodes = []\n",
    "while result:\n",
    "    nodes.append(result.val)\n",
    "\n",
    "    result = result.next\n",
    "\n",
    "print(nodes)\n"
   ]
  },
  {
   "cell_type": "markdown",
   "metadata": {},
   "source": [
    "## 🧠 [Median of Two Sorted Arrays](https://leetcode.com/problems/median-of-two-sorted-arrays/description/)"
   ]
  },
  {
   "cell_type": "code",
   "execution_count": 35,
   "metadata": {},
   "outputs": [
    {
     "data": {
      "text/plain": [
       "2.5"
      ]
     },
     "execution_count": 35,
     "metadata": {},
     "output_type": "execute_result"
    }
   ],
   "source": [
    "class Solution:\n",
    "    def findMedianSortedArrays(self, nums1: list[int], nums2: list[int]) -> float:\n",
    "        nums = sorted(nums1 + nums2)\n",
    "        n = len(nums)\n",
    "        if n % 2 == 1:\n",
    "            return float(nums[n // 2])\n",
    "        else:\n",
    "            return (nums[n // 2 - 1] + nums[n // 2]) / 2\n",
    "\n",
    "\n",
    "sol = Solution()\n",
    "sol.findMedianSortedArrays([1,2],[3,4])\n"
   ]
  },
  {
   "cell_type": "markdown",
   "metadata": {},
   "source": [
    "## 🧠 [container with most water](https://leetcode.com/problems/container-with-most-water/description/)\n"
   ]
  },
  {
   "cell_type": "code",
   "execution_count": null,
   "metadata": {},
   "outputs": [
    {
     "data": {
      "text/plain": [
       "2"
      ]
     },
     "execution_count": 75,
     "metadata": {},
     "output_type": "execute_result"
    }
   ],
   "source": [
    "class Solution:\n",
    "    def maxArea(self, height: list[int]) -> int:\n",
    "        left = 0\n",
    "        right = len(height) - 1\n",
    "        max_area = 0\n",
    "\n",
    "        while left < right:\n",
    "            width = right - left\n",
    "            area = min(height[left], height[right]) * width\n",
    "            max_area = max(max_area, area)\n",
    "\n",
    "            if height[left] < height[right]:\n",
    "                left += 1\n",
    "            else:\n",
    "                right -= 1\n",
    "\n",
    "        return max_area\n",
    "\n",
    "            \n",
    "\n",
    "sol = Solution()\n",
    "sol.maxArea(height=[1,2,1])"
   ]
  },
  {
   "cell_type": "markdown",
   "metadata": {},
   "source": [
    "## 🧠 [reverse-integer](https://leetcode.com/problems/reverse-integer/description/)\n"
   ]
  },
  {
   "cell_type": "code",
   "execution_count": null,
   "metadata": {},
   "outputs": [
    {
     "name": "stdout",
     "output_type": "stream",
     "text": [
      "-321\n"
     ]
    }
   ],
   "source": [
    "class Solution:\n",
    "    @staticmethod\n",
    "    def reverse(x:int) -> int:\n",
    "\n",
    "        try:\n",
    "            if str(x).startswith(\"-\"):\n",
    "                reversed_string = str(x).removeprefix(\"-\")[::-1]\n",
    "                return -int(reversed_string) if -(2**31) <= int(reversed_string)  <= (2**31 - 1) else 0\n",
    "            elif str(x).endswith(\"0\"):\n",
    "                reversed_string = str(x).removesuffix(\"0\")[::-1] \n",
    "                return int(reversed_string)  if -(2**31) <= int(reversed_string)  <= (2**31 - 1) else 0\n",
    "            else:\n",
    "                reversed_string = str(x)[::-1]\n",
    "                return int(reversed_string) if -(2**31) <= int(reversed_string)  <= (2**31 - 1) else 0\n",
    "        except ValueError:\n",
    "            return 0\n",
    "\n",
    "c = Solution.reverse(-123)\n",
    "print(c)"
   ]
  },
  {
   "cell_type": "markdown",
   "metadata": {},
   "source": [
    "### 🧠 [add-two-numbers](https://leetcode.com/problems/add-two-numbers/)\n",
    "\n",
    "- You are given **two non-empty** linked lists representing two non-negative integers. The digits are stored in **reverse order**\n",
    "- and each of their nodes contains a single digit. Add the two numbers and return the sum as a linked list.\n",
    "- You may assume the two numbers do not contain any leading zero, except the number 0 itself"
   ]
  },
  {
   "cell_type": "code",
   "execution_count": null,
   "metadata": {},
   "outputs": [
    {
     "name": "stdout",
     "output_type": "stream",
     "text": [
      "Result: 7 -> 0 -> 8 -> None\n"
     ]
    }
   ],
   "source": [
    "class Solution:\n",
    "    def addTwoNumbers(self, l1: Optional[ListNode], l2: Optional[ListNode]) -> Optional[ListNode]:\n",
    "        dummy = ListNode()\n",
    "        current = dummy\n",
    "        carry = 0\n",
    "\n",
    "        while l1 or l2 or carry:\n",
    "            total = carry\n",
    "            if l1:\n",
    "                total += l1.val\n",
    "                l1 = l1.next\n",
    "            if l2:\n",
    "                total += l2.val\n",
    "                l2 = l2.next\n",
    "\n",
    "            current.next = ListNode(total % 10)\n",
    "            carry = total // 10\n",
    "            current = current.next\n",
    "\n",
    "        return dummy.next\n"
   ]
  },
  {
   "cell_type": "markdown",
   "metadata": {},
   "source": [
    "### 🧠 [longest-substring-without-repeating-characters](https://leetcode.com/problems/longest-substring-without-repeating-characters/description/)\n"
   ]
  },
  {
   "cell_type": "code",
   "execution_count": null,
   "metadata": {},
   "outputs": [
    {
     "data": {
      "text/plain": [
       "3"
      ]
     },
     "execution_count": 114,
     "metadata": {},
     "output_type": "execute_result"
    }
   ],
   "source": [
    "#! My Solution but time complexity is o(n3)\n",
    "class Solution:\n",
    "    @staticmethod\n",
    "    def lengthOfLongestSubstring(s:str) -> int:\n",
    "        try:\n",
    "            # number_of_substring =  (len(s) * (len(s) + 1)) // 2\n",
    "            max_len = len(s)\n",
    "            all_substring = []\n",
    "            for x in range(max_len + 1):\n",
    "                for y in range(max_len + 1):\n",
    "                    e = s[x:y]\n",
    "                    if s[x:y] !=\"\" and \"\".join(s[x:y]) in s  :\n",
    "                        all_substring.append(e if e in s and len(e) == len(set(e)) else \"\") \n",
    "                    else:\n",
    "                        continue\n",
    "            return len(max(all_substring,key=len))\n",
    "        except :\n",
    "            return 0\n",
    "        \n",
    "#! Chatgpt time complexity solution is o(n)\n",
    "    def lengthOfLongestSubstring(s: str) -> int:\n",
    "        char_index = {}  # Stores last seen index of characters\n",
    "        left = 0  # Left boundary of sliding window\n",
    "        max_length = 0  # Tracks longest substring without repetition\n",
    "\n",
    "        for right, char in enumerate(s):\n",
    "            if char in char_index and char_index[char] >= left:\n",
    "                left = char_index[char] + 1  # Move left pointer to avoid repetition\n",
    "\n",
    "            char_index[char] = right  # Update last seen index of character\n",
    "            max_length = max(max_length, right - left + 1)\n",
    "            print(right)\n",
    "        return max_length\n",
    "        \n",
    "        \n",
    "       \n",
    "\n",
    "\n",
    "Solution.lengthOfLongestSubstring(s=\"abcabcbb\")\n",
    "        "
   ]
  },
  {
   "cell_type": "markdown",
   "metadata": {},
   "source": [
    "### 🧠 [string-to-integer-atoi](https://leetcode.com/problems/string-to-integer-atoi/)"
   ]
  },
  {
   "cell_type": "code",
   "execution_count": null,
   "metadata": {},
   "outputs": [],
   "source": [
    "class Solution:\n",
    "    INT_MAX = 2**31 - 1\n",
    "    INT_MIN = -2**31\n",
    "\n",
    "    @staticmethod\n",
    "    def myAtoi(s: str) -> int:\n",
    "        s = s.lstrip()  \n",
    "        if not s:\n",
    "            return 0\n",
    "\n",
    "        sign = 1\n",
    "        index = 0\n",
    "        result = 0\n",
    "\n",
    "       \n",
    "        if s[index] == '+':\n",
    "            index += 1\n",
    "        elif s[index] == '-':\n",
    "            sign = -1\n",
    "            index += 1\n",
    "\n",
    "       \n",
    "        while index < len(s) and s[index].isdigit():\n",
    "            digit = int(s[index])\n",
    "           \n",
    "            if result > (Solution.INT_MAX - digit) // 10:\n",
    "                return Solution.INT_MAX if sign == 1 else Solution.INT_MIN\n",
    "\n",
    "            result = result * 10 + digit\n",
    "            index += 1\n",
    "\n",
    "        return sign * result\n"
   ]
  },
  {
   "cell_type": "markdown",
   "metadata": {},
   "source": [
    "### 🧠 [integer-to-roman](#https://leetcode.com/problems/integer-to-roman/description/)\n",
    "- [Solution](https://leetcode.com/problems/integer-to-roman/solutions/6034491/creating-mappings-bonus-coding/)"
   ]
  },
  {
   "cell_type": "code",
   "execution_count": null,
   "metadata": {},
   "outputs": [
    {
     "data": {
      "text/plain": [
       "'MXXV'"
      ]
     },
     "execution_count": 85,
     "metadata": {},
     "output_type": "execute_result"
    }
   ],
   "source": [
    "class Solution:\n",
    "    Roman_num = [\n",
    "            (1000, 'M'), (900, 'CM'), (500, 'D'), (400, 'CD'),\n",
    "            (100, 'C'), (90, 'XC'), (50, 'L'), (40, 'XL'), (10, 'X'),\n",
    "            (9, 'IX'), (5, 'V'), (4, 'IV'), (1, 'I')]\n",
    "\n",
    "    def intToRoman(self, num: int) -> str:\n",
    "        res = []\n",
    "\n",
    "        for value,Symbol in Solution.Roman_num:\n",
    "            if num == 0 :\n",
    "                break\n",
    "            count = num // value\n",
    "            res.append(Symbol * count)\n",
    "            num = num - (count * value)\n",
    "        return ''.join(res)\n",
    "\n",
    "\n",
    "sol = Solution()\n",
    "sol.intToRoman(num=1025)"
   ]
  },
  {
   "cell_type": "markdown",
   "metadata": {},
   "source": [
    "### 🧠 [roman-to-integer](https://leetcode.com/problems/roman-to-integer/description/)\n"
   ]
  },
  {
   "cell_type": "code",
   "execution_count": null,
   "metadata": {},
   "outputs": [
    {
     "data": {
      "text/plain": [
       "1994"
      ]
     },
     "execution_count": 209,
     "metadata": {},
     "output_type": "execute_result"
    }
   ],
   "source": [
    "class Solution:\n",
    "    \n",
    "    \n",
    "    Roman_num = {'M': 1000,  'D': 500,'C': 100, 'L': 50,  'X': 10, 'V': 5, 'I': 1}\n",
    "    pairs = {'CM': 900,'XL': 40,'IX': 9, 'CD': 400,'XC': 90,'IV': 4}\n",
    "\n",
    "    def romanToInt(self, s: str) -> int:\n",
    "        \n",
    "        s=s.replace(\"IV\",\"IIII\")\n",
    "        s=s.replace(\"XC\",\"LXXXX\")\n",
    "        s=s.replace(\"CD\",\"CCCC\")\n",
    "        s=s.replace(\"IX\",\"VIIII\")\n",
    "        s=s.replace(\"CM\",\"DCCCC\")\n",
    "        s=s.replace(\"XL\",\"XXXX\")\n",
    "        sum = 0\n",
    "        \n",
    "        for letter in range(0,len(s)):\n",
    "            sum += Solution.Roman_num[s[letter]]    \n",
    "        else:\n",
    "            return sum\n",
    "\n",
    "\n",
    "sol = Solution()\n",
    "\n",
    "string = \"MCMXCIV\"\n",
    "sol.romanToInt(string)"
   ]
  },
  {
   "cell_type": "markdown",
   "metadata": {},
   "source": [
    "### 🧠 [Longest-Common-Prefix](https://leetcode.com/problems/longest-common-prefix/description/)\n"
   ]
  },
  {
   "cell_type": "code",
   "execution_count": 48,
   "metadata": {},
   "outputs": [
    {
     "name": "stdout",
     "output_type": "stream",
     "text": [
      "['flight', 'flil', 'flow', 'flower']\n"
     ]
    },
    {
     "data": {
      "text/plain": [
       "'fl'"
      ]
     },
     "execution_count": 48,
     "metadata": {},
     "output_type": "execute_result"
    }
   ],
   "source": [
    "\n",
    "\n",
    "class Solution:\n",
    "    def longestCommonPrefix(self, strs: list[str]) -> str:\n",
    "        strs = sorted(strs)\n",
    "        print(strs)\n",
    "        first = strs[0]\n",
    "        last = strs[-1]\n",
    "        ans = ''\n",
    "\n",
    "        for x in range(min(len(first),len(last))):\n",
    "            if(first[x]!=last[x]):\n",
    "                return ans\n",
    "            ans+=first[x]\n",
    "        return ans \n",
    "\n",
    "\n",
    "\n",
    "\n",
    "sol = Solution()\n",
    "sol.longestCommonPrefix([\"flower\",\"flow\",\"flight\",\"flil\"])"
   ]
  },
  {
   "cell_type": "markdown",
   "metadata": {},
   "source": [
    "### 🧠 [letter-combinations-of-a-phone-number](https://leetcode.com/problems/letter-combinations-of-a-phone-number/description/)\n"
   ]
  },
  {
   "cell_type": "code",
   "execution_count": null,
   "metadata": {},
   "outputs": [
    {
     "data": {
      "text/plain": [
       "[]"
      ]
     },
     "execution_count": 82,
     "metadata": {},
     "output_type": "execute_result"
    }
   ],
   "source": [
    "\n",
    "class Solution:\n",
    "    digit_letter = {\n",
    "        '2': ['a', 'b', 'c'],\n",
    "        '3': ['d', 'e', 'f'],\n",
    "        '4': ['g', 'h', 'i'],\n",
    "        '5': ['j', 'k', 'l'],\n",
    "        '6': ['m', 'n', 'o'],\n",
    "        '7': ['p', 'q', 'r', 's'],\n",
    "        '8': ['t', 'u', 'v'],\n",
    "        '9': ['w', 'x', 'y', 'z']\n",
    "        \n",
    "        }\n",
    "    def letterCombinations(self, digits: str) -> list[str]:\n",
    "        digits = list(digits)\n",
    "        choosed_letters = []\n",
    "\n",
    "        if len(digits) == 0:\n",
    "                return []\n",
    "        \n",
    "        for x in digits:\n",
    "            choosed_letters.append(Solution.digit_letter[x])\n",
    "        \n",
    "        if len(digits) == 1:\n",
    "            return choosed_letters[0]\n",
    "    \n",
    "        elif len(digits) == 2:\n",
    "            first = choosed_letters[0]\n",
    "            second =choosed_letters[1]\n",
    "            return  [f\"{x}{y}\" for x in first for y in second ]\n",
    "\n",
    "        elif len(digits) == 3:\n",
    "            first = choosed_letters[0]\n",
    "            second =choosed_letters[1]\n",
    "            third = choosed_letters[2]\n",
    "            return  [f\"{x}{y}{m}\" for x in first for y in second for m in third ]\n",
    "\n",
    "        elif len(digits) == 4:\n",
    "            first = choosed_letters[0]\n",
    "            second =choosed_letters[1]\n",
    "            third = choosed_letters[2]\n",
    "            fourth = choosed_letters[3]\n",
    "            return  [f\"{x}{y}{m}{z}\" for x in first for y in second for m in third for z in fourth]\n",
    "\n",
    "\n",
    "        \n",
    "\n",
    "\n",
    "\n",
    "sol = Solution()\n",
    "sol.letterCombinations(\"\")\n",
    "        "
   ]
  },
  {
   "cell_type": "markdown",
   "metadata": {},
   "source": [
    "### 🧠 [3-Sum](https://leetcode.com/problems/3sum/description/?envType=problem-list-v2&envId=array)\n"
   ]
  },
  {
   "cell_type": "code",
   "execution_count": null,
   "metadata": {},
   "outputs": [
    {
     "data": {
      "text/plain": [
       "[[-1, -1, 2], [-1, 0, 1]]"
      ]
     },
     "execution_count": 14,
     "metadata": {},
     "output_type": "execute_result"
    }
   ],
   "source": [
    "class Solution:\n",
    "    def threeSum(self, nums: list[int]) -> list[list[int]]:\n",
    "        nums.sort()\n",
    "        solution = []\n",
    "\n",
    "        for i in range(len(nums)-2):\n",
    "            if i > 0 and nums[i] == nums[i - 1]:\n",
    "                continue\n",
    "            left, right = i + 1, len(nums) - 1\n",
    "            \n",
    "            while right > left:\n",
    "                total = nums[i] + nums[left] + nums[right]\n",
    "\n",
    "                if total == 0:\n",
    "                    solution.append([nums[i], nums[left], nums[right]])\n",
    "                    \n",
    "                    while left < right and nums[left] == nums[left + 1]:\n",
    "                        left += 1\n",
    "                    while left < right and nums[right] == nums[right - 1]:\n",
    "                        right -= 1\n",
    "\n",
    "                    left += 1\n",
    "                    right -= 1\n",
    "                elif total < 0:\n",
    "                    left += 1\n",
    "                else:\n",
    "                    right -= 1\n",
    "        return solution\n",
    "\n",
    "\n",
    "\n",
    "\n",
    "\n",
    "sol = Solution()\n",
    "sol.threeSum([-1,0,1,2,-1,-4])\n",
    "        "
   ]
  },
  {
   "cell_type": "markdown",
   "metadata": {},
   "source": [
    "## 🧠 [permutations](https://leetcode.com/problems/permutations/description/)"
   ]
  },
  {
   "cell_type": "code",
   "execution_count": null,
   "metadata": {},
   "outputs": [
    {
     "data": {
      "text/plain": [
       "[(1, 2, 3), (1, 3, 2), (2, 1, 3), (2, 3, 1), (3, 1, 2), (3, 2, 1)]"
      ]
     },
     "execution_count": 4,
     "metadata": {},
     "output_type": "execute_result"
    }
   ],
   "source": [
    "from itertools import permutations\n",
    "\n",
    "class Solution:\n",
    "    def permute(self, nums: list[int]) -> list[list[int]]:\n",
    "        return list(permutations(nums,len(nums)))\n",
    "        \n",
    "\n",
    "\n",
    "sol = Solution()\n",
    "nums = [1,2,3]\n",
    "sol.permute(nums)\n",
    "        "
   ]
  },
  {
   "cell_type": "markdown",
   "metadata": {},
   "source": [
    "## 🧠 [permutations-ii](https://leetcode.com/problems/permutations/description/)"
   ]
  },
  {
   "cell_type": "code",
   "execution_count": null,
   "metadata": {},
   "outputs": [
    {
     "data": {
      "text/plain": [
       "[(1, 2, 1), (2, 1, 1), (1, 1, 2)]"
      ]
     },
     "execution_count": 7,
     "metadata": {},
     "output_type": "execute_result"
    }
   ],
   "source": [
    "from itertools import permutations\n",
    "\n",
    "class Solution:\n",
    "    def permuteUnique(self, nums: list[int]) -> list[list[int]]:\n",
    "        return list(set(permutations(nums,len(nums))))\n",
    "        \n",
    "\n",
    "sol = Solution()\n",
    "nums = [1,1,2]\n",
    "sol.permuteUnique(nums)\n",
    "        "
   ]
  },
  {
   "cell_type": "markdown",
   "metadata": {},
   "source": [
    "## 🧠 [powx-n](https://leetcode.com/problems/powx-n/description/)"
   ]
  },
  {
   "cell_type": "code",
   "execution_count": null,
   "metadata": {},
   "outputs": [
    {
     "data": {
      "text/plain": [
       "1024.0"
      ]
     },
     "execution_count": 1,
     "metadata": {},
     "output_type": "execute_result"
    }
   ],
   "source": [
    "class Solution:\n",
    "    def myPow(self, x: float, n: int) -> float:\n",
    "        return x ** n\n",
    "\n",
    "sol = Solution()\n",
    "sol.myPow(x = 2.00000, n = 10)"
   ]
  },
  {
   "cell_type": "markdown",
   "metadata": {},
   "source": [
    "## 🧠 [product-of-array-except-self](https://leetcode.com/problems/product-of-array-except-self/submissions/1676195087/)"
   ]
  },
  {
   "cell_type": "code",
   "execution_count": null,
   "metadata": {},
   "outputs": [
    {
     "data": {
      "text/plain": [
       "[24, 12, 8, 6]"
      ]
     },
     "execution_count": 3,
     "metadata": {},
     "output_type": "execute_result"
    }
   ],
   "source": [
    "class Solution:\n",
    "    zeros = False\n",
    "    def productExceptSelf(self, nums: list[int]) -> list[int]:\n",
    "        Solution.zeros = False\n",
    "        number_of_zero = 0\n",
    "        result = 1\n",
    "        sol = []\n",
    "        for x in nums:\n",
    "            if x == 0:\n",
    "                number_of_zero +=1\n",
    "                Solution.zeros = True\n",
    "            else:\n",
    "                result *= x\n",
    "        #! ***************************************\n",
    "        \n",
    "        if number_of_zero > 1:\n",
    "                return [0] * len(nums)\n",
    "        \n",
    "        #! ***************************************\n",
    "        \n",
    "        for x in nums:\n",
    "            if Solution.zeros == True:\n",
    "                if x ==0:\n",
    "                    sol.append(result)\n",
    "                else:\n",
    "                    sol.append(0)\n",
    "            else:\n",
    "                sol.append(result//x)\n",
    "        return sol\n",
    "\n",
    "\n",
    "\n",
    "sol = Solution()\n",
    "nums=[1,2,3,4]\n",
    "sol.productExceptSelf(nums=nums)"
   ]
  }
 ],
 "metadata": {
  "kernelspec": {
   "display_name": "Python 3",
   "language": "python",
   "name": "python3"
  },
  "language_info": {
   "codemirror_mode": {
    "name": "ipython",
    "version": 3
   },
   "file_extension": ".py",
   "mimetype": "text/x-python",
   "name": "python",
   "nbconvert_exporter": "python",
   "pygments_lexer": "ipython3",
   "version": "3.13.1"
  }
 },
 "nbformat": 4,
 "nbformat_minor": 2
}
