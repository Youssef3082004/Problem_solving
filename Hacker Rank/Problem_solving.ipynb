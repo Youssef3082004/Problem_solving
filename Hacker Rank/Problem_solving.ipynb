{
 "cells": [
  {
   "cell_type": "markdown",
   "id": "5194b163",
   "metadata": {},
   "source": [
    "## 🧠 [mini-max-sum](https://www.hackerrank.com/challenges/mini-max-sum/problem?isFullScreen=true)"
   ]
  },
  {
   "cell_type": "code",
   "execution_count": 8,
   "id": "68693b24",
   "metadata": {},
   "outputs": [
    {
     "name": "stdout",
     "output_type": "stream",
     "text": [
      "10 14\n"
     ]
    }
   ],
   "source": [
    "def miniMaxSum(arr:list):\n",
    "    sorted_array =sorted(arr)\n",
    "    max_numbers = sorted_array[:4]\n",
    "    min_numbers = sorted_array[-4:]\n",
    "    print(sum(max_numbers),sum(min_numbers))\n",
    "\n",
    "\n",
    "miniMaxSum([1,2,3,4,5])\n"
   ]
  },
  {
   "cell_type": "markdown",
   "id": "b1c639bb",
   "metadata": {},
   "source": [
    "## 🧠 [diagonal-difference](https://www.hackerrank.com/challenges/diagonal-difference/problem?isFullScreen=true)"
   ]
  },
  {
   "cell_type": "code",
   "execution_count": null,
   "id": "269558f9",
   "metadata": {},
   "outputs": [
    {
     "name": "stdout",
     "output_type": "stream",
     "text": [
      "15\n"
     ]
    }
   ],
   "source": [
    "def diagonalDifference(arr:list):\n",
    "    max_index = len(arr)\n",
    "    dig,dig2 = 0 , 0\n",
    "    for ltr ,rtl in zip(range(0,max_index),range(max_index,0,-1)):\n",
    "        dig += arr[ltr][ltr]\n",
    "        dig2 += arr[ltr][rtl-1]\n",
    "\n",
    "    return abs(dig-dig2)\n",
    "\n",
    "\n",
    "\n",
    "arr = [[11, 2, 4], \n",
    "       [4, 5, 6], \n",
    "       [10, 8, -12]]\n",
    "result = diagonalDifference(arr)"
   ]
  },
  {
   "cell_type": "markdown",
   "id": "8a44e929",
   "metadata": {},
   "source": [
    "## 🧠 [plus-minus](https://www.hackerrank.com/challenges/plus-minus/problem?isFullScreen=true)"
   ]
  },
  {
   "cell_type": "code",
   "execution_count": 49,
   "id": "e9d17d82",
   "metadata": {},
   "outputs": [
    {
     "name": "stdout",
     "output_type": "stream",
     "text": [
      "0.500001\n",
      "0.333334\n",
      "0.166667\n"
     ]
    }
   ],
   "source": [
    "\n",
    "def plusMinus(arr:list):\n",
    "    N = len(arr)\n",
    "    negative_numbers = 0\n",
    "    postive_numbers = 0\n",
    "    Zeros = 0\n",
    "    for element in arr:\n",
    "        if  element  == 0:\n",
    "            Zeros += round(1/N,6)\n",
    "        elif  element  != abs(element):\n",
    "            negative_numbers += round(1/N,6)\n",
    "        elif element  == abs(element):\n",
    "            postive_numbers += round(1/N,6)\n",
    "    print(postive_numbers,negative_numbers,Zeros,sep=\"\\n\")\n",
    "\n",
    "\n",
    "arr = [-4, 3, -9, 0, 4, 1]\n",
    "plusMinus(arr)\n",
    "\n",
    "\n"
   ]
  },
  {
   "cell_type": "markdown",
   "id": "1d3e1f83",
   "metadata": {},
   "source": [
    "## 🧠 [Grading Students](https://www.hackerrank.com/challenges/grading/problem?isFullScreen=true)"
   ]
  },
  {
   "cell_type": "code",
   "execution_count": null,
   "id": "fe5d9e89",
   "metadata": {},
   "outputs": [
    {
     "name": "stdout",
     "output_type": "stream",
     "text": [
      "75\n",
      "67\n",
      "40\n",
      "33\n"
     ]
    }
   ],
   "source": [
    "import math \n",
    "\n",
    "def deifferenc(x:int):\n",
    "    return int(math.ceil(x / 5.0)) * 5 - x\n",
    "\n",
    "def ceil_to_multiple_of_five(x:int):\n",
    "    return int(math.ceil(x / 5.0)) * 5\n",
    "\n",
    "\n",
    "def gradingStudents(grades:list):\n",
    "    new_grades = []\n",
    "    for grade in grades:\n",
    "        multiple_of_five = deifferenc(grade)\n",
    "        if grade < 38:\n",
    "            new_grades.append(grade)\n",
    "            print(grade)\n",
    "            continue\n",
    "        elif multiple_of_five < 3:\n",
    "            new_grades.append(ceil_to_multiple_of_five(grade))\n",
    "\n",
    "        else:\n",
    "            new_grades.append(grade)\n",
    "    return new_grades\n",
    "\n",
    "grades = [73,67,38,33]\n",
    "gradingStudents(grades=grades)\n",
    "    "
   ]
  },
  {
   "cell_type": "markdown",
   "id": "12103e34",
   "metadata": {},
   "source": [
    "## 🧠 [Minimum Loss](https://www.hackerrank.com/challenges/minimum-loss/problem?isFullScreen=true)"
   ]
  },
  {
   "cell_type": "code",
   "execution_count": null,
   "id": "5988213d",
   "metadata": {},
   "outputs": [
    {
     "data": {
      "text/plain": [
       "2"
      ]
     },
     "execution_count": 34,
     "metadata": {},
     "output_type": "execute_result"
    }
   ],
   "source": [
    "def minimumLoss(prices:list):\n",
    "    indexed_prices = list(enumerate(prices))    \n",
    "    indexed_prices.sort(key=lambda x: x[1], reverse=True)\n",
    "    min_loss = float(\"inf\")\n",
    "    for iter in range(len(prices)-1):\n",
    "        current_postion = indexed_prices[iter]\n",
    "        next_postion = indexed_prices[iter + 1]\n",
    "\n",
    "        if current_postion[0] < next_postion[0]:\n",
    "            loss = current_postion[1] - next_postion[1]\n",
    "\n",
    "            if loss < min_loss:\n",
    "                min_loss = loss\n",
    "    return min_loss\n",
    "            \n",
    "\n",
    "price = [20,7,8,2,5]\n",
    "minimumLoss(prices=price)"
   ]
  },
  {
   "cell_type": "markdown",
   "id": "8899eaf6",
   "metadata": {},
   "source": [
    "## 🧠 [Extra Long Factorials](https://www.hackerrank.com/challenges/extra-long-factorials/problem?isFullScreen=true)"
   ]
  },
  {
   "cell_type": "code",
   "execution_count": null,
   "id": "b051bbd6",
   "metadata": {},
   "outputs": [
    {
     "data": {
      "text/plain": [
       "15511210043330985984000000"
      ]
     },
     "execution_count": 1,
     "metadata": {},
     "output_type": "execute_result"
    }
   ],
   "source": [
    "def extraLongFactorials(num:int):\n",
    "    if num == 1:\n",
    "        print(1) \n",
    "    else:\n",
    "        print(num * extraLongFactorials(num - 1))\n",
    "\n",
    "\n",
    "extraLongFactorials(25)"
   ]
  },
  {
   "cell_type": "markdown",
   "id": "6622315a",
   "metadata": {},
   "source": []
  },
  {
   "cell_type": "code",
   "execution_count": null,
   "id": "526c748e",
   "metadata": {},
   "outputs": [],
   "source": []
  }
 ],
 "metadata": {
  "kernelspec": {
   "display_name": "Python 3",
   "language": "python",
   "name": "python3"
  },
  "language_info": {
   "codemirror_mode": {
    "name": "ipython",
    "version": 3
   },
   "file_extension": ".py",
   "mimetype": "text/x-python",
   "name": "python",
   "nbconvert_exporter": "python",
   "pygments_lexer": "ipython3",
   "version": "3.13.1"
  }
 },
 "nbformat": 4,
 "nbformat_minor": 5
}
