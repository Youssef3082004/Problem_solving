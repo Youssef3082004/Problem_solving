{
 "cells": [
  {
   "cell_type": "markdown",
   "id": "63747d9e",
   "metadata": {},
   "source": [
    "## 🧠 [maximum-subarray-sum](https://www.hackerrank.com/challenges/maximum-subarray-sum/problem?isFullScreen=true)\n"
   ]
  },
  {
   "cell_type": "code",
   "execution_count": 1,
   "id": "7a49680a",
   "metadata": {},
   "outputs": [
    {
     "data": {
      "text/plain": [
       "4"
      ]
     },
     "execution_count": 1,
     "metadata": {},
     "output_type": "execute_result"
    }
   ],
   "source": [
    "def maximumSum(a, m):\n",
    "    prefixes = [(0, -1)]\n",
    "    for i in range(len(a)):\n",
    "        prefixes.append(((prefixes[-1][0] + a[i]) % m, i))\n",
    "    prefixes.sort()\n",
    "    maximum = prefixes[-1][0]\n",
    "    for (a, i1), (b, i2) in zip(prefixes[:-1], prefixes[1:]):\n",
    "        if b > a and i1 > i2:\n",
    "            maximum = max(maximum, (a - b) % m)\n",
    "    return maximum\n",
    "\n",
    "\n",
    "\n",
    "a = [1,5,9]\n",
    "maximumSum(a=a,m=5)"
   ]
  }
 ],
 "metadata": {
  "kernelspec": {
   "display_name": "Python 3",
   "language": "python",
   "name": "python3"
  },
  "language_info": {
   "codemirror_mode": {
    "name": "ipython",
    "version": 3
   },
   "file_extension": ".py",
   "mimetype": "text/x-python",
   "name": "python",
   "nbconvert_exporter": "python",
   "pygments_lexer": "ipython3",
   "version": "3.13.1"
  }
 },
 "nbformat": 4,
 "nbformat_minor": 5
}
