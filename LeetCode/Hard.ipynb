{
 "cells": [
  {
   "cell_type": "markdown",
   "id": "36555812",
   "metadata": {},
   "source": [
    "## 🧠 [contains-duplicate-iii](https://leetcode.com/problems/contains-duplicate-iii/description/)"
   ]
  },
  {
   "cell_type": "code",
   "execution_count": null,
   "id": "22a15c33",
   "metadata": {},
   "outputs": [],
   "source": [
    "class Solution:\n",
    "    def containsNearbyAlmostDuplicate(self, nums: list[int], indexDiff: int, valueDiff: int) -> bool:\n",
    "        pass\n",
    "        "
   ]
  }
 ],
 "metadata": {
  "kernelspec": {
   "display_name": "Python 3",
   "language": "python",
   "name": "python3"
  },
  "language_info": {
   "name": "python",
   "version": "3.13.1"
  }
 },
 "nbformat": 4,
 "nbformat_minor": 5
}
