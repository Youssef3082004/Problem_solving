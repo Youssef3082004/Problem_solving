{
 "cells": [
  {
   "cell_type": "code",
   "execution_count": null,
   "metadata": {},
   "outputs": [
    {
     "name": "stdout",
     "output_type": "stream",
     "text": [
      "[1, 2]\n"
     ]
    }
   ],
   "source": [
    "# https://leetcode.com/problems/two-sum/description/\n",
    "class Solution(object):\n",
    "    @staticmethod\n",
    "    def twoSum(nums:list[int], target:int):\n",
    "        target_list = [(x,y) for x in range(len(nums)) for y in range(len(nums)) if nums[x]+nums[y] == target and x!=y]\n",
    "        numbers = [num for tup in target_list for num in tup ]\n",
    "        print(list(set(numbers)))\n",
    "        return list(set(numbers))\n",
    "        \n",
    "\n",
    "\n",
    "\n",
    "c = Solution.twoSum([3,2,4],target=6)"
   ]
  },
  {
   "cell_type": "code",
   "execution_count": null,
   "metadata": {},
   "outputs": [
    {
     "name": "stdout",
     "output_type": "stream",
     "text": [
      "-321\n"
     ]
    }
   ],
   "source": [
    "# https://leetcode.com/problems/reverse-integer/submissions/1581704722/\n",
    "class Solution:\n",
    "    @staticmethod\n",
    "    def reverse(x:int) -> int:\n",
    "\n",
    "        try:\n",
    "            if str(x).startswith(\"-\"):\n",
    "                reversed_string = str(x).removeprefix(\"-\")[::-1]\n",
    "                return -int(reversed_string) if -(2**31) <= int(reversed_string)  <= (2**31 - 1) else 0\n",
    "            elif str(x).endswith(\"0\"):\n",
    "                reversed_string = str(x).removesuffix(\"0\")[::-1] \n",
    "                return int(reversed_string)  if -(2**31) <= int(reversed_string)  <= (2**31 - 1) else 0\n",
    "            else:\n",
    "                reversed_string = str(x)[::-1]\n",
    "                return int(reversed_string) if -(2**31) <= int(reversed_string)  <= (2**31 - 1) else 0\n",
    "        except ValueError:\n",
    "            return 0\n",
    "\n",
    "c = Solution.reverse(-123)\n",
    "print(c)"
   ]
  },
  {
   "cell_type": "code",
   "execution_count": null,
   "metadata": {},
   "outputs": [
    {
     "name": "stdout",
     "output_type": "stream",
     "text": [
      "Result: 7 -> 0 -> 8 -> None\n"
     ]
    }
   ],
   "source": [
    "#https://leetcode.com/problems/add-two-numbers/"
   ]
  },
  {
   "cell_type": "code",
   "execution_count": null,
   "metadata": {},
   "outputs": [
    {
     "data": {
      "text/plain": [
       "3"
      ]
     },
     "execution_count": 114,
     "metadata": {},
     "output_type": "execute_result"
    }
   ],
   "source": [
    "# https://leetcode.com/problems/longest-substring-without-repeating-characters/description/\n",
    "\n",
    "#! My Solution but time complexity is o(n3)\n",
    "class Solution:\n",
    "    @staticmethod\n",
    "    def lengthOfLongestSubstring(s:str) -> int:\n",
    "        try:\n",
    "            # number_of_substring =  (len(s) * (len(s) + 1)) // 2\n",
    "            max_len = len(s)\n",
    "            all_substring = []\n",
    "            for x in range(max_len + 1):\n",
    "                for y in range(max_len + 1):\n",
    "                    e = s[x:y]\n",
    "                    if s[x:y] !=\"\" and \"\".join(s[x:y]) in s  :\n",
    "                        all_substring.append(e if e in s and len(e) == len(set(e)) else \"\") \n",
    "                    else:\n",
    "                        continue\n",
    "            return len(max(all_substring,key=len))\n",
    "        except :\n",
    "            return 0\n",
    "#! Chatgpt time complexity solution is o(n)\n",
    "    def lengthOfLongestSubstring(s: str) -> int:\n",
    "        char_index = {}  # Stores last seen index of characters\n",
    "        left = 0  # Left boundary of sliding window\n",
    "        max_length = 0  # Tracks longest substring without repetition\n",
    "\n",
    "        for right, char in enumerate(s):\n",
    "            if char in char_index and char_index[char] >= left:\n",
    "                left = char_index[char] + 1  # Move left pointer to avoid repetition\n",
    "\n",
    "            char_index[char] = right  # Update last seen index of character\n",
    "            max_length = max(max_length, right - left + 1)\n",
    "            print(right)\n",
    "        return max_length\n",
    "        \n",
    "        \n",
    "       \n",
    "\n",
    "\n",
    "Solution.lengthOfLongestSubstring(s=\"abcabcbb\")\n",
    "        "
   ]
  },
  {
   "cell_type": "code",
   "execution_count": null,
   "metadata": {},
   "outputs": [],
   "source": [
    "# https://leetcode.com/problems/string-to-integer-atoi/\n",
    "# -024 , _____-024 ,  = 24 \n",
    "# 1337c0d3 = 1337\n",
    "# 0-1 = 0\n",
    "# words and 987 = 0\n",
    "# \"3.14159\" = 3.14159\n",
    "\n",
    "\n",
    "class Solution:\n",
    "    INT_MAX = 2**31 - 1\n",
    "    INT_MIN = -2**31\n",
    "\n",
    "    @staticmethod\n",
    "    def myAtoi(s: str) -> int:\n",
    "        s = s.lstrip()  \n",
    "        if not s:\n",
    "            return 0\n",
    "\n",
    "        sign = 1\n",
    "        index = 0\n",
    "        result = 0\n",
    "\n",
    "       \n",
    "        if s[index] == '+':\n",
    "            index += 1\n",
    "        elif s[index] == '-':\n",
    "            sign = -1\n",
    "            index += 1\n",
    "\n",
    "       \n",
    "        while index < len(s) and s[index].isdigit():\n",
    "            digit = int(s[index])\n",
    "           \n",
    "            if result > (Solution.INT_MAX - digit) // 10:\n",
    "                return Solution.INT_MAX if sign == 1 else Solution.INT_MIN\n",
    "\n",
    "            result = result * 10 + digit\n",
    "            index += 1\n",
    "\n",
    "        return sign * result\n"
   ]
  },
  {
   "cell_type": "code",
   "execution_count": null,
   "metadata": {},
   "outputs": [],
   "source": [
    "#https://leetcode.com/problems/roman-to-integer/description/"
   ]
  }
 ],
 "metadata": {
  "kernelspec": {
   "display_name": "Python 3",
   "language": "python",
   "name": "python3"
  },
  "language_info": {
   "codemirror_mode": {
    "name": "ipython",
    "version": 3
   },
   "file_extension": ".py",
   "mimetype": "text/x-python",
   "name": "python",
   "nbconvert_exporter": "python",
   "pygments_lexer": "ipython3",
   "version": "3.13.1"
  }
 },
 "nbformat": 4,
 "nbformat_minor": 2
}
