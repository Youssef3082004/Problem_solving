{
 "cells": [
  {
   "cell_type": "markdown",
   "id": "2d4f5a0b",
   "metadata": {},
   "source": [
    "## 🧠 [Add-Two-Numbers](https://leetcode.com/problems/add-two-numbers/)\n",
    "> [Solution Video](https://www.youtube.com/watch?v=DFDTaCGlzTY&t=7s)"
   ]
  },
  {
   "cell_type": "code",
   "execution_count": null,
   "id": "773f9cb8",
   "metadata": {},
   "outputs": [],
   "source": [
    "from typing import Optional\n",
    "\n",
    "class ListNode:\n",
    "    def __init__(self, val=0, next=None):\n",
    "        self.val = val\n",
    "        self.next = next\n",
    "\n",
    "class Solution:\n",
    "    def addTwoNumbers(self, l1: Optional[ListNode], l2: Optional[ListNode]) -> Optional[ListNode]:\n",
    "        dummy = ListNode()\n",
    "        res = dummy\n",
    "        carry = 0\n",
    "\n",
    "        while l1 or l2 or carry:\n",
    "            total = carry\n",
    "\n",
    "            if l1:\n",
    "                total += l1.val\n",
    "                l1 = l1.next\n",
    "            if l2:\n",
    "                total += l2.val\n",
    "                l2 = l2.next\n",
    "\n",
    "            #! if total sum two numbers is >= 10 \n",
    "            num = total % 10\n",
    "            carry = total // 10\n",
    "            dummy.next = ListNode(num)\n",
    "            dummy = dummy.next\n",
    "\n",
    "        return res.next\n",
    "\n",
    "\n",
    "l1 = ListNode(10, ListNode(5, ListNode(2, ListNode(7))))\n",
    "l2 = ListNode(1, ListNode(0, ListNode(0)))\n",
    "\n",
    "sol = Solution()\n",
    "result = sol.addTwoNumbers(l1, l2)\n",
    "\n",
    "nodes = []\n",
    "while result:\n",
    "    nodes.append(result.val)\n",
    "\n",
    "    result = result.next\n",
    "\n",
    "print(nodes)\n"
   ]
  },
  {
   "cell_type": "markdown",
   "id": "f050a202",
   "metadata": {},
   "source": [
    "## 🧠 [Median of Two Sorted Arrays](https://leetcode.com/problems/median-of-two-sorted-arrays/description/)"
   ]
  },
  {
   "cell_type": "code",
   "execution_count": null,
   "id": "d853a816",
   "metadata": {},
   "outputs": [],
   "source": [
    "class Solution:\n",
    "    def findMedianSortedArrays(self, nums1: list[int], nums2: list[int]) -> float:\n",
    "        nums = sorted(nums1 + nums2)\n",
    "        n = len(nums)\n",
    "        if n % 2 == 1:\n",
    "            return float(nums[n // 2])\n",
    "        else:\n",
    "            return (nums[n // 2 - 1] + nums[n // 2]) / 2\n",
    "\n",
    "\n",
    "sol = Solution()\n",
    "sol.findMedianSortedArrays([1,2],[3,4])\n"
   ]
  },
  {
   "cell_type": "markdown",
   "id": "d1fbeaeb",
   "metadata": {},
   "source": [
    "## 🧠 [container with most water](https://leetcode.com/problems/container-with-most-water/description/)\n"
   ]
  },
  {
   "cell_type": "code",
   "execution_count": null,
   "id": "b8ac381d",
   "metadata": {},
   "outputs": [],
   "source": [
    "class Solution:\n",
    "    def maxArea(self, height: list[int]) -> int:\n",
    "        left = 0\n",
    "        right = len(height) - 1\n",
    "        max_area = 0\n",
    "\n",
    "        while left < right:\n",
    "            width = right - left\n",
    "            area = min(height[left], height[right]) * width\n",
    "            max_area = max(max_area, area)\n",
    "\n",
    "            if height[left] < height[right]:\n",
    "                left += 1\n",
    "            else:\n",
    "                right -= 1\n",
    "\n",
    "        return max_area\n",
    "\n",
    "            \n",
    "\n",
    "sol = Solution()\n",
    "sol.maxArea(height=[1,2,1])"
   ]
  },
  {
   "cell_type": "markdown",
   "id": "82f4a30b",
   "metadata": {},
   "source": [
    "## 🧠 [reverse-integer](https://leetcode.com/problems/reverse-integer/description/)\n"
   ]
  },
  {
   "cell_type": "code",
   "execution_count": null,
   "id": "d7348bba",
   "metadata": {},
   "outputs": [],
   "source": [
    "class Solution:\n",
    "    @staticmethod\n",
    "    def reverse(x:int) -> int:\n",
    "\n",
    "        try:\n",
    "            if str(x).startswith(\"-\"):\n",
    "                reversed_string = str(x).removeprefix(\"-\")[::-1]\n",
    "                return -int(reversed_string) if -(2**31) <= int(reversed_string)  <= (2**31 - 1) else 0\n",
    "            elif str(x).endswith(\"0\"):\n",
    "                reversed_string = str(x).removesuffix(\"0\")[::-1] \n",
    "                return int(reversed_string)  if -(2**31) <= int(reversed_string)  <= (2**31 - 1) else 0\n",
    "            else:\n",
    "                reversed_string = str(x)[::-1]\n",
    "                return int(reversed_string) if -(2**31) <= int(reversed_string)  <= (2**31 - 1) else 0\n",
    "        except ValueError:\n",
    "            return 0\n",
    "\n",
    "c = Solution.reverse(-123)\n",
    "print(c)"
   ]
  },
  {
   "cell_type": "markdown",
   "id": "dda8f844",
   "metadata": {},
   "source": [
    "### 🧠 [longest-substring-without-repeating-characters](https://leetcode.com/problems/longest-substring-without-repeating-characters/description/)\n"
   ]
  },
  {
   "cell_type": "code",
   "execution_count": null,
   "id": "85b29010",
   "metadata": {},
   "outputs": [],
   "source": [
    "#! My Solution but time complexity is o(n3)\n",
    "class Solution:\n",
    "    @staticmethod\n",
    "    def lengthOfLongestSubstring(s:str) -> int:\n",
    "        try:\n",
    "            # number_of_substring =  (len(s) * (len(s) + 1)) // 2\n",
    "            max_len = len(s)\n",
    "            all_substring = []\n",
    "            for x in range(max_len + 1):\n",
    "                for y in range(max_len + 1):\n",
    "                    e = s[x:y]\n",
    "                    if s[x:y] !=\"\" and \"\".join(s[x:y]) in s  :\n",
    "                        all_substring.append(e if e in s and len(e) == len(set(e)) else \"\") \n",
    "                    else:\n",
    "                        continue\n",
    "            return len(max(all_substring,key=len))\n",
    "        except :\n",
    "            return 0\n",
    "        \n",
    "#! Chatgpt time complexity solution is o(n)\n",
    "    def lengthOfLongestSubstring(s: str) -> int:\n",
    "        char_index = {}  # Stores last seen index of characters\n",
    "        left = 0  # Left boundary of sliding window\n",
    "        max_length = 0  # Tracks longest substring without repetition\n",
    "\n",
    "        for right, char in enumerate(s):\n",
    "            if char in char_index and char_index[char] >= left:\n",
    "                left = char_index[char] + 1  # Move left pointer to avoid repetition\n",
    "\n",
    "            char_index[char] = right  # Update last seen index of character\n",
    "            max_length = max(max_length, right - left + 1)\n",
    "            print(right)\n",
    "        return max_length\n",
    "        \n",
    "        \n",
    "       \n",
    "\n",
    "Solution.lengthOfLongestSubstring(s=\"abcabcbb\")\n",
    "        "
   ]
  },
  {
   "cell_type": "markdown",
   "id": "67bde47c",
   "metadata": {},
   "source": [
    "### 🧠 [string-to-integer-atoi](https://leetcode.com/problems/string-to-integer-atoi/)"
   ]
  },
  {
   "cell_type": "code",
   "execution_count": null,
   "id": "8a085ade",
   "metadata": {},
   "outputs": [],
   "source": [
    "class Solution:\n",
    "    INT_MAX = 2**31 - 1\n",
    "    INT_MIN = -2**31\n",
    "\n",
    "    @staticmethod\n",
    "    def myAtoi(s: str) -> int:\n",
    "        s = s.lstrip()  \n",
    "        if not s:\n",
    "            return 0\n",
    "\n",
    "        sign = 1\n",
    "        index = 0\n",
    "        result = 0\n",
    "\n",
    "       \n",
    "        if s[index] == '+':\n",
    "            index += 1\n",
    "        elif s[index] == '-':\n",
    "            sign = -1\n",
    "            index += 1\n",
    "\n",
    "       \n",
    "        while index < len(s) and s[index].isdigit():\n",
    "            digit = int(s[index])\n",
    "           \n",
    "            if result > (Solution.INT_MAX - digit) // 10:\n",
    "                return Solution.INT_MAX if sign == 1 else Solution.INT_MIN\n",
    "\n",
    "            result = result * 10 + digit\n",
    "            index += 1\n",
    "\n",
    "        return sign * result\n"
   ]
  },
  {
   "cell_type": "markdown",
   "id": "ec50570a",
   "metadata": {},
   "source": [
    "### 🧠 [integer-to-roman](#https://leetcode.com/problems/integer-to-roman/description/)\n",
    "- [Solution](https://leetcode.com/problems/integer-to-roman/solutions/6034491/creating-mappings-bonus-coding/)"
   ]
  },
  {
   "cell_type": "code",
   "execution_count": null,
   "id": "1937e761",
   "metadata": {},
   "outputs": [],
   "source": [
    "class Solution:\n",
    "    Roman_num = [\n",
    "            (1000, 'M'), (900, 'CM'), (500, 'D'), (400, 'CD'),\n",
    "            (100, 'C'), (90, 'XC'), (50, 'L'), (40, 'XL'), (10, 'X'),\n",
    "            (9, 'IX'), (5, 'V'), (4, 'IV'), (1, 'I')]\n",
    "\n",
    "    def intToRoman(self, num: int) -> str:\n",
    "        res = []\n",
    "\n",
    "        for value,Symbol in Solution.Roman_num:\n",
    "            if num == 0 :\n",
    "                break\n",
    "            count = num // value\n",
    "            res.append(Symbol * count)\n",
    "            num = num - (count * value)\n",
    "        return ''.join(res)\n",
    "\n",
    "\n",
    "sol = Solution()\n",
    "sol.intToRoman(num=1025)"
   ]
  },
  {
   "cell_type": "markdown",
   "id": "e75e474b",
   "metadata": {},
   "source": [
    "### 🧠 [letter-combinations-of-a-phone-number](https://leetcode.com/problems/letter-combinations-of-a-phone-number/description/)\n"
   ]
  },
  {
   "cell_type": "code",
   "execution_count": null,
   "id": "f6244d3e",
   "metadata": {},
   "outputs": [],
   "source": [
    "class Solution:\n",
    "    digit_letter = {\n",
    "        '2': ['a', 'b', 'c'],\n",
    "        '3': ['d', 'e', 'f'],\n",
    "        '4': ['g', 'h', 'i'],\n",
    "        '5': ['j', 'k', 'l'],\n",
    "        '6': ['m', 'n', 'o'],\n",
    "        '7': ['p', 'q', 'r', 's'],\n",
    "        '8': ['t', 'u', 'v'],\n",
    "        '9': ['w', 'x', 'y', 'z']\n",
    "        \n",
    "        }\n",
    "    def letterCombinations(self, digits: str) -> list[str]:\n",
    "        digits = list(digits)\n",
    "        choosed_letters = []\n",
    "\n",
    "        if len(digits) == 0:\n",
    "                return []\n",
    "        \n",
    "        for x in digits:\n",
    "            choosed_letters.append(Solution.digit_letter[x])\n",
    "        \n",
    "        if len(digits) == 1:\n",
    "            return choosed_letters[0]\n",
    "    \n",
    "        elif len(digits) == 2:\n",
    "            first = choosed_letters[0]\n",
    "            second =choosed_letters[1]\n",
    "            return  [f\"{x}{y}\" for x in first for y in second ]\n",
    "\n",
    "        elif len(digits) == 3:\n",
    "            first = choosed_letters[0]\n",
    "            second =choosed_letters[1]\n",
    "            third = choosed_letters[2]\n",
    "            return  [f\"{x}{y}{m}\" for x in first for y in second for m in third ]\n",
    "\n",
    "        elif len(digits) == 4:\n",
    "            first = choosed_letters[0]\n",
    "            second =choosed_letters[1]\n",
    "            third = choosed_letters[2]\n",
    "            fourth = choosed_letters[3]\n",
    "            return  [f\"{x}{y}{m}{z}\" for x in first for y in second for m in third for z in fourth]\n",
    "\n",
    "\n",
    "        \n",
    "\n",
    "sol = Solution()\n",
    "sol.letterCombinations(\"\")\n",
    "        "
   ]
  },
  {
   "cell_type": "markdown",
   "id": "9d9ae788",
   "metadata": {},
   "source": [
    "### 🧠 [3-Sum](https://leetcode.com/problems/3sum/description/?envType=problem-list-v2&envId=array)\n"
   ]
  },
  {
   "cell_type": "code",
   "execution_count": null,
   "id": "4cc1740d",
   "metadata": {},
   "outputs": [],
   "source": [
    "class Solution:\n",
    "    def threeSum(self, nums: list[int]) -> list[list[int]]:\n",
    "        nums.sort()\n",
    "        solution = []\n",
    "\n",
    "        for i in range(len(nums)-2):\n",
    "            if i > 0 and nums[i] == nums[i - 1]:\n",
    "                continue\n",
    "            left, right = i + 1, len(nums) - 1\n",
    "            \n",
    "            while right > left:\n",
    "                total = nums[i] + nums[left] + nums[right]\n",
    "\n",
    "                if total == 0:\n",
    "                    solution.append([nums[i], nums[left], nums[right]])\n",
    "                    \n",
    "                    while left < right and nums[left] == nums[left + 1]:\n",
    "                        left += 1\n",
    "                    while left < right and nums[right] == nums[right - 1]:\n",
    "                        right -= 1\n",
    "\n",
    "                    left += 1\n",
    "                    right -= 1\n",
    "                elif total < 0:\n",
    "                    left += 1\n",
    "                else:\n",
    "                    right -= 1\n",
    "        return solution\n",
    "\n",
    "\n",
    "\n",
    "\n",
    "\n",
    "sol = Solution()\n",
    "sol.threeSum([-1,0,1,2,-1,-4])\n",
    "        "
   ]
  },
  {
   "cell_type": "markdown",
   "id": "8063a1ce",
   "metadata": {},
   "source": [
    "## 🧠 [permutations](https://leetcode.com/problems/permutations/description/)"
   ]
  },
  {
   "cell_type": "code",
   "execution_count": null,
   "id": "86c519e3",
   "metadata": {},
   "outputs": [],
   "source": [
    "from itertools import permutations\n",
    "\n",
    "class Solution:\n",
    "    def permute(self, nums: list[int]) -> list[list[int]]:\n",
    "        return list(permutations(nums,len(nums)))\n",
    "        \n",
    "\n",
    "\n",
    "sol = Solution()\n",
    "nums = [1,2,3]\n",
    "sol.permute(nums)\n",
    "        "
   ]
  },
  {
   "cell_type": "markdown",
   "id": "247d0901",
   "metadata": {},
   "source": [
    "## 🧠 [permutations-ii](https://leetcode.com/problems/permutations/description/)"
   ]
  },
  {
   "cell_type": "code",
   "execution_count": null,
   "id": "ce25317c",
   "metadata": {},
   "outputs": [],
   "source": [
    "from itertools import permutations\n",
    "\n",
    "class Solution:\n",
    "    def permuteUnique(self, nums: list[int]) -> list[list[int]]:\n",
    "        return list(set(permutations(nums,len(nums))))\n",
    "        \n",
    "\n",
    "sol = Solution()\n",
    "nums = [1,1,2]\n",
    "sol.permuteUnique(nums)\n",
    "        "
   ]
  },
  {
   "cell_type": "markdown",
   "id": "4422030f",
   "metadata": {},
   "source": [
    "## 🧠 [powx-n](https://leetcode.com/problems/powx-n/description/)"
   ]
  },
  {
   "cell_type": "code",
   "execution_count": null,
   "id": "2a0547dd",
   "metadata": {},
   "outputs": [],
   "source": [
    "class Solution:\n",
    "    def myPow(self, x: float, n: int) -> float:\n",
    "        return x ** n\n",
    "\n",
    "sol = Solution()\n",
    "sol.myPow(x = 2.00000, n = 10)"
   ]
  },
  {
   "cell_type": "markdown",
   "id": "bec432df",
   "metadata": {},
   "source": [
    "## 🧠 [product-of-array-except-self](https://leetcode.com/problems/product-of-array-except-self/submissions/1676195087/)"
   ]
  },
  {
   "cell_type": "code",
   "execution_count": null,
   "id": "f1a8c113",
   "metadata": {},
   "outputs": [],
   "source": [
    "class Solution:\n",
    "    zeros = False\n",
    "    def productExceptSelf(self, nums: list[int]) -> list[int]:\n",
    "        Solution.zeros = False\n",
    "        number_of_zero = 0\n",
    "        result = 1\n",
    "        sol = []\n",
    "        for x in nums:\n",
    "            if x == 0:\n",
    "                number_of_zero +=1\n",
    "                Solution.zeros = True\n",
    "            else:\n",
    "                result *= x\n",
    "        #! ***************************************\n",
    "        \n",
    "        if number_of_zero > 1:\n",
    "                return [0] * len(nums)\n",
    "        \n",
    "        #! ***************************************\n",
    "        \n",
    "        for x in nums:\n",
    "            if Solution.zeros == True:\n",
    "                if x ==0:\n",
    "                    sol.append(result)\n",
    "                else:\n",
    "                    sol.append(0)\n",
    "            else:\n",
    "                sol.append(result//x)\n",
    "        return sol\n",
    "\n",
    "\n",
    "\n",
    "sol = Solution()\n",
    "nums=[1,2,3,4]\n",
    "sol.productExceptSelf(nums=nums)"
   ]
  },
  {
   "cell_type": "markdown",
   "id": "49b8b944",
   "metadata": {},
   "source": [
    "## 🧠 [combinations](https://leetcode.com/problems/combinations/)"
   ]
  },
  {
   "cell_type": "code",
   "execution_count": null,
   "id": "d2c8d384",
   "metadata": {},
   "outputs": [],
   "source": [
    "from itertools import combinations\n",
    "class Solution:\n",
    "    def combine(self, n: int, k: int) -> list[list[int]]:\n",
    "        numbers = [x for x in range(1,n+1)]\n",
    "        \n",
    "        return list(combinations(numbers,k))"
   ]
  },
  {
   "cell_type": "markdown",
   "id": "2f616535",
   "metadata": {},
   "source": [
    "## 🧠 [Single-number-ii](https://leetcode.com/problems/single-number-ii/description/)"
   ]
  },
  {
   "cell_type": "code",
   "execution_count": null,
   "id": "b4ff5fea",
   "metadata": {},
   "outputs": [],
   "source": [
    "class Solution:\n",
    "    def singleNumber(self, nums: list[int]) -> int:\n",
    "        frequancy = {}\n",
    "\n",
    "        for num in nums:\n",
    "            if num not in frequancy:\n",
    "                frequancy[num] = 1\n",
    "            else:\n",
    "                frequancy[num] += 1\n",
    "                if frequancy[num] == 3:\n",
    "                    del frequancy[num]\n",
    "        \n",
    "\n",
    "        return list(frequancy.keys())[0]\n",
    "\n",
    "\n",
    "\n",
    "sol = Solution()\n",
    "nums = [2,2,3,2]\n",
    "sol.singleNumber(nums)"
   ]
  },
  {
   "cell_type": "markdown",
   "id": "01b320dd",
   "metadata": {},
   "source": [
    "## 🧠 [Word Break](https://leetcode.com/problems/word-break/)"
   ]
  },
  {
   "cell_type": "code",
   "execution_count": null,
   "id": "14b3f7e8",
   "metadata": {},
   "outputs": [],
   "source": [
    "class Solution:\n",
    "    def wordBreak(self, s: str, wordDict: list[str]) -> bool:\n",
    "        wordDict = set(wordDict)  \n",
    "        n = len(s)\n",
    "        dp = [False] * (n + 1)\n",
    "        dp[0] = True  \n",
    "\n",
    "        for i in range(1, n + 1):\n",
    "            for j in range(i):\n",
    "                if dp[j] and s[j:i] in wordDict:\n",
    "                    dp[i] = True\n",
    "                    break\n",
    "\n",
    "        return dp[n]\n",
    "\n",
    "\n",
    "\n",
    "sol = Solution()\n",
    "s= \"abcd\"\n",
    "wordDict = [\"a\",\"abc\",\"b\",\"cd\"]\n",
    "\n",
    "s = \"dogs\"\n",
    "wordDict =[\"dog\",\"s\",\"gs\"]\n",
    "sol.wordBreak(s,wordDict)"
   ]
  },
  {
   "cell_type": "markdown",
   "id": "ebbe2e19",
   "metadata": {},
   "source": [
    "## 🧠 [tuple-with-same-product](https://leetcode.com/problems/tuple-with-same-product/description/?envType=daily-question&envId=2025-07-01)\n",
    "\n",
    "### Time Complexity = $O(n^4)$\n",
    "\n",
    "```python \n",
    "from itertools import permutations\n",
    "class Solution:\n",
    "    def tupleSameProduct(self, nums: list[int]) -> int:\n",
    "        solutions = list(permutations(nums,4))\n",
    "        solutions = map(lambda a : (a[0]*a[1]) == (a[2]*a[3]) ,solutions)\n",
    "        return len([sol for sol in solutions if sol == True])\n",
    "```"
   ]
  },
  {
   "cell_type": "code",
   "execution_count": null,
   "id": "f12df633",
   "metadata": {},
   "outputs": [],
   "source": [
    "from collections import defaultdict\n",
    "class Solution:\n",
    "    def tupleSameProduct(self, nums: list[int]) -> int:\n",
    "        product_count = defaultdict(int)\n",
    "        \n",
    "        n = len(nums)\n",
    "        for i in range(n):\n",
    "            for j in range(i + 1, n):\n",
    "                product = nums[i] * nums[j]\n",
    "                product_count[product] += 1\n",
    "        \n",
    "        result = 0\n",
    "        for count in product_count.values():\n",
    "            if count >= 2:\n",
    "                result += count * (count - 1) // 2 * 8\n",
    "        \n",
    "        return result\n",
    "    \n",
    "\n",
    "sol = Solution()\n",
    "nums = [2,3,4,6]\n",
    "sol.tupleSameProduct(nums)\n",
    "\n"
   ]
  },
  {
   "cell_type": "markdown",
   "id": "83cd04d7",
   "metadata": {},
   "source": [
    "## 🧠 [maximum-subarray](https://leetcode.com/problems/maximum-subarray/)"
   ]
  },
  {
   "cell_type": "code",
   "execution_count": null,
   "id": "55afd920",
   "metadata": {},
   "outputs": [],
   "source": [
    "class Solution:\n",
    "    def maxSubArray(self, nums: list[int]) -> int:\n",
    "        current_sum  = max_sum = nums[0]\n",
    "\n",
    "        for num in range(1,len(nums)):\n",
    "            current_sum = max(nums[num],current_sum + nums[num])\n",
    "            max_sum = max(current_sum , max_sum)\n",
    "\n",
    "        return max_sum\n",
    "\n",
    "\n",
    "sol = Solution()\n",
    "nums = [-2,1,-3,4,-1,2,1,-5,4]\n",
    "sol.maxSubArray(nums)\n",
    "        "
   ]
  },
  {
   "cell_type": "markdown",
   "id": "2fbfed9c",
   "metadata": {},
   "source": [
    "## 🧠 [find-peak-element](https://leetcode.com/problems/find-peak-element/)"
   ]
  },
  {
   "cell_type": "code",
   "execution_count": null,
   "id": "6e6aaeb8",
   "metadata": {},
   "outputs": [],
   "source": [
    "class Solution:\n",
    "    def findPeakElement(self, nums: list[int]) -> int:\n",
    "        left ,right = 0 , len(nums) - 1\n",
    "\n",
    "        while right >= left:\n",
    "            m = (left+right) // 2\n",
    "\n",
    "            \n",
    "            if nums[m] > nums[m+1]:\n",
    "                right = m \n",
    "            else:\n",
    "                left = m +1 \n",
    "        \n",
    "        return left\n",
    "\n",
    "\n",
    "\n",
    "sol = Solution()\n",
    "nums = [3,4,3,2,1]\n",
    "sol.findPeakElement(nums)"
   ]
  },
  {
   "cell_type": "markdown",
   "id": "e148cb1c",
   "metadata": {},
   "source": [
    "## 🧠 [count-primes](https://leetcode.com/problems/count-primes/description/)"
   ]
  },
  {
   "cell_type": "code",
   "execution_count": null,
   "id": "55491e76",
   "metadata": {},
   "outputs": [],
   "source": [
    "class Solution:\n",
    "    def countPrimes(self, n: int) -> int:\n",
    "        if n <= 2:\n",
    "            return 0\n",
    "        \n",
    "        # Initialize a list indicating primality for numbers 0 to n-1.\n",
    "        is_prime = [True] * n\n",
    "        is_prime[0] = is_prime[1] = False\n",
    "        \n",
    "        count = 0\n",
    "        for i in range(2, n):\n",
    "            if is_prime[i]:\n",
    "                count += 1\n",
    "                # Mark multiples of i starting from i*i as not prime.\n",
    "                for j in range(i * i, n, i):\n",
    "                    is_prime[j] = False\n",
    "        return count\n",
    "\n",
    "\n",
    "\n",
    "sol = Solution()\n",
    "sol.countPrimes(n=10)"
   ]
  },
  {
   "cell_type": "markdown",
   "id": "6a6b4bde",
   "metadata": {},
   "source": [
    "## 🧠 [rotate-array](https://leetcode.com/problems/rotate-array/description/)"
   ]
  },
  {
   "cell_type": "code",
   "execution_count": null,
   "id": "455dd807",
   "metadata": {},
   "outputs": [],
   "source": [
    "class Solution:\n",
    "    def rotate(self, nums: list[int], k: int) -> None:\n",
    "       \n",
    "        for _ in range(k):\n",
    "           last_element = nums.pop(-1)\n",
    "           nums.insert(0,last_element)\n",
    "\n",
    "        return nums\n",
    "\n",
    "sol = Solution()\n",
    "nums = [1,2,3,4,5,6,7]\n",
    "k = 3\n",
    "sol.rotate(nums,k)\n",
    "        "
   ]
  },
  {
   "cell_type": "markdown",
   "id": "22562a04",
   "metadata": {},
   "source": [
    "## 🧠 [find-the-duplicate-numberarrays](https://leetcode.com/problems/find-the-duplicate-number/description/)"
   ]
  },
  {
   "cell_type": "code",
   "execution_count": null,
   "id": "d7d2ccb3",
   "metadata": {},
   "outputs": [],
   "source": [
    "class Solution:\n",
    "    def findDuplicate(self, nums: list[int]) -> int:\n",
    "        numbers = set()\n",
    "\n",
    "        for number in nums:\n",
    "            if number in numbers:\n",
    "                return number\n",
    "            else:\n",
    "                numbers.add(number)\n",
    "\n",
    "\n",
    "\n",
    "sol = Solution()\n",
    "nums = [3,3,3,3,3]\n",
    "sol.findDuplicate(nums)"
   ]
  },
  {
   "cell_type": "markdown",
   "id": "48486781",
   "metadata": {},
   "source": [
    "## 🧠 [maximum-swap](https://leetcode.com/problems/maximum-swap/)"
   ]
  },
  {
   "cell_type": "code",
   "execution_count": null,
   "id": "acc9f333",
   "metadata": {},
   "outputs": [],
   "source": [
    "class Solution:\n",
    "    def maximumSwap(self, num: int) -> int:\n",
    "        pass"
   ]
  }
 ],
 "metadata": {
  "kernelspec": {
   "display_name": "Python 3",
   "language": "python",
   "name": "python3"
  },
  "language_info": {
   "name": "python",
   "version": "3.13.1"
  }
 },
 "nbformat": 4,
 "nbformat_minor": 5
}
