{
 "cells": [
  {
   "cell_type": "markdown",
   "id": "5194b163",
   "metadata": {},
   "source": [
    "## 🧠 [mini-max-sum](https://www.hackerrank.com/challenges/mini-max-sum/problem?isFullScreen=true)"
   ]
  },
  {
   "cell_type": "code",
   "execution_count": 8,
   "id": "68693b24",
   "metadata": {},
   "outputs": [
    {
     "name": "stdout",
     "output_type": "stream",
     "text": [
      "10 14\n"
     ]
    }
   ],
   "source": [
    "def miniMaxSum(arr:list):\n",
    "    sorted_array =sorted(arr)\n",
    "    max_numbers = sorted_array[:4]\n",
    "    min_numbers = sorted_array[-4:]\n",
    "    print(sum(max_numbers),sum(min_numbers))\n",
    "\n",
    "\n",
    "miniMaxSum([1,2,3,4,5])\n"
   ]
  },
  {
   "cell_type": "markdown",
   "id": "b1c639bb",
   "metadata": {},
   "source": []
  },
  {
   "cell_type": "code",
   "execution_count": null,
   "id": "269558f9",
   "metadata": {},
   "outputs": [],
   "source": []
  }
 ],
 "metadata": {
  "kernelspec": {
   "display_name": "Python 3",
   "language": "python",
   "name": "python3"
  },
  "language_info": {
   "codemirror_mode": {
    "name": "ipython",
    "version": 3
   },
   "file_extension": ".py",
   "mimetype": "text/x-python",
   "name": "python",
   "nbconvert_exporter": "python",
   "pygments_lexer": "ipython3",
   "version": "3.13.1"
  }
 },
 "nbformat": 4,
 "nbformat_minor": 5
}
